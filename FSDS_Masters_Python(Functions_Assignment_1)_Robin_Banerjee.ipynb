{
  "nbformat": 4,
  "nbformat_minor": 0,
  "metadata": {
    "colab": {
      "provenance": []
    },
    "kernelspec": {
      "name": "python3",
      "display_name": "Python 3"
    },
    "language_info": {
      "name": "python"
    }
  },
  "cells": [
    {
      "cell_type": "markdown",
      "source": [
        "1. In Python, what is the difference between a built-in function and a user-defined function? Provide an\n",
        "example of each."
      ],
      "metadata": {
        "id": "b3YSxFaGH4Gi"
      }
    },
    {
      "cell_type": "markdown",
      "source": [
        "Built-in Function:\n",
        "- Built-in functions are pre-defined functions provided by Python itself.\n",
        "- They are available for use without requiring any additional definitions or imports.\n",
        "- Examples include len(), print(), sum(), max(), min(), etc.\n",
        "```\n",
        "numbers = [1, 2, 3, 4, 5]\n",
        "total_sum = sum(numbers) # sum is build-in func\n",
        "print(total_sum)  # Output: 15\n",
        "```\n",
        "\n",
        "User-Defined Function:\n",
        "- User-defined functions are functions created by the user to perform specific tasks.\n",
        "- They are defined using the `def` keyword followed by the function name and a block of code.\n",
        "- They can be customized to perform specific operations as needed by the programmer.\n",
        "```\n",
        "def greet(name):\n",
        "    return f\"Hello {name}\"\n",
        "person_name = \"Robin\"\n",
        "greeting = greet(person_name) # greet is user-defined function\n",
        "print(greeting)  # Output: Hello Robin\n",
        "```"
      ],
      "metadata": {
        "id": "_trpP5GGetpK"
      }
    },
    {
      "cell_type": "markdown",
      "source": [
        "2. How can you pass arguments to a function in Python? Explain the difference between positional arguments and keyword arguments"
      ],
      "metadata": {
        "id": "zfT8pVqaIce6"
      }
    },
    {
      "cell_type": "markdown",
      "source": [
        "There are two ways to pass arguments to a function in Python: positional arguments and keyword arguments.\n",
        "\n",
        "- Positional arguments are arguments that are passed to a function in the order that they are defined in the function's definition.\n",
        "```\n",
        "def greet(name, age):\n",
        "    print(f\"hello {name}, u are {age} years old\")\n",
        "greet(\"robin\", 30)  # Output: hello robin, u are 30 years old\n",
        "```\n",
        "\n",
        "- Keyword arguments are arguments that are passed to a function by name. Keyword arguments are often used when the order of the arguments does not matter.\n",
        "```\n",
        "def greet(name, age):\n",
        "    print(f\"hello {name}, u are {age} years old\")\n",
        "greet(age=30, name=\"robin\")  # Output: hello robin, u are 30 years old\n",
        "```"
      ],
      "metadata": {
        "id": "o-ZOTh7OpHtd"
      }
    },
    {
      "cell_type": "markdown",
      "source": [
        "3. What is the purpose of the return statement in a function? Can a function have multiple return statements? Explain with an example.\n"
      ],
      "metadata": {
        "id": "ZGs-dxxKIhUd"
      }
    },
    {
      "cell_type": "markdown",
      "source": [
        "The return statement in a function serves the purpose of sending a value back from the function to the code that called it. It marks the end of the function's execution and provides a value that can be used further in the program.\n",
        "\n",
        "A function can have multiple return statements. However, once a return statement is encountered, the function's execution terminates, and the specified value is returned. Subsequent return statements won't be executed.\n",
        "```\n",
        "def calculate_grade(score):\n",
        "  if score >= 90:\n",
        "    return 'A'\n",
        "  elif score >= 80:\n",
        "    return 'B'\n",
        "  elif score >= 70:\n",
        "    return 'C'\n",
        "  else:\n",
        "    return 'D'\n",
        "```\n",
        "The calculate_grade() function has four return statements. In this case, the last return statement will be executed if the student's score is less than 70. The other three return statements will be ignored."
      ],
      "metadata": {
        "id": "PelGjBKiuX3Q"
      }
    },
    {
      "cell_type": "markdown",
      "source": [
        "4. What are lambda functions in Python? How are they different from regular functions? Provide an example where a lambda function can be useful."
      ],
      "metadata": {
        "id": "0CkOhS5RInDz"
      }
    },
    {
      "cell_type": "markdown",
      "source": [
        "Lambda functions, also known as anonymous functions, are small and anonymous (unnamed) functions in Python. They are defined using the lambda keyword and are used when you need a simple function for a short period without the need to define a formal function using the def keyword.\n",
        "\n",
        "- Syntax:\n",
        "Lambda functions are defined using the lambda keyword followed by the function's arguments and an expression. Regular functions are defined using the def keyword followed by the function name, arguments in parentheses, a colon, and the function body.\n",
        "\n",
        "- Function Name: Lambda functions are anonymous functions, meaning they don't have a formal name. Regular functions have a name that you can use to call the function from anywhere in the code.\n",
        "\n",
        "- Return Value: Lambda functions can only consist of a single expression and implicitly return the result of that expression. Regular functions can contain multiple statements and can explicitly use the return keyword to return a value."
      ],
      "metadata": {
        "id": "d7uecGT3wmwA"
      }
    },
    {
      "cell_type": "code",
      "source": [
        "# Regular function to calculate the square of a number\n",
        "def square(x):\n",
        "    return x * x\n",
        "\n",
        "# Lambda function to calculate the square of a number\n",
        "square_lambda = lambda x: x * x\n",
        "\n",
        "# Using regular and lambda functions\n",
        "num = 5\n",
        "print(\"Square of 5 using regular function:\", square(num))\n",
        "print(\"Square of 5 using lambda function:\", square_lambda(num))"
      ],
      "metadata": {
        "colab": {
          "base_uri": "https://localhost:8080/"
        },
        "id": "D1yogM11zfWr",
        "outputId": "6afd8256-29b1-4e73-8c36-679594fe17b3"
      },
      "execution_count": null,
      "outputs": [
        {
          "output_type": "stream",
          "name": "stdout",
          "text": [
            "Square of 5 using regular function: 25\n",
            "Square of 5 using lambda function: 25\n"
          ]
        }
      ]
    },
    {
      "cell_type": "markdown",
      "source": [
        "5. How does the concept of \"scope\" apply to functions in Python? Explain the difference between local scope and global scope."
      ],
      "metadata": {
        "id": "byWT8cZtIqbi"
      }
    },
    {
      "cell_type": "markdown",
      "source": [
        "In Python, \"scope\" refers to the region of the code where a particular variable is accessible and can be used. It defines the visibility and lifetime of a variable.\n",
        "- Local scope refers to the scope within a function. Variables defined inside a function are only accessible within that function's body. They are considered local variables. Once the function finishes executing, the local variables are destroyed, and their values are no longer accessible.\n",
        "- Global scope refers to the outermost scope of a script or module. Variables defined at this level are accessible throughout the entire script or module. They are considered global variables. Global variables can be accessed and modified from within any function within the same script or module.\n",
        "\n",
        "The difference between local scope and global scope can be illustrated with the following example:\n",
        "```\n",
        "def my_function():\n",
        "    # Within the scope of the function 'my_function'\n",
        "    # A local variable 'number' is defined and assigned the value 10\n",
        "    number = 10\n",
        "    print(number)  # Prints the value of the local variable 'number'\n",
        "# Outside the function, a global variable 'number' is defined and assigned the value 20\n",
        "number = 20\n",
        "# The function 'my_function' is called\n",
        "my_function()\n",
        "```\n",
        "In this example, the local variable number within the function's scope takes precedence over the global variable with the same name. When the function is called, it prints the value of the local variable number, which is 10, and not the value of the global variable number, which is 20."
      ],
      "metadata": {
        "id": "t1i7kcjm_CIW"
      }
    },
    {
      "cell_type": "markdown",
      "source": [
        "6. How can you use the \"return\" statement in a Python function to return multiple values?"
      ],
      "metadata": {
        "id": "0QUELsnBIugc"
      }
    },
    {
      "cell_type": "markdown",
      "source": [
        "The return statement in a Python function can be used to return multiple values by using a tuple."
      ],
      "metadata": {
        "id": "vLM_N9VE8G69"
      }
    },
    {
      "cell_type": "code",
      "source": [
        "def multiple_values():\n",
        "    value1 = 10\n",
        "    value2 = 'Hello'\n",
        "    value3 = [1, 2, 3]\n",
        "    return value1, value2, value3  # Returning multiple values as a tuple\n",
        "\n",
        "# Calling the function and capturing the returned values\n",
        "v1, v2, v3 = multiple_values()\n",
        "\n",
        "print(\"Value 1:\", v1)\n",
        "print(\"Value 2:\", v2)\n",
        "print(\"Value 3:\", v3)"
      ],
      "metadata": {
        "colab": {
          "base_uri": "https://localhost:8080/"
        },
        "id": "x8mHTSBwBPhY",
        "outputId": "1ab12609-74f4-4090-fcaf-e32a7889324a"
      },
      "execution_count": null,
      "outputs": [
        {
          "output_type": "stream",
          "name": "stdout",
          "text": [
            "Value 1: 10\n",
            "Value 2: Hello\n",
            "Value 3: [1, 2, 3]\n"
          ]
        }
      ]
    },
    {
      "cell_type": "markdown",
      "source": [
        "7. What is the difference between the \"pass by value\" and \"pass by reference\" concepts when it comes to function arguments in Python?"
      ],
      "metadata": {
        "id": "eDXCX4vMIzGP"
      }
    },
    {
      "cell_type": "markdown",
      "source": [
        "\"pass by value\" and \"pass by reference\" don't directly apply to Python, objects are treated accordingly when passed to functions based on mutability and immutability.\n",
        "\n",
        "Call by Object Reference (Applicable in Python): In Python, when you pass an argument to a function, you are passing a reference to the object (like a memory address) rather than the value itself. However, whether the function modifies the object or not depends on the type of the object.\n",
        "\n",
        "- If the object is mutable (e.g., a list, dictionary), changes made to the object within the function will affect the original object outside the function because they both refer to the same memory location.\n",
        "\n",
        "- If the object is immutable (e.g., an integer, string), the function cannot modify the original object. Instead, a new object might be created within the function, and changes made to it won't affect the original object."
      ],
      "metadata": {
        "id": "jJOgbfk0lP4m"
      }
    },
    {
      "cell_type": "code",
      "source": [
        "def modify_list(lst):\n",
        "    lst.append(4)  # This modifies the original list\n",
        "\n",
        "def modify_string(s):\n",
        "    s += \" World\"  # This creates a new string object within the function\n",
        "\n",
        "my_list = [1, 2, 3]\n",
        "modify_list(my_list)\n",
        "print(my_list)  # Output: [1, 2, 3, 4]\n",
        "\n",
        "my_string = \"Hello\"\n",
        "modify_string(my_string)\n",
        "print(my_string)  # Output: Hello (original string remains unchanged)"
      ],
      "metadata": {
        "colab": {
          "base_uri": "https://localhost:8080/"
        },
        "id": "OyMAx0N_msXU",
        "outputId": "837cabbb-0473-4732-c530-0cb6317d5459"
      },
      "execution_count": null,
      "outputs": [
        {
          "output_type": "stream",
          "name": "stdout",
          "text": [
            "[1, 2, 3, 4]\n",
            "Hello\n"
          ]
        }
      ]
    },
    {
      "cell_type": "markdown",
      "source": [
        "8. Create a function that can intake integer or decimal value and do following operations:\n",
        "\n",
        "a. Logarithmic function (log x)\n",
        "\n",
        "b. Exponential function (exp(x))\n",
        "\n",
        "c. Power function with base 2 (2**x)\n",
        "\n",
        "d. Square root"
      ],
      "metadata": {
        "id": "5AuSuhv9I27q"
      }
    },
    {
      "cell_type": "markdown",
      "source": [
        "9. Create a function that takes a full name as an argument and returns first name and last name"
      ],
      "metadata": {
        "id": "2HmlxNscJJN2"
      }
    },
    {
      "cell_type": "code",
      "source": [],
      "metadata": {
        "id": "lRhehlSKH1uL"
      },
      "execution_count": null,
      "outputs": []
    }
  ]
}