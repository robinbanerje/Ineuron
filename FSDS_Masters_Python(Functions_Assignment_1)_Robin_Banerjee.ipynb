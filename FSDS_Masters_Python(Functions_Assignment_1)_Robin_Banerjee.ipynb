{
  "nbformat": 4,
  "nbformat_minor": 0,
  "metadata": {
    "colab": {
      "provenance": []
    },
    "kernelspec": {
      "name": "python3",
      "display_name": "Python 3"
    },
    "language_info": {
      "name": "python"
    }
  },
  "cells": [
    {
      "cell_type": "markdown",
      "source": [
        "1. In Python, what is the difference between a built-in function and a user-defined function? Provide an\n",
        "example of each."
      ],
      "metadata": {
        "id": "b3YSxFaGH4Gi"
      }
    },
    {
      "cell_type": "markdown",
      "source": [
        "Built-in Function:\n",
        "- Built-in functions are pre-defined functions provided by Python itself.\n",
        "- They are available for use without requiring any additional definitions or imports.\n",
        "- Examples include len(), print(), sum(), max(), min(), etc.\n",
        "```\n",
        "numbers = [1, 2, 3, 4, 5]\n",
        "total_sum = sum(numbers) # sum is build-in func\n",
        "print(total_sum)  # Output: 15\n",
        "```\n",
        "\n",
        "User-Defined Function:\n",
        "- User-defined functions are functions created by the user to perform specific tasks.\n",
        "- They are defined using the `def` keyword followed by the function name and a block of code.\n",
        "- They can be customized to perform specific operations as needed by the programmer.\n",
        "```\n",
        "def greet(name):\n",
        "    return f\"Hello {name}\"\n",
        "person_name = \"Robin\"\n",
        "greeting = greet(person_name) # greet is user-defined function\n",
        "print(greeting)  # Output: Hello Robin\n",
        "```"
      ],
      "metadata": {
        "id": "_trpP5GGetpK"
      }
    },
    {
      "cell_type": "markdown",
      "source": [
        "2. How can you pass arguments to a function in Python? Explain the difference between positional arguments and keyword arguments"
      ],
      "metadata": {
        "id": "zfT8pVqaIce6"
      }
    },
    {
      "cell_type": "markdown",
      "source": [
        "There are two ways to pass arguments to a function in Python: positional arguments and keyword arguments.\n",
        "\n",
        "- Positional arguments are arguments that are passed to a function in the order that they are defined in the function's definition.\n",
        "```\n",
        "def greet(name, age):\n",
        "    print(f\"hello {name}, u are {age} years old\")\n",
        "greet(\"robin\", 30)  # Output: hello robin, u are 30 years old\n",
        "```\n",
        "\n",
        "- Keyword arguments are arguments that are passed to a function by name. Keyword arguments are often used when the order of the arguments does not matter.\n",
        "```\n",
        "def greet(name, age):\n",
        "    print(f\"hello {name}, u are {age} years old\")\n",
        "greet(age=30, name=\"robin\")  # Output: hello robin, u are 30 years old\n",
        "```"
      ],
      "metadata": {
        "id": "o-ZOTh7OpHtd"
      }
    },
    {
      "cell_type": "markdown",
      "source": [
        "3. What is the purpose of the return statement in a function? Can a function have multiple return statements? Explain with an example.\n"
      ],
      "metadata": {
        "id": "ZGs-dxxKIhUd"
      }
    },
    {
      "cell_type": "markdown",
      "source": [
        "4. What are lambda functions in Python? How are they different from regular functions? Provide an example where a lambda function can be useful."
      ],
      "metadata": {
        "id": "0CkOhS5RInDz"
      }
    },
    {
      "cell_type": "markdown",
      "source": [
        "5. How does the concept of \"scope\" apply to functions in Python? Explain the difference between local scope and global scope."
      ],
      "metadata": {
        "id": "byWT8cZtIqbi"
      }
    },
    {
      "cell_type": "markdown",
      "source": [
        "6. How can you use the \"return\" statement in a Python function to return multiple values?"
      ],
      "metadata": {
        "id": "0QUELsnBIugc"
      }
    },
    {
      "cell_type": "markdown",
      "source": [
        "7. What is the difference between the \"pass by value\" and \"pass by reference\" concepts when it comes to function arguments in Python?"
      ],
      "metadata": {
        "id": "eDXCX4vMIzGP"
      }
    },
    {
      "cell_type": "markdown",
      "source": [
        "8. Create a function that can intake integer or decimal value and do following operations:\n",
        "\n",
        "a. Logarithmic function (log x)\n",
        "\n",
        "b. Exponential function (exp(x))\n",
        "\n",
        "c. Power function with base 2 (2**x)\n",
        "\n",
        "d. Square root"
      ],
      "metadata": {
        "id": "5AuSuhv9I27q"
      }
    },
    {
      "cell_type": "markdown",
      "source": [
        "9. Create a function that takes a full name as an argument and returns first name and last name"
      ],
      "metadata": {
        "id": "2HmlxNscJJN2"
      }
    },
    {
      "cell_type": "code",
      "source": [],
      "metadata": {
        "id": "lRhehlSKH1uL"
      },
      "execution_count": null,
      "outputs": []
    }
  ]
}