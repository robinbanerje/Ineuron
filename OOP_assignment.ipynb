{
  "nbformat": 4,
  "nbformat_minor": 0,
  "metadata": {
    "colab": {
      "provenance": []
    },
    "kernelspec": {
      "name": "python3",
      "display_name": "Python 3"
    },
    "language_info": {
      "name": "python"
    }
  },
  "cells": [
    {
      "cell_type": "markdown",
      "source": [
        "1. the `Person` class has a constructor that takes `name` and `age` as arguments and assigns them to the object's attributes. The `introduce` method is then invoked on the object to introduce the person."
      ],
      "metadata": {
        "id": "COwt2sXhMekl"
      }
    },
    {
      "cell_type": "code",
      "execution_count": 2,
      "metadata": {
        "colab": {
          "base_uri": "https://localhost:8080/"
        },
        "id": "iFcVAD0lMZXi",
        "outputId": "810eb84f-e8d0-4541-8f8f-352af8ece250"
      },
      "outputs": [
        {
          "output_type": "stream",
          "name": "stdout",
          "text": [
            "My name is Robin and I am 99 years old.\n"
          ]
        }
      ],
      "source": [
        "class Person:\n",
        "    def __init__(self, name, age):\n",
        "        self.name = name\n",
        "        self.age = age\n",
        "\n",
        "    def introduce(self):\n",
        "        print(f\"My name is {self.name} and I am {self.age} years old.\")\n",
        "\n",
        "\n",
        "person1 = Person(\"Robin\", 99)\n",
        "person1.introduce()"
      ]
    },
    {
      "cell_type": "markdown",
      "source": [
        "2. the `Car` class has a constructor that takes `brand` and `model` as arguments and assigns them to the object's attributes. The `display_info` method is then invoked on the object to display the car's brand and model."
      ],
      "metadata": {
        "id": "cDXSbRF8MqI4"
      }
    },
    {
      "cell_type": "code",
      "source": [
        "class Car:\n",
        "    def __init__(self, brand, model):\n",
        "        self.brand = brand\n",
        "        self.model = model\n",
        "\n",
        "    def display_info(self):\n",
        "        print(f\"This car from {self.brand} of {self.model} model\")\n",
        "\n",
        "\n",
        "car1 = Car(\"TATA\", \"Nexon\")\n",
        "car1.display_info()"
      ],
      "metadata": {
        "colab": {
          "base_uri": "https://localhost:8080/"
        },
        "id": "ujvfL94pMszk",
        "outputId": "36640868-ca92-4969-a3f7-367d3b36c19a"
      },
      "execution_count": 3,
      "outputs": [
        {
          "output_type": "stream",
          "name": "stdout",
          "text": [
            "This car from TATA of Nexon model\n"
          ]
        }
      ]
    },
    {
      "cell_type": "markdown",
      "source": [
        "3. the `BankAccount` class has a constructor that takes `account_number` and `balance` as arguments and assigns them to the object's attributes. The `display_balance` method is then invoked on the object to display the account number and balance."
      ],
      "metadata": {
        "id": "rWUjI4peMtOZ"
      }
    },
    {
      "cell_type": "code",
      "source": [
        "class BankAccount:\n",
        "    def __init__(self, account_number, balance):\n",
        "        self.account_number = account_number\n",
        "        self.balance = balance\n",
        "\n",
        "    def display_balance(self):\n",
        "        print(f\"Account number: {self.account_number}\")\n",
        "        print(f\"Balance: {self.balance}\")\n",
        "\n",
        "\n",
        "bank_account1 = BankAccount(\"1234567890\", 101.1)\n",
        "bank_account1.display_balance()"
      ],
      "metadata": {
        "colab": {
          "base_uri": "https://localhost:8080/"
        },
        "id": "YS6jgul4Mv7C",
        "outputId": "cd4a590b-876a-4693-b8de-85060aa3ecd6"
      },
      "execution_count": 5,
      "outputs": [
        {
          "output_type": "stream",
          "name": "stdout",
          "text": [
            "Account number: 1234567890\n",
            "Balance: 101.1\n"
          ]
        }
      ]
    },
    {
      "cell_type": "markdown",
      "source": [
        "4. the `MobilePhone` class has a constructor that takes `brand` and `model` as arguments and assigns them to the object's attributes. The `make_call` method is then invoked on the object to make a call with the phone."
      ],
      "metadata": {
        "id": "vba9ko7cMwaI"
      }
    },
    {
      "cell_type": "code",
      "source": [
        "class MobilePhone:\n",
        "    def __init__(self, brand, model):\n",
        "        self.brand = brand\n",
        "        self.model = model\n",
        "\n",
        "    def make_call(self, number):\n",
        "        print(f\"Making a call with {self.brand} {self.model} to {number}\")\n",
        "\n",
        "phone = MobilePhone(\"Nokia\", \"33\")\n",
        "phone.make_call(\"+91-9876543210\")"
      ],
      "metadata": {
        "colab": {
          "base_uri": "https://localhost:8080/"
        },
        "id": "3Kj8gmypMx6B",
        "outputId": "08110395-59d2-4071-eb72-e577a70b61b8"
      },
      "execution_count": 7,
      "outputs": [
        {
          "output_type": "stream",
          "name": "stdout",
          "text": [
            "Making a call with Nokia 33 to +91-9876543210\n"
          ]
        }
      ]
    },
    {
      "cell_type": "markdown",
      "source": [
        "5. the `Book` class has a constructor that takes `title` and `author` as arguments and assigns them to the object's attributes. The `display_info` method is then invoked on the object to display the book's title and author."
      ],
      "metadata": {
        "id": "F4sWnKfdMyNj"
      }
    },
    {
      "cell_type": "code",
      "source": [
        "class Book:\n",
        "    def __init__(self, title, author):\n",
        "        self.title = title\n",
        "        self.author = author\n",
        "\n",
        "    def display_info(self):\n",
        "        print(f\"Title: {self.title}\")\n",
        "        print(f\"Author: {self.author}\")\n",
        "\n",
        "\n",
        "book1 = Book(\"Bodh\", \"Prem Chand\")\n",
        "book1.display_info()"
      ],
      "metadata": {
        "colab": {
          "base_uri": "https://localhost:8080/"
        },
        "id": "P3OwW04bRhfi",
        "outputId": "81dc55fa-ceed-4c25-d329-7be9f4e10e1a"
      },
      "execution_count": 8,
      "outputs": [
        {
          "output_type": "stream",
          "name": "stdout",
          "text": [
            "Title: Bodh\n",
            "Author: Prem Chand\n"
          ]
        }
      ]
    },
    {
      "cell_type": "markdown",
      "source": [
        "6. Vehicles: Create a base class called Vehicle with attributes such as make, model, and year. Implement two subclasses Car and Motorcycle that inherit from Vehicle. Add additional methods to the subclasses, such as start_engine() and stop_engine(), and handle any specific behavior or rules for each vehicle type."
      ],
      "metadata": {
        "id": "_t1-21SSRhxB"
      }
    },
    {
      "cell_type": "code",
      "source": [
        "class Vehicle:\n",
        "    def __init__(self, make, model, year):\n",
        "        self.make = make\n",
        "        self.model = model\n",
        "        self.year = year\n",
        "\n",
        "    def start_engine(self):\n",
        "        print(\"The engine is starting\")\n",
        "\n",
        "    def stop_engine(self):\n",
        "        print(\"The engine is stopping\")\n",
        "\n",
        "\n",
        "class Car(Vehicle):\n",
        "    def __init__(self, make, model, year, number_of_wheels):\n",
        "        super().__init__(make, model, year)\n",
        "        self.number_of_wheels = number_of_wheels\n",
        "\n",
        "    def honk_horn(self):\n",
        "        print(\"Beep beep!\")\n",
        "\n",
        "\n",
        "class Motorcycle(Vehicle):\n",
        "    def __init__(self, make, model, year, number_of_wheels):\n",
        "        super().__init__(make, model, year)\n",
        "        self.number_of_wheels = number_of_wheels\n",
        "\n",
        "    def rev_engine(self):\n",
        "        print(\"Bhut Bhut\")\n",
        "\n",
        "\n",
        "car1 = Car(\"TATA\", \"Nexon\", 2023, 4)\n",
        "car1.start_engine()\n",
        "car1.honk_horn()\n",
        "car1.stop_engine()\n",
        "\n",
        "motorcycle1 = Motorcycle(\"Bullet\", \"350\", 2022, 2)\n",
        "motorcycle1.start_engine()\n",
        "motorcycle1.rev_engine()\n",
        "motorcycle1.stop_engine()"
      ],
      "metadata": {
        "colab": {
          "base_uri": "https://localhost:8080/"
        },
        "id": "AaaGMxUHRlpl",
        "outputId": "18575a21-46b2-4ccd-950f-997dfb6c2ff4"
      },
      "execution_count": 9,
      "outputs": [
        {
          "output_type": "stream",
          "name": "stdout",
          "text": [
            "The engine is starting\n",
            "Beep beep!\n",
            "The engine is stopping\n",
            "The engine is starting\n",
            "Bhut Bhut\n",
            "The engine is stopping\n"
          ]
        }
      ]
    },
    {
      "cell_type": "markdown",
      "source": [
        "7. Animals: Create a base class called Animal with methods such as eat() and sleep(). Implement two subclasses Dog and Cat that inherit from Animal. Add additional methods to the subclasses, such as bark() for dogs and meow() for cats, and handle any specific behavior or rules for each animal type."
      ],
      "metadata": {
        "id": "A0O-A9oSRmAx"
      }
    },
    {
      "cell_type": "code",
      "source": [
        "class Animal:\n",
        "    def eat(self):\n",
        "        print(\"The animal is eating.\")\n",
        "\n",
        "    def sleep(self):\n",
        "        print(\"The animal is sleeping.\")\n",
        "\n",
        "class Dog(Animal):\n",
        "    def bark(self):\n",
        "        print(\"Bhao! Bhao! The dog is barking.\")\n",
        "\n",
        "class Cat(Animal):\n",
        "    def meow(self):\n",
        "        print(\"Meow! Meow! The cat is meowing.\")\n",
        "\n",
        "animal = Animal()\n",
        "animal.eat()\n",
        "animal.sleep()\n",
        "\n",
        "dog = Dog()\n",
        "dog.eat()\n",
        "dog.bark()\n",
        "dog.sleep()\n",
        "\n",
        "cat = Cat()\n",
        "cat.eat()\n",
        "cat.meow()\n",
        "cat.sleep()"
      ],
      "metadata": {
        "colab": {
          "base_uri": "https://localhost:8080/"
        },
        "id": "rBXu9T0sSR9h",
        "outputId": "d0eda386-f2a1-4168-becb-3c8c2ce0629e"
      },
      "execution_count": 12,
      "outputs": [
        {
          "output_type": "stream",
          "name": "stdout",
          "text": [
            "The animal is eating.\n",
            "The animal is sleeping.\n",
            "The animal is eating.\n",
            "Bhao! Bhao! The dog is barking.\n",
            "The animal is sleeping.\n",
            "The animal is eating.\n",
            "Meow! Meow! The cat is meowing.\n",
            "The animal is sleeping.\n"
          ]
        }
      ]
    },
    {
      "cell_type": "markdown",
      "source": [
        "8. Library Catalog: Create a base class called LibraryItem with attributes such as title, author, and publication_year. Implement two subclasses Book and Magazine that inherit from LibraryItem. Add additional methods to the subclasses, such as checkout() and return_item(), and handle any specific behavior or rules for each item type."
      ],
      "metadata": {
        "id": "DX4hLyJGSSsV"
      }
    },
    {
      "cell_type": "code",
      "source": [
        "class LibraryItem:\n",
        "    def __init__(self, title, author, publication_year):\n",
        "        self.title = title\n",
        "        self.author = author\n",
        "        self.publication_year = publication_year\n",
        "        self.checked_out = False\n",
        "\n",
        "    def checkout(self):\n",
        "        if self.checked_out:\n",
        "            print(f\"The item '{self.title}' is already checked out.\")\n",
        "        else:\n",
        "            self.checked_out = True\n",
        "            print(f\"The item '{self.title}' has been checked out successfully.\")\n",
        "\n",
        "    def return_item(self):\n",
        "        if not self.checked_out:\n",
        "            print(f\"The item '{self.title}' is not checked out.\")\n",
        "        else:\n",
        "            self.checked_out = False\n",
        "            print(f\"The item '{self.title}' has been returned successfully.\")\n",
        "\n",
        "\n",
        "class Book(LibraryItem):\n",
        "    def __init__(self, title, author, publication_year):\n",
        "        super().__init__(title, author, publication_year)\n",
        "        self.pages = 0\n",
        "\n",
        "    def set_pages(self, pages):\n",
        "        self.pages = pages\n",
        "\n",
        "\n",
        "class Magazine(LibraryItem):\n",
        "    def __init__(self, title, author, publication_year):\n",
        "        super().__init__(title, author, publication_year)\n",
        "        self.issue_number = 0\n",
        "\n",
        "    def set_issue_number(self, issue_number):\n",
        "        self.issue_number = issue_number\n",
        "\n",
        "\n",
        "book = Book(\"The Book\", \"Writer\", 2000)\n",
        "book.set_pages(180)\n",
        "book.checkout()\n",
        "book.return_item()\n",
        "\n",
        "magazine = Magazine(\"The magazone\", \"magazine auther\", 2021)\n",
        "magazine.set_issue_number(202)\n",
        "magazine.checkout()\n",
        "magazine.return_item()"
      ],
      "metadata": {
        "colab": {
          "base_uri": "https://localhost:8080/"
        },
        "id": "jclpDENZSWQx",
        "outputId": "b08ef298-6d6b-446a-b510-ed8e89dc8f4b"
      },
      "execution_count": 15,
      "outputs": [
        {
          "output_type": "stream",
          "name": "stdout",
          "text": [
            "The item 'The Book' has been checked out successfully.\n",
            "The item 'The Book' has been returned successfully.\n",
            "The item 'The magazone' has been checked out successfully.\n",
            "The item 'The magazone' has been returned successfully.\n"
          ]
        }
      ]
    },
    {
      "cell_type": "markdown",
      "source": [
        "9. Employees and Departments: Create a base class called Employee with attributes such as name, salary, and department. Implement two subclasses Manager and Staff that inherit from Employee. Add additional methods to the subclasses, such as assign_task() for managers and attend_meeting() for staff members. Create a separate class called Department that contains a list of employees and methods to add or remove employees from the department."
      ],
      "metadata": {
        "id": "892qh-f8SWjN"
      }
    },
    {
      "cell_type": "code",
      "source": [
        "class Employee:\n",
        "    def __init__(self, name, salary, department):\n",
        "        self.name = name\n",
        "        self.salary = salary\n",
        "        self.department = department\n",
        "\n",
        "\n",
        "class Manager(Employee):\n",
        "    def __init__(self, name, salary, department, subordinates):\n",
        "        super().__init__(name, salary, department)\n",
        "        self.subordinates = subordinates\n",
        "\n",
        "    def assign_task(self, task):\n",
        "        for subordinate in self.subordinates:\n",
        "            if isinstance(subordinate, Employee):\n",
        "                subordinate.do_task(task)\n",
        "\n",
        "\n",
        "class Staff(Employee):\n",
        "    def __init__(self, name, salary, department, tasks):\n",
        "        super().__init__(name, salary, department)\n",
        "        self.tasks = tasks\n",
        "\n",
        "    def attend_meeting(self, meeting):\n",
        "        print(f\"Attending meeting {meeting}\")\n",
        "\n",
        "\n",
        "class Department:\n",
        "    def __init__(self, name):\n",
        "        self.name = name\n",
        "        self.employees = []\n",
        "\n",
        "    def add_employee(self, employee):\n",
        "        self.employees.append(employee)\n",
        "\n",
        "    def remove_employee(self, employee):\n",
        "        self.employees.remove(employee)\n",
        "\n",
        "\n",
        "manager1 = Manager(\"Robin\", 100000, \"Engineering\", [\"Ram\", \"Ravan\"])\n",
        "manager1.assign_task(\"Write a new code\")\n",
        "\n",
        "staff1 = Staff(\"Hanuman\", 50000, \"Engineering\", [\"Deploy the new code\"])\n",
        "staff1.attend_meeting(\"Weekly meeting\")\n",
        "\n",
        "department1 = Department(\"Engineering\")\n",
        "department1.add_employee(manager1)\n",
        "department1.add_employee(staff1)\n",
        "\n",
        "department1.remove_employee(manager1)"
      ],
      "metadata": {
        "colab": {
          "base_uri": "https://localhost:8080/"
        },
        "id": "3zocFQNHSYfX",
        "outputId": "be0e6c14-c637-43b9-9558-55fbf5ce1f3a"
      },
      "execution_count": 17,
      "outputs": [
        {
          "output_type": "stream",
          "name": "stdout",
          "text": [
            "Attending meeting Weekly meeting\n"
          ]
        }
      ]
    },
    {
      "cell_type": "markdown",
      "source": [
        "10. Bank Transactions: Create a base class called BankAccount with attributes such as account_number and balance. Implement subclasses for different types of accounts such as CheckingAccount and SavingsAccount that inherit from BankAccount. Add additional methods to the subclasses, such as withdraw() and deposit(), and handle any specific behavior or rules for each account type."
      ],
      "metadata": {
        "id": "ZRttFfxsSZBL"
      }
    },
    {
      "cell_type": "code",
      "source": [
        "class BankAccount:\n",
        "    def __init__(self, account_number, balance):\n",
        "        self.account_number = account_number\n",
        "        self.balance = balance\n",
        "\n",
        "    def withdraw(self, amount):\n",
        "        if amount > self.balance:\n",
        "            raise ValueError(\"Insufficient funds\")\n",
        "        self.balance -= amount\n",
        "\n",
        "    def deposit(self, amount):\n",
        "        self.balance += amount\n",
        "\n",
        "\n",
        "class CheckingAccount(BankAccount):\n",
        "    def __init__(self, account_number, balance, overdraft_limit):\n",
        "        super().__init__(account_number, balance)\n",
        "        self.overdraft_limit = overdraft_limit\n",
        "\n",
        "    def withdraw(self, amount):\n",
        "        if amount > self.balance + self.overdraft_limit:\n",
        "            raise ValueError(\"Insufficient funds\")\n",
        "        self.balance -= amount\n",
        "\n",
        "\n",
        "class SavingsAccount(BankAccount):\n",
        "    def __init__(self, account_number, balance, interest_rate):\n",
        "        super().__init__(account_number, balance)\n",
        "        self.interest_rate = interest_rate\n",
        "\n",
        "    def deposit(self, amount):\n",
        "        super().deposit(amount)\n",
        "        self.balance += amount * self.interest_rate\n",
        "\n",
        "\n",
        "checking_account = CheckingAccount(\"1234567890\", 1000, 500)\n",
        "checking_account.withdraw(500)\n",
        "checking_account.deposit(100)\n",
        "\n",
        "savings_account = SavingsAccount(\"9876543210\", 1000, 0.05)\n",
        "savings_account.deposit(100)"
      ],
      "metadata": {
        "id": "eaTunRPSSbBl"
      },
      "execution_count": 18,
      "outputs": []
    },
    {
      "cell_type": "markdown",
      "source": [
        "11. School Management System: Create a base class called Person with attributes such as name, age, and address. Implement subclasses for different roles such as Student, Teacher, and Staff that inherit from Person. Add additional methods to the subclasses, such as take_exam() for students and teach_subject() for teachers."
      ],
      "metadata": {
        "id": "9tRi3RE0SbXP"
      }
    },
    {
      "cell_type": "code",
      "source": [
        "class Person:\n",
        "    def __init__(self, name, age, address):\n",
        "        self.name = name\n",
        "        self.age = age\n",
        "        self.address = address\n",
        "\n",
        "\n",
        "class Student(Person):\n",
        "    def __init__(self, name, age, address, student_id, grades):\n",
        "        super().__init__(name, age, address)\n",
        "        self.student_id = student_id\n",
        "        self.grades = grades\n",
        "\n",
        "    def take_exam(self, exam_name, score):\n",
        "        self.grades[exam_name] = score\n",
        "\n",
        "\n",
        "class Teacher(Person):\n",
        "    def __init__(self, name, age, address, subject, years_of_experience):\n",
        "        super().__init__(name, age, address)\n",
        "        self.subject = subject\n",
        "        self.years_of_experience = years_of_experience\n",
        "\n",
        "    def teach_subject(self, subject):\n",
        "        print(f\"I am teaching the subject {subject}\")\n",
        "\n",
        "\n",
        "class Staff(Person):\n",
        "    def __init__(self, name, age, address, job_title, years_of_experience):\n",
        "        super().__init__(name, age, address)\n",
        "        self.job_title = job_title\n",
        "        self.years_of_experience = years_of_experience\n",
        "\n",
        "    def do_job(self):\n",
        "        print(f\"I am a {self.job_title}\")\n",
        "\n",
        "\n",
        "student1 = Student(\"robin\", 18, \"123 Street\", 123456789, {\"Math\": 90, \"Science\": 80, \"English\": 70})\n",
        "student1.take_exam(\"Math\", 100)\n",
        "\n",
        "teacher1 = Teacher(\"Krish\", 35, \"987 Street\", \"Math\", 10)\n",
        "teacher1.teach_subject(\"Math\")\n",
        "\n",
        "staff1 = Staff(\"Sunny\", 45, \"456 Block\", \"HOD\", 20)\n",
        "staff1.do_job()"
      ],
      "metadata": {
        "colab": {
          "base_uri": "https://localhost:8080/"
        },
        "id": "OTT31DSJScgH",
        "outputId": "5bae69ef-0779-4e8b-efcb-913fb38f16ef"
      },
      "execution_count": 21,
      "outputs": [
        {
          "output_type": "stream",
          "name": "stdout",
          "text": [
            "I am teaching the subject Math\n",
            "I am a HOD\n"
          ]
        }
      ]
    }
  ]
}