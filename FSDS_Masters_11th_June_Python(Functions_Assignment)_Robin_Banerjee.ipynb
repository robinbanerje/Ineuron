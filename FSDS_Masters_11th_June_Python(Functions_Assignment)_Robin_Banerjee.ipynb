{
  "nbformat": 4,
  "nbformat_minor": 0,
  "metadata": {
    "colab": {
      "provenance": []
    },
    "kernelspec": {
      "name": "python3",
      "display_name": "Python 3"
    },
    "language_info": {
      "name": "python"
    }
  },
  "cells": [
    {
      "cell_type": "markdown",
      "source": [
        "1. What is a lambda function in Python, and how does it differ from a regular function?"
      ],
      "metadata": {
        "id": "kbvjv4EdhsiA"
      }
    },
    {
      "cell_type": "markdown",
      "source": [
        "A lambda function is an anonymous function in Python. It is defined using the lambda keyword, and it can be used anywhere that a regular function can be used.\n",
        "\n",
        "```\n",
        "str1 = 'robin'\n",
        "upper = lambda string: string.upper()\n",
        "print(upper(str1)) # Output : ROBIN\n",
        "```\n",
        "Differences -\n",
        "\n",
        "Lambda function:\n",
        "- Supports single-line sometimes statements that return some value.\n",
        "- Good for performing short operations/data manipulations.\n",
        "- Using the lambda function can sometime reduce the readability of code.\n",
        "\n",
        "Regular function:\n",
        "- Supports any number of lines inside a function block\n",
        "- Good for any cases that require multiple lines of code.\n",
        "- We can use comments and function descriptions for easy readability."
      ],
      "metadata": {
        "id": "8S9XLZ-bsla1"
      }
    },
    {
      "cell_type": "markdown",
      "source": [
        "2. Can a lambda function in Python have multiple arguments? If yes, how can you define and use\n",
        "them?"
      ],
      "metadata": {
        "id": "t8o53fWbhvcy"
      }
    },
    {
      "cell_type": "markdown",
      "source": [
        "Lambda functions in Python can have multiple arguments. To define a lambda function with multiple arguments, you simply list the arguments after the lambda keyword, separated by commas."
      ],
      "metadata": {
        "id": "W2ils_BcyWFo"
      }
    },
    {
      "cell_type": "code",
      "source": [
        "# Lambda function to calculate the sum of two numbers\n",
        "addition = lambda x, y: x + y\n",
        "print(addition(5, 7))  # Output: 12"
      ],
      "metadata": {
        "colab": {
          "base_uri": "https://localhost:8080/"
        },
        "id": "-3I-kdlMy0Lo",
        "outputId": "d14e3940-0342-4e86-c74a-6fe2e7f40796"
      },
      "execution_count": 1,
      "outputs": [
        {
          "output_type": "stream",
          "name": "stdout",
          "text": [
            "12\n"
          ]
        }
      ]
    },
    {
      "cell_type": "markdown",
      "source": [
        "3. How are lambda functions typically used in Python? Provide an example use case."
      ],
      "metadata": {
        "id": "mku2EN7vhxRx"
      }
    },
    {
      "cell_type": "markdown",
      "source": [
        "Lambda functions are typically used for creating small, one-time, anonymous functions without the need to define a formal function using the def keyword. They are especially useful when you need a simple function for a short operation and don't want to define a separate named function.\n",
        "\n",
        "Example:\n",
        "```\n",
        "#lambda function to filter a list of numbers to only include the even numbers:\n",
        "numbers = [1, 2, 3, 4, 5]\n",
        "even_numbers = list(filter(lambda number: number % 2 == 0, numbers))\n",
        "print(even_numbers) # Output: [2, 4]\n",
        "```"
      ],
      "metadata": {
        "id": "-uDR-8Yt1Q58"
      }
    },
    {
      "cell_type": "markdown",
      "source": [
        "4. What are the advantages and limitations of lambda functions compared to regular functions in\n",
        "Python?"
      ],
      "metadata": {
        "id": "m5jhm8rghy62"
      }
    },
    {
      "cell_type": "markdown",
      "source": [
        "Advantages of lambda functions:\n",
        "\n",
        "- Conciseness: Lambda functions allows to define simple, short functions in a single line of code.\n",
        "- No Need for Naming: Since lambda functions are anonymous, no need to come up with names for them.\n",
        "- Inline Usage: Lambda functions are often used directly where they are needed without the need to define a separate named function.\n",
        "\n",
        "Limitations of lambda functions:\n",
        "- Limited Functionality: Lambda functions are limited to a single expression and cannot include multiple statements or complex logic.\n",
        "- No Documentation: Since lambda functions are anonymous, they lack the ability to include docstrings or comments, making them less self-explanatory.\n",
        "- Limited Reusability: Lambda functions are not reusable like regular functions. If the same logic is needed in multiple places, a named function is more appropriate."
      ],
      "metadata": {
        "id": "wvzeL_u12KR4"
      }
    },
    {
      "cell_type": "markdown",
      "source": [
        "5. Are lambda functions in Python able to access variables defined outside of their own scope? Explain with an example."
      ],
      "metadata": {
        "id": "6xyF8gHZh0hL"
      }
    },
    {
      "cell_type": "markdown",
      "source": [
        "6. Write a lambda function to calculate the square of a given number."
      ],
      "metadata": {
        "id": "RBWF0Zrih3z3"
      }
    },
    {
      "cell_type": "markdown",
      "source": [
        "7. Create a lambda function to find the maximum value in a list of integers."
      ],
      "metadata": {
        "id": "C7T80BnMh6Jc"
      }
    },
    {
      "cell_type": "markdown",
      "source": [
        "8. Implement a lambda function to filter out all the even numbers from a list of integers."
      ],
      "metadata": {
        "id": "CkwAq4d8h8s0"
      }
    },
    {
      "cell_type": "markdown",
      "source": [
        "9. Write a lambda function to sort a list of strings in ascending order based on the length of each string."
      ],
      "metadata": {
        "id": "E2L1miFoh-z2"
      }
    },
    {
      "cell_type": "markdown",
      "source": [
        "10. Create a lambda function that takes two lists as input and returns a new list containing the common elements between the two lists."
      ],
      "metadata": {
        "id": "3Vs4OdyIiDUS"
      }
    },
    {
      "cell_type": "markdown",
      "source": [
        "11. Write a recursive function to calculate the factorial of a given positive integer."
      ],
      "metadata": {
        "id": "FmKu5_YqiFQU"
      }
    },
    {
      "cell_type": "markdown",
      "source": [
        "12. Implement a recursive function to compute the nth Fibonacci number."
      ],
      "metadata": {
        "id": "_YVFMsYYiIE0"
      }
    },
    {
      "cell_type": "markdown",
      "source": [
        "13. Create a recursive function to find the sum of all the elements in a given list."
      ],
      "metadata": {
        "id": "xXT3JyqtiKIG"
      }
    },
    {
      "cell_type": "markdown",
      "source": [
        "14. Write a recursive function to determine whether a given string is a palindrome."
      ],
      "metadata": {
        "id": "wtVo4gm2iL38"
      }
    },
    {
      "cell_type": "markdown",
      "source": [
        "15. Implement a recursive function to find the greatest common divisor (GCD) of two positive integers."
      ],
      "metadata": {
        "id": "p61HPj4GiN7a"
      }
    },
    {
      "cell_type": "code",
      "execution_count": null,
      "metadata": {
        "id": "FhVRB9X4hJeC"
      },
      "outputs": [],
      "source": []
    }
  ]
}