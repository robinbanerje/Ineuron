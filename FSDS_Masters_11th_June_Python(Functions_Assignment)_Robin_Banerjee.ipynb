{
  "nbformat": 4,
  "nbformat_minor": 0,
  "metadata": {
    "colab": {
      "provenance": []
    },
    "kernelspec": {
      "name": "python3",
      "display_name": "Python 3"
    },
    "language_info": {
      "name": "python"
    }
  },
  "cells": [
    {
      "cell_type": "markdown",
      "source": [
        "1. What is a lambda function in Python, and how does it differ from a regular function?"
      ],
      "metadata": {
        "id": "kbvjv4EdhsiA"
      }
    },
    {
      "cell_type": "markdown",
      "source": [
        "A lambda function is an anonymous function in Python. It is defined using the lambda keyword, and it can be used anywhere that a regular function can be used.\n",
        "\n",
        "```\n",
        "str1 = 'robin'\n",
        "upper = lambda string: string.upper()\n",
        "print(upper(str1)) # Output : ROBIN\n",
        "```\n",
        "Differences -\n",
        "\n",
        "Lambda function:\n",
        "- Supports single-line sometimes statements that return some value.\n",
        "- Good for performing short operations/data manipulations.\n",
        "- Using the lambda function can sometime reduce the readability of code.\n",
        "\n",
        "Regular function:\n",
        "- Supports any number of lines inside a function block\n",
        "- Good for any cases that require multiple lines of code.\n",
        "- We can use comments and function descriptions for easy readability."
      ],
      "metadata": {
        "id": "8S9XLZ-bsla1"
      }
    },
    {
      "cell_type": "markdown",
      "source": [
        "2. Can a lambda function in Python have multiple arguments? If yes, how can you define and use\n",
        "them?"
      ],
      "metadata": {
        "id": "t8o53fWbhvcy"
      }
    },
    {
      "cell_type": "markdown",
      "source": [
        "Lambda functions in Python can have multiple arguments. To define a lambda function with multiple arguments, you simply list the arguments after the lambda keyword, separated by commas."
      ],
      "metadata": {
        "id": "W2ils_BcyWFo"
      }
    },
    {
      "cell_type": "code",
      "source": [
        "# Lambda function to calculate the sum of two numbers\n",
        "addition = lambda x, y: x + y\n",
        "print(addition(5, 7))  # Output: 12"
      ],
      "metadata": {
        "colab": {
          "base_uri": "https://localhost:8080/"
        },
        "id": "-3I-kdlMy0Lo",
        "outputId": "d14e3940-0342-4e86-c74a-6fe2e7f40796"
      },
      "execution_count": null,
      "outputs": [
        {
          "output_type": "stream",
          "name": "stdout",
          "text": [
            "12\n"
          ]
        }
      ]
    },
    {
      "cell_type": "markdown",
      "source": [
        "3. How are lambda functions typically used in Python? Provide an example use case."
      ],
      "metadata": {
        "id": "mku2EN7vhxRx"
      }
    },
    {
      "cell_type": "markdown",
      "source": [
        "Lambda functions are typically used for creating small, one-time, anonymous functions without the need to define a formal function using the def keyword. They are especially useful when you need a simple function for a short operation and don't want to define a separate named function.\n",
        "\n",
        "Example:\n",
        "```\n",
        "#lambda function to filter a list of numbers to only include the even numbers:\n",
        "numbers = [1, 2, 3, 4, 5]\n",
        "even_numbers = list(filter(lambda number: number % 2 == 0, numbers))\n",
        "print(even_numbers) # Output: [2, 4]\n",
        "```"
      ],
      "metadata": {
        "id": "-uDR-8Yt1Q58"
      }
    },
    {
      "cell_type": "markdown",
      "source": [
        "4. What are the advantages and limitations of lambda functions compared to regular functions in\n",
        "Python?"
      ],
      "metadata": {
        "id": "m5jhm8rghy62"
      }
    },
    {
      "cell_type": "markdown",
      "source": [
        "Advantages of lambda functions:\n",
        "\n",
        "- Conciseness: Lambda functions allows to define simple, short functions in a single line of code.\n",
        "- No Need for Naming: Since lambda functions are anonymous, no need to come up with names for them.\n",
        "- Inline Usage: Lambda functions are often used directly where they are needed without the need to define a separate named function.\n",
        "\n",
        "Limitations of lambda functions:\n",
        "- Limited Functionality: Lambda functions are limited to a single expression and cannot include multiple statements or complex logic.\n",
        "- No Documentation: Since lambda functions are anonymous, they lack the ability to include docstrings or comments, making them less self-explanatory.\n",
        "- Limited Reusability: Lambda functions are not reusable like regular functions. If the same logic is needed in multiple places, a named function is more appropriate."
      ],
      "metadata": {
        "id": "wvzeL_u12KR4"
      }
    },
    {
      "cell_type": "markdown",
      "source": [
        "5. Are lambda functions in Python able to access variables defined outside of their own scope? Explain with an example."
      ],
      "metadata": {
        "id": "6xyF8gHZh0hL"
      }
    },
    {
      "cell_type": "markdown",
      "source": [
        "Yes, lambda functions in Python can access variables defined outside of their own scope. This is possible because lambda functions have access to the variables in the enclosing scope where they are created."
      ],
      "metadata": {
        "id": "AEkA7UxLZYl7"
      }
    },
    {
      "cell_type": "code",
      "source": [
        "def outer_function():\n",
        "  number = 10\n",
        "  inner_function = lambda: number\n",
        "  return inner_function\n",
        "\n",
        "inner_function = outer_function()\n",
        "\n",
        "print(inner_function())\n",
        "# variable `number` is defined in the outer_function() function\n",
        "# inner_function() lambda function can access the variable `number` because it is defined in the enclosing scope"
      ],
      "metadata": {
        "colab": {
          "base_uri": "https://localhost:8080/"
        },
        "id": "wyg2MFnYZZx1",
        "outputId": "2b38cc6e-cca4-497b-ecd5-61a7656c1e70"
      },
      "execution_count": null,
      "outputs": [
        {
          "output_type": "stream",
          "name": "stdout",
          "text": [
            "10\n"
          ]
        }
      ]
    },
    {
      "cell_type": "markdown",
      "source": [
        "6. Write a lambda function to calculate the square of a given number."
      ],
      "metadata": {
        "id": "RBWF0Zrih3z3"
      }
    },
    {
      "cell_type": "code",
      "source": [
        "square = lambda x: x*x # Lambda function to find square of number\n",
        "print(square(10)) # Output : 100"
      ],
      "metadata": {
        "colab": {
          "base_uri": "https://localhost:8080/"
        },
        "id": "ywEF8rW9zInY",
        "outputId": "d2dad5da-7f10-4854-da9f-24c1b1ed8f85"
      },
      "execution_count": null,
      "outputs": [
        {
          "output_type": "stream",
          "name": "stdout",
          "text": [
            "100\n"
          ]
        }
      ]
    },
    {
      "cell_type": "markdown",
      "source": [
        "7. Create a lambda function to find the maximum value in a list of integers."
      ],
      "metadata": {
        "id": "C7T80BnMh6Jc"
      }
    },
    {
      "cell_type": "code",
      "source": [
        "# lambda function named max_value that takes a single list argument to return the maximum value in the given list\n",
        "max_value = lambda lst : max(lst)\n",
        "\n",
        "print(max_value([1, 2, 3, 4, 5]))  # Output: 5"
      ],
      "metadata": {
        "colab": {
          "base_uri": "https://localhost:8080/"
        },
        "id": "V-YPLJgO0KZ-",
        "outputId": "229ea8c3-2ca0-400a-b08c-849932d2ce7c"
      },
      "execution_count": null,
      "outputs": [
        {
          "output_type": "stream",
          "name": "stdout",
          "text": [
            "5\n"
          ]
        }
      ]
    },
    {
      "cell_type": "markdown",
      "source": [
        "8. Implement a lambda function to filter out all the even numbers from a list of integers."
      ],
      "metadata": {
        "id": "CkwAq4d8h8s0"
      }
    },
    {
      "cell_type": "code",
      "source": [
        "numbers = [1,2,3,4,5,6,7,8,9]\n",
        "# lambda function with the filter() function to select even numbers from 'numbers' list\n",
        "even_numbers = list(filter(lambda number : number % 2 == 0, numbers))\n",
        "\n",
        "print(even_numbers) # Output: [2, 4, 6, 8]"
      ],
      "metadata": {
        "colab": {
          "base_uri": "https://localhost:8080/"
        },
        "id": "xuF7zBge1YYE",
        "outputId": "fc6e660f-bdc7-43b8-e42a-e0119c95510a"
      },
      "execution_count": null,
      "outputs": [
        {
          "output_type": "stream",
          "name": "stdout",
          "text": [
            "[2, 4, 6, 8]\n"
          ]
        }
      ]
    },
    {
      "cell_type": "markdown",
      "source": [
        "9. Write a lambda function to sort a list of strings in ascending order based on the length of each string."
      ],
      "metadata": {
        "id": "E2L1miFoh-z2"
      }
    },
    {
      "cell_type": "code",
      "source": [
        "input_lst = ['robin', 'banerjee', 'rob', 'hi']\n",
        "# Sorting the list of strings in ascending order based on string length\n",
        "output_lst = sorted(input_lst, key = lambda string: len(string))\n",
        "\n",
        "print(output_lst) # Output: ['hi', 'rob', 'robin', 'banerjee']"
      ],
      "metadata": {
        "colab": {
          "base_uri": "https://localhost:8080/"
        },
        "id": "5myvCMJn5JsG",
        "outputId": "58c0c560-4f15-4b3f-8210-524dc5a0ff16"
      },
      "execution_count": null,
      "outputs": [
        {
          "output_type": "stream",
          "name": "stdout",
          "text": [
            "['hi', 'rob', 'robin', 'banerjee']\n"
          ]
        }
      ]
    },
    {
      "cell_type": "markdown",
      "source": [
        "10. Create a lambda function that takes two lists as input and returns a new list containing the common elements between the two lists."
      ],
      "metadata": {
        "id": "3Vs4OdyIiDUS"
      }
    },
    {
      "cell_type": "code",
      "source": [
        "list1 = [0,1,2,3,4,5]\n",
        "list2 = [5,6,7,8,9,0]\n",
        "# lambda function and filter to find common elements\n",
        "common = list(filter(lambda x: x in list2, list1))\n",
        "\n",
        "print(common)"
      ],
      "metadata": {
        "colab": {
          "base_uri": "https://localhost:8080/"
        },
        "id": "MFoARPVo1hlM",
        "outputId": "53cacd26-201f-4eee-f56c-d1824f1b77b6"
      },
      "execution_count": null,
      "outputs": [
        {
          "output_type": "stream",
          "name": "stdout",
          "text": [
            "[0, 5]\n"
          ]
        }
      ]
    },
    {
      "cell_type": "markdown",
      "source": [
        "11. Write a recursive function to calculate the factorial of a given positive integer."
      ],
      "metadata": {
        "id": "FmKu5_YqiFQU"
      }
    },
    {
      "cell_type": "code",
      "source": [
        "def factorial(num):\n",
        "  if(num == 0 or num == 1): # base condition\n",
        "    return 1\n",
        "  else: # recursive step: calculate num times the factorial of (num - 1)\n",
        "    return num * factorial(num-1)\n",
        "\n",
        "num = 5\n",
        "print(f\"Factorial of {num} is {factorial(num)}\")"
      ],
      "metadata": {
        "colab": {
          "base_uri": "https://localhost:8080/"
        },
        "id": "YvqKLp4P4PLD",
        "outputId": "23ab37bb-536e-4d0c-eafe-385cfa149ca0"
      },
      "execution_count": null,
      "outputs": [
        {
          "output_type": "stream",
          "name": "stdout",
          "text": [
            "Factorial of 5 is 120\n"
          ]
        }
      ]
    },
    {
      "cell_type": "markdown",
      "source": [
        "12. Implement a recursive function to compute the nth Fibonacci number."
      ],
      "metadata": {
        "id": "_YVFMsYYiIE0"
      }
    },
    {
      "cell_type": "code",
      "source": [
        "def fibonacci(n):\n",
        "  if n <= 0:\n",
        "    return 0\n",
        "  elif n == 1:\n",
        "    return 1\n",
        "  else:\n",
        "    return fibonacci(n - 1) + fibonacci(n - 2)\n",
        "\n",
        "num = 10\n",
        "print(f'{num}th Fibonacci number is: {fibonacci(num)}')"
      ],
      "metadata": {
        "colab": {
          "base_uri": "https://localhost:8080/"
        },
        "id": "Iyth2u3v6-LD",
        "outputId": "43da0888-087b-4b11-bd82-7e9f5ba2f5b8"
      },
      "execution_count": null,
      "outputs": [
        {
          "output_type": "stream",
          "name": "stdout",
          "text": [
            "10th Fibonacci number is: 55\n"
          ]
        }
      ]
    },
    {
      "cell_type": "markdown",
      "source": [
        "13. Create a recursive function to find the sum of all the elements in a given list."
      ],
      "metadata": {
        "id": "xXT3JyqtiKIG"
      }
    },
    {
      "cell_type": "code",
      "source": [
        "input_list = [1,2,3,4,5,6,7,8,9]\n",
        "\n",
        "def sum_of_elements(lst):\n",
        "  if not lst:\n",
        "    return 0\n",
        "  else:\n",
        "    return lst[0] + sum_of_elements(lst[1:])\n",
        "\n",
        "print(f\"sum of all elements of {input_list} is: {sum_of_elements(input_list)}\")"
      ],
      "metadata": {
        "colab": {
          "base_uri": "https://localhost:8080/"
        },
        "id": "If3_vtbMMGyC",
        "outputId": "09e059ae-d6f1-459d-c8bc-988d692ab080"
      },
      "execution_count": 6,
      "outputs": [
        {
          "output_type": "stream",
          "name": "stdout",
          "text": [
            "sum of all elements of [1, 2, 3, 4, 5, 6, 7, 8, 9] is: 45\n"
          ]
        }
      ]
    },
    {
      "cell_type": "markdown",
      "source": [
        "14. Write a recursive function to determine whether a given string is a palindrome."
      ],
      "metadata": {
        "id": "wtVo4gm2iL38"
      }
    },
    {
      "cell_type": "markdown",
      "source": [
        "15. Implement a recursive function to find the greatest common divisor (GCD) of two positive integers."
      ],
      "metadata": {
        "id": "p61HPj4GiN7a"
      }
    },
    {
      "cell_type": "code",
      "execution_count": null,
      "metadata": {
        "id": "FhVRB9X4hJeC"
      },
      "outputs": [],
      "source": []
    }
  ]
}