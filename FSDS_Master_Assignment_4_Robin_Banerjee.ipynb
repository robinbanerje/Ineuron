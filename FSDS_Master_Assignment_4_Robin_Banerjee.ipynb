{
  "nbformat": 4,
  "nbformat_minor": 0,
  "metadata": {
    "colab": {
      "provenance": []
    },
    "kernelspec": {
      "name": "python3",
      "display_name": "Python 3"
    },
    "language_info": {
      "name": "python"
    }
  },
  "cells": [
    {
      "cell_type": "markdown",
      "source": [
        "1. What exactly is []?"
      ],
      "metadata": {
        "id": "Oup3h0Oq0PCt"
      }
    },
    {
      "cell_type": "code",
      "execution_count": null,
      "metadata": {
        "id": "Atw69x6t0ETo",
        "colab": {
          "base_uri": "https://localhost:8080/"
        },
        "outputId": "eacf1c04-c83b-4979-f69e-ddc45ac4ccae"
      },
      "outputs": [
        {
          "output_type": "stream",
          "name": "stdout",
          "text": [
            "[]\n"
          ]
        }
      ],
      "source": [
        "# '[]' represents an empty list\n",
        "\n",
        "empty_list = []\n",
        "print(empty_list)  # Output: []"
      ]
    },
    {
      "cell_type": "markdown",
      "source": [
        "2. In a list of values stored in a variable called spam, how would you assign the value 'hello' as the third value? (Assume [2, 4, 6, 8, 10] are in spam.)"
      ],
      "metadata": {
        "id": "vzhdpjmmGDSd"
      }
    },
    {
      "cell_type": "markdown",
      "source": [
        "To assign the value 'hello' as the third value in the list stored in the variable spam, we can use the insert() function"
      ],
      "metadata": {
        "id": "WL3zPE8sGm1i"
      }
    },
    {
      "cell_type": "code",
      "source": [
        "spam = [2, 4, 6, 8, 10]\n",
        "spam.insert(2, 'hello')\n",
        "print(spam)  # Output: [2, 4, 'hello', 6, 8, 10]\n",
        "\n",
        "spam = ['a', 'b', 'c', 'd']\n",
        "spam.insert(2, 'hello')\n",
        "print(spam)  # Output: ['a', 'b', 'hello', 'c', 'd']"
      ],
      "metadata": {
        "colab": {
          "base_uri": "https://localhost:8080/"
        },
        "id": "PPwq0jY1FvqY",
        "outputId": "8ffcfafb-5360-4a3e-97c4-88cad296fc2a"
      },
      "execution_count": 1,
      "outputs": [
        {
          "output_type": "stream",
          "name": "stdout",
          "text": [
            "[2, 4, 'hello', 6, 8, 10]\n",
            "['a', 'b', 'hello', 'c', 'd']\n"
          ]
        }
      ]
    },
    {
      "cell_type": "markdown",
      "source": [
        "- Let's pretend the spam includes the list ['a', 'b', 'c', 'd'] for the next three queries."
      ],
      "metadata": {
        "id": "NM4GF_60h3vU"
      }
    },
    {
      "cell_type": "markdown",
      "source": [
        "3. What is the value of spam[int(int('3' * 2) / 11)]?"
      ],
      "metadata": {
        "id": "KuBKlDgwG3g1"
      }
    },
    {
      "cell_type": "markdown",
      "source": [
        "'3' * 2 evaluates to the string '33'.\n",
        "\n",
        "---\n",
        "int('33') converts the string '33' to an integer 33.\n",
        "\n",
        "---\n",
        "int('33') / 11 performs integer division, resulting in 3.\n",
        "\n",
        "---\n",
        "spam[int(3)] accesses the element at index 3 in the list spam.\n",
        "\n",
        "\n",
        "---\n",
        "Assuming spam contains the list ['a', 'b', 'c', 'd'], the value of spam[int(int('3' * 2) / 11)] would be 'd'."
      ],
      "metadata": {
        "id": "L5BBOFOhfmyG"
      }
    },
    {
      "cell_type": "code",
      "source": [
        "spam = ['a', 'b', 'c', 'd']\n",
        "print(spam[int(int('3' * 2) / 11)])"
      ],
      "metadata": {
        "colab": {
          "base_uri": "https://localhost:8080/"
        },
        "id": "uWEGOer_gdwy",
        "outputId": "407745ca-60a7-465f-89d4-cf3be0ae94ae"
      },
      "execution_count": 12,
      "outputs": [
        {
          "output_type": "stream",
          "name": "stdout",
          "text": [
            "d\n"
          ]
        }
      ]
    },
    {
      "cell_type": "markdown",
      "source": [
        "4. What is the value of spam[-1]?"
      ],
      "metadata": {
        "id": "Or7kdrNFgxgY"
      }
    },
    {
      "cell_type": "markdown",
      "source": [
        "In Python, negative indices are used to access elements from the end of a list. The index -1 represents the last element of the list"
      ],
      "metadata": {
        "id": "qkB4n8IGgztp"
      }
    },
    {
      "cell_type": "code",
      "source": [
        "spam = ['a', 'b', 'c', 'd']\n",
        "print(spam[-1])"
      ],
      "metadata": {
        "colab": {
          "base_uri": "https://localhost:8080/"
        },
        "id": "SR0kTH7dglhy",
        "outputId": "aa2d77b6-c03a-4a7f-d992-43e6707a75dd"
      },
      "execution_count": 13,
      "outputs": [
        {
          "output_type": "stream",
          "name": "stdout",
          "text": [
            "d\n"
          ]
        }
      ]
    },
    {
      "cell_type": "markdown",
      "source": [
        "5. What is the value of spam[:2]?"
      ],
      "metadata": {
        "id": "OgSeR5OehBlo"
      }
    },
    {
      "cell_type": "markdown",
      "source": [
        "In Python, slicing is used to extract a portion of a list. The syntax for slicing is list[start:end], where start is the index of the first element to include, and end is the index of the first element to exclude."
      ],
      "metadata": {
        "id": "1FtSYibxhSum"
      }
    },
    {
      "cell_type": "code",
      "source": [
        "# if spam contains the list ['a', 'b', 'c', 'd']\n",
        "# spam[:2] will give a new list containing the elements from index 0 (inclusive) up to index 2 (exclusive)\n",
        "spam = ['a', 'b', 'c', 'd']\n",
        "print(spam[:2])"
      ],
      "metadata": {
        "colab": {
          "base_uri": "https://localhost:8080/"
        },
        "id": "mHQiDXSpg_Xp",
        "outputId": "e9d00143-b299-4c50-8bf7-1f6d09b8411e"
      },
      "execution_count": 14,
      "outputs": [
        {
          "output_type": "stream",
          "name": "stdout",
          "text": [
            "['a', 'b']\n"
          ]
        }
      ]
    },
    {
      "cell_type": "markdown",
      "source": [
        "- Let's pretend bacon has the list [3.14, 'cat', 11, 'cat', True] for the next three questions."
      ],
      "metadata": {
        "id": "YQJ0f-cIhW5A"
      }
    },
    {
      "cell_type": "markdown",
      "source": [
        "6. What is the value of bacon.index('cat')?"
      ],
      "metadata": {
        "id": "I-TlSLrCir2x"
      }
    },
    {
      "cell_type": "markdown",
      "source": [
        "The index() method is used to find the index of the first occurrence of a specified element in a list. If the element is not found in the list, it will raise a ValueError.\n",
        "\n",
        "If bacon contains the list [3.14, 'cat', 11, 'cat', True], then bacon.index('cat') will give the value 1. The first occurrence of the element 'cat' is at index 1 in the list bacon."
      ],
      "metadata": {
        "id": "f0BsNFT4jR4w"
      }
    },
    {
      "cell_type": "code",
      "source": [
        "bacon = [3.14, 'cat', 11, 'cat', True]\n",
        "print(bacon.index('cat')) # Output: 1"
      ],
      "metadata": {
        "colab": {
          "base_uri": "https://localhost:8080/"
        },
        "id": "KSST1kV-iQR5",
        "outputId": "61033347-c986-4e03-bbbb-ca9ef79dd79c"
      },
      "execution_count": 15,
      "outputs": [
        {
          "output_type": "stream",
          "name": "stdout",
          "text": [
            "1\n"
          ]
        }
      ]
    },
    {
      "cell_type": "markdown",
      "source": [
        "7. How does bacon.append(99) change the look of the list value in bacon?"
      ],
      "metadata": {
        "id": "ai0pd_E9j9OL"
      }
    },
    {
      "cell_type": "markdown",
      "source": [
        "The expression bacon.append(99) appends the integer 99 to the end of the list bacon. Therefore, the list bacon will look like [3.14, 'cat', 11, 'cat', True, 99]."
      ],
      "metadata": {
        "id": "67FW1hO3j-SP"
      }
    },
    {
      "cell_type": "code",
      "source": [
        "bacon = [3.14, 'cat', 11, 'cat', True]\n",
        "bacon.append(99)\n",
        "print(bacon)"
      ],
      "metadata": {
        "colab": {
          "base_uri": "https://localhost:8080/"
        },
        "id": "GNTjufNIjarE",
        "outputId": "82e7e7f4-ad38-48a0-cff9-fe236886df9e"
      },
      "execution_count": 16,
      "outputs": [
        {
          "output_type": "stream",
          "name": "stdout",
          "text": [
            "[3.14, 'cat', 11, 'cat', True, 99]\n"
          ]
        }
      ]
    },
    {
      "cell_type": "markdown",
      "source": [
        "8. How does bacon.remove('cat') change the look of the list in bacon?"
      ],
      "metadata": {
        "id": "TgLhKCVXkQTq"
      }
    },
    {
      "cell_type": "markdown",
      "source": [
        "The remove() method in Python is used to remove the first occurrence of a specified element from a list. If the element is not found in the list, it will raise a ValueError."
      ],
      "metadata": {
        "id": "uoXfLmO1kbzR"
      }
    },
    {
      "cell_type": "code",
      "source": [
        "bacon = [3.14, 'cat', 11, 'cat', True]\n",
        "bacon.remove('cat')\n",
        "print(bacon)"
      ],
      "metadata": {
        "colab": {
          "base_uri": "https://localhost:8080/"
        },
        "id": "QwCTYIHQkL7l",
        "outputId": "39c047ce-bb68-4f43-9618-2968cf49b636"
      },
      "execution_count": 17,
      "outputs": [
        {
          "output_type": "stream",
          "name": "stdout",
          "text": [
            "[3.14, 11, 'cat', True]\n"
          ]
        }
      ]
    },
    {
      "cell_type": "markdown",
      "source": [
        "9. What are the list concatenation and list replication operators?"
      ],
      "metadata": {
        "id": "YyOoBJg7khLj"
      }
    },
    {
      "cell_type": "markdown",
      "source": [
        "The list concatenation operator is the + operator. The list replication operator is the * operator."
      ],
      "metadata": {
        "id": "8pUSpNnDlL1j"
      }
    },
    {
      "cell_type": "code",
      "source": [
        "list1 = [1, 2, 3]\n",
        "list2 = [4, 5, 6]\n",
        "concatenated_list = list1 + list2\n",
        "print(concatenated_list)  # Output: [1, 2, 3, 4, 5, 6]\n",
        "\n",
        "list1 = [1, 2, 3]\n",
        "replicated_list = list1 * 3\n",
        "print(replicated_list)  # Output: [1, 2, 3, 1, 2, 3, 1, 2, 3]"
      ],
      "metadata": {
        "colab": {
          "base_uri": "https://localhost:8080/"
        },
        "id": "Dr3Gfh2Zkg31",
        "outputId": "c746f87c-eb90-47ca-b7e8-90007abdf575"
      },
      "execution_count": 18,
      "outputs": [
        {
          "output_type": "stream",
          "name": "stdout",
          "text": [
            "[1, 2, 3, 4, 5, 6]\n",
            "[1, 2, 3, 1, 2, 3, 1, 2, 3]\n"
          ]
        }
      ]
    },
    {
      "cell_type": "markdown",
      "source": [
        "10. What is difference between the list methods append() and insert()?"
      ],
      "metadata": {
        "id": "_XDzhq0wmfrA"
      }
    },
    {
      "cell_type": "markdown",
      "source": [
        "The append() method adds an element to the end of a list. The insert() method adds an element to a list at a specific index."
      ],
      "metadata": {
        "id": "TMXvY9kYoRtz"
      }
    },
    {
      "cell_type": "code",
      "source": [
        "fruits = ['apple', 'banana', 'orange']\n",
        "fruits.append('grape')\n",
        "print(fruits)  # Output: ['apple', 'banana', 'orange', 'grape']\n",
        "\n",
        "list1 = [1, 2, 3]\n",
        "list1.insert(1, 4)\n",
        "print(list1)  # Output: [1, 4, 2, 3]"
      ],
      "metadata": {
        "colab": {
          "base_uri": "https://localhost:8080/"
        },
        "id": "horFSujnlUju",
        "outputId": "d5956eed-0c4d-46d4-9ce1-7f1d4e18cbf9"
      },
      "execution_count": 20,
      "outputs": [
        {
          "output_type": "stream",
          "name": "stdout",
          "text": [
            "['apple', 'banana', 'orange', 'grape']\n",
            "[1, 4, 2, 3]\n"
          ]
        }
      ]
    },
    {
      "cell_type": "markdown",
      "source": [
        "11. What are the two methods for removing items from a list?"
      ],
      "metadata": {
        "id": "D-ayqDX1ozzG"
      }
    },
    {
      "cell_type": "markdown",
      "source": [
        "remove(): The remove() method is used to remove the first occurrence of a specified element from the list. It takes one argument, which is the element to be removed."
      ],
      "metadata": {
        "id": "9RvBJGvtpB2b"
      }
    },
    {
      "cell_type": "code",
      "source": [
        "list1 = [1, 2, 3, 4, 5]\n",
        "list1.remove(3)\n",
        "print(list1)  # Output: [1, 2, 4, 5]"
      ],
      "metadata": {
        "colab": {
          "base_uri": "https://localhost:8080/"
        },
        "id": "4E6w2-9GomdY",
        "outputId": "859adaea-9bee-48df-acbb-8125061f4157"
      },
      "execution_count": 22,
      "outputs": [
        {
          "output_type": "stream",
          "name": "stdout",
          "text": [
            "[1, 2, 4, 5]\n"
          ]
        }
      ]
    },
    {
      "cell_type": "markdown",
      "source": [
        "pop(): The pop() method is used to remove an element from a specific position in the list. It takes an optional argument, which is the index of the element to be removed. If no index is specified, it removes and returns the last element from the list."
      ],
      "metadata": {
        "id": "dcwxaWzXpOBw"
      }
    },
    {
      "cell_type": "code",
      "source": [
        "fruits = ['apple', 'banana', 'orange']\n",
        "removed_fruit = fruits.pop(1)\n",
        "print(fruits)  # Output: ['apple', 'orange']\n",
        "print(removed_fruit)  # Output: 'banana'"
      ],
      "metadata": {
        "colab": {
          "base_uri": "https://localhost:8080/"
        },
        "id": "-os1GZGcpM3X",
        "outputId": "478071e8-e074-4bc6-d1d9-fd3882206568"
      },
      "execution_count": 23,
      "outputs": [
        {
          "output_type": "stream",
          "name": "stdout",
          "text": [
            "['apple', 'orange']\n",
            "banana\n"
          ]
        }
      ]
    },
    {
      "cell_type": "markdown",
      "source": [
        "12. Describe how list values and string values are identical."
      ],
      "metadata": {
        "id": "qJUD7KHaqCEv"
      }
    },
    {
      "cell_type": "markdown",
      "source": [
        "- Indexing and Slicing: Both lists and strings support indexing and slicing.\n",
        "```\n",
        "my_list = [1, 2, 3, 4, 5]\n",
        "my_string = \"Hello, World!\"\n",
        "print(my_list[2])        # Output: 3\n",
        "print(my_string[7])      # Output: W\n",
        "print(my_list[1:4])      # Output: [2, 3, 4]\n",
        "print(my_string[0:5])    # Output: Hello\n",
        "```\n",
        "---\n",
        "\n",
        "- Iteration: You can iterate over both lists and strings using loops like for and while.\n",
        "```\n",
        "my_list = [1, 2, 3, 4, 5]\n",
        "my_string = \"Hello\"\n",
        "for item in my_list:\n",
        "    print(item)          # Output: 1 2 3 4 5\n",
        "for char in my_string:\n",
        "    print(char)          # Output: H e l l o\n",
        "```\n",
        "---\n",
        "\n",
        "- Length: Both lists and strings have a length that can be obtained using the len() function.\n",
        "```\n",
        "my_list = [1, 2, 3, 4, 5]\n",
        "my_string = \"Hello\"\n",
        "print(len(my_list))      # Output: 5\n",
        "print(len(my_string))    # Output: 5\n",
        "```\n",
        "---\n",
        "\n",
        "- Membership: You can use the in operator to check if an element or character is present in a list or string.\n",
        "```\n",
        "my_list = [1, 2, 3, 4, 5]\n",
        "my_string = \"Hello\"\n",
        "print(3 in my_list)      # Output: True\n",
        "print('e' in my_string)  # Output: True\n",
        "```"
      ],
      "metadata": {
        "id": "YZ4sh4lZq2wC"
      }
    },
    {
      "cell_type": "markdown",
      "source": [
        "13. What's the difference between tuples and lists?"
      ],
      "metadata": {
        "id": "r5pAzuk5sAdY"
      }
    },
    {
      "cell_type": "markdown",
      "source": [
        "![image.png](data:image/png;base64,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)"
      ],
      "metadata": {
        "id": "7oGKK58csbEz"
      }
    },
    {
      "cell_type": "markdown",
      "source": [
        "14. How do you type a tuple value that only contains the integer 42?"
      ],
      "metadata": {
        "id": "s4JnJGq7AR5j"
      }
    },
    {
      "cell_type": "markdown",
      "source": [
        "```\n",
        "my_tuple = (42,)\n",
        "```\n",
        "Tuple value containing only the integer 42, we use parentheses () with the integer inside with the comma , after the integer which is essential when creating a tuple with a single element.\n",
        "\n",
        "Without the comma, Python will interpret it as just an integer, not as a tuple."
      ],
      "metadata": {
        "id": "n7CHrxiKAqhy"
      }
    },
    {
      "cell_type": "markdown",
      "source": [
        "15. How do you get a list value's tuple form? How do you get a tuple value's list form?"
      ],
      "metadata": {
        "id": "PnVK4Dk_BKFb"
      }
    },
    {
      "cell_type": "code",
      "source": [
        "# Converting a list to a tuple:\n",
        "list1 = [1, 2, 3, 4]\n",
        "tuple1 = tuple(list1)\n",
        "print(tuple1)  # Output: (1, 2, 3, 4)\n",
        "\n",
        "# Converting a tuple to a list:\n",
        "tuple2 = (1, 2, 3, 4)\n",
        "list2 = list(tuple2)\n",
        "print(list2)  # Output: [1, 2, 3, 4]"
      ],
      "metadata": {
        "colab": {
          "base_uri": "https://localhost:8080/"
        },
        "id": "xdVAiUXWpkth",
        "outputId": "566a0c61-6a00-4017-dc54-81d038539ab4"
      },
      "execution_count": 25,
      "outputs": [
        {
          "output_type": "stream",
          "name": "stdout",
          "text": [
            "(1, 2, 3, 4)\n",
            "[1, 2, 3, 4]\n"
          ]
        }
      ]
    },
    {
      "cell_type": "markdown",
      "source": [
        "16. Variables that \"contain\" list values are not necessarily lists themselves. Instead, what do they contain?"
      ],
      "metadata": {
        "id": "y2adT4XiCM0C"
      }
    },
    {
      "cell_type": "markdown",
      "source": [
        "- Variables that \"contain\" list values in Python actually contain references or pointers to the memory location where the list is stored.\n",
        "- When you assign a list to a variable, the variable points to the memory location where the list is stored, rather than holding the actual elements of the list directly. This is true for all mutable data types in Python, including lists."
      ],
      "metadata": {
        "id": "nTSHnLqNC8AE"
      }
    },
    {
      "cell_type": "code",
      "source": [
        "# Assigning a list to a variable 'my_list'\n",
        "my_list = [1, 2, 3, 4]\n",
        "\n",
        "# If we create another variable 'another_list' and set it to 'my_list'\n",
        "another_list = my_list\n",
        "\n",
        "# Now, modifying the list through 'another_list'\n",
        "another_list[0] = 10\n",
        "\n",
        "# Both 'my_list' and 'another_list' will reflect the change\n",
        "print(my_list)       # Output: [10, 2, 3, 4]\n",
        "print(another_list)  # Output: [10, 2, 3, 4]"
      ],
      "metadata": {
        "colab": {
          "base_uri": "https://localhost:8080/"
        },
        "id": "mT1rjgMoBqu8",
        "outputId": "18037927-b706-4943-ea74-c69114dc1ced"
      },
      "execution_count": 26,
      "outputs": [
        {
          "output_type": "stream",
          "name": "stdout",
          "text": [
            "[10, 2, 3, 4]\n",
            "[10, 2, 3, 4]\n"
          ]
        }
      ]
    },
    {
      "cell_type": "markdown",
      "source": [
        "- In the example above, my_list and another_list are two different variables, but they both point to the same memory location where the list [1, 2, 3, 4] is stored. So, any changes made to the list using one variable will also be reflected in the other variable, because they both reference the same list in memory.\n",
        "- This behavior is important to know when working with mutable data types in Python, as it can affect the behavior of code when modifying lists or other mutable objects."
      ],
      "metadata": {
        "id": "e6IN_Q_QDQ3_"
      }
    },
    {
      "cell_type": "markdown",
      "source": [
        "17. How do you distinguish between copy.copy() and copy.deepcopy()?"
      ],
      "metadata": {
        "id": "koFWqIIQD2bN"
      }
    },
    {
      "cell_type": "markdown",
      "source": [
        "copy.copy():\n",
        "\n",
        "- copy.copy() creates a shallow copy of an object. It duplicates the top-level structure of the object but does not create new copies of the elements within the object.\n",
        "- If the object being copied contains other objects (e.g., nested lists or dictionaries), the new copy will still reference the same nested objects as the original object. Changes made to the nested objects will be reflected in both the original and the copied object.\n",
        "- Shallow copy is sufficient for simple objects, but it may not be suitable for more complex data structures.\n",
        "---\n",
        "\n",
        "copy.deepcopy():\n",
        "\n",
        "- copy.deepcopy() creates a deep copy of an object. It duplicates the top-level structure of the object and recursively creates new copies of all the elements within the object, including nested objects.\n",
        "- This means that a deep copy creates entirely independent copies of all nested objects, so changes made to the nested objects in the copied object will not affect the original object, and vice versa.\n",
        "- Deep copy is useful when you need a completely independent copy of a complex object, especially if you want to modify the copied object without affecting the original."
      ],
      "metadata": {
        "id": "Y6aHGUJiQB5B"
      }
    },
    {
      "cell_type": "code",
      "source": [
        "import copy\n",
        "\n",
        "# Nested list\n",
        "original_list = [1, [2, 3], [4, 5]]\n",
        "\n",
        "# Shallow copy using copy.copy()\n",
        "shallow_copy_list = copy.copy(original_list)\n",
        "\n",
        "# Deep copy using copy.deepcopy()\n",
        "deep_copy_list = copy.deepcopy(original_list)\n",
        "\n",
        "# Modify the nested list in the copies\n",
        "shallow_copy_list[1][0] = 100\n",
        "deep_copy_list[1][0] = 200\n",
        "\n",
        "print(shallow_copy_list)# Output: [1, [100, 3], [4, 5]]\n",
        "# Changes in the shallow copy affect the original\n",
        "print(original_list)    # Output: [1, [100, 3], [4, 5]]\n",
        "\n",
        "# Changes in the deep copy do not affect the original\n",
        "print(deep_copy_list)   # Output: [1, [200, 3], [4, 5]]"
      ],
      "metadata": {
        "colab": {
          "base_uri": "https://localhost:8080/"
        },
        "id": "aweq9W5JDJyx",
        "outputId": "dcd1e914-800f-4ecc-c902-b12cdb9d8985"
      },
      "execution_count": 27,
      "outputs": [
        {
          "output_type": "stream",
          "name": "stdout",
          "text": [
            "[1, [100, 3], [4, 5]]\n",
            "[1, [100, 3], [4, 5]]\n",
            "[1, [200, 3], [4, 5]]\n"
          ]
        }
      ]
    }
  ]
}