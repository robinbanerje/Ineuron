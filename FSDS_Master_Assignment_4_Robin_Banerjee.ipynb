{
  "nbformat": 4,
  "nbformat_minor": 0,
  "metadata": {
    "colab": {
      "provenance": []
    },
    "kernelspec": {
      "name": "python3",
      "display_name": "Python 3"
    },
    "language_info": {
      "name": "python"
    }
  },
  "cells": [
    {
      "cell_type": "markdown",
      "source": [
        "1. What exactly is []?"
      ],
      "metadata": {
        "id": "Oup3h0Oq0PCt"
      }
    },
    {
      "cell_type": "code",
      "execution_count": 1,
      "metadata": {
        "id": "Atw69x6t0ETo",
        "colab": {
          "base_uri": "https://localhost:8080/"
        },
        "outputId": "eacf1c04-c83b-4979-f69e-ddc45ac4ccae"
      },
      "outputs": [
        {
          "output_type": "stream",
          "name": "stdout",
          "text": [
            "[]\n"
          ]
        }
      ],
      "source": [
        "# '[]' represents an empty list\n",
        "\n",
        "empty_list = []\n",
        "print(empty_list)  # Output: []"
      ]
    },
    {
      "cell_type": "markdown",
      "source": [
        "2. In a list of values stored in a variable called spam, how would you assign the value 'hello' as the third value? (Assume [2, 4, 6, 8, 10] are in spam.)"
      ],
      "metadata": {
        "id": "vzhdpjmmGDSd"
      }
    },
    {
      "cell_type": "markdown",
      "source": [
        "To assign the value 'hello' as the third value in the list stored in the variable spam, we can use the insert() function"
      ],
      "metadata": {
        "id": "WL3zPE8sGm1i"
      }
    },
    {
      "cell_type": "code",
      "source": [
        "spam = [2, 4, 6, 8, 10]\n",
        "spam.insert(2, 'hello')\n",
        "print(spam)  # Output: [2, 4, 'hello', 6, 8, 10]"
      ],
      "metadata": {
        "colab": {
          "base_uri": "https://localhost:8080/"
        },
        "id": "PPwq0jY1FvqY",
        "outputId": "fec49a8d-f16e-4228-e565-59d4800a0505"
      },
      "execution_count": 2,
      "outputs": [
        {
          "output_type": "stream",
          "name": "stdout",
          "text": [
            "[2, 4, 'hello', 6, 8, 10]\n"
          ]
        }
      ]
    },
    {
      "cell_type": "markdown",
      "source": [],
      "metadata": {
        "id": "KuBKlDgwG3g1"
      }
    }
  ]
}