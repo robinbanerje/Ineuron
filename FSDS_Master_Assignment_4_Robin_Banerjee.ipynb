{
  "nbformat": 4,
  "nbformat_minor": 0,
  "metadata": {
    "colab": {
      "provenance": []
    },
    "kernelspec": {
      "name": "python3",
      "display_name": "Python 3"
    },
    "language_info": {
      "name": "python"
    }
  },
  "cells": [
    {
      "cell_type": "markdown",
      "source": [
        "1. What exactly is []?"
      ],
      "metadata": {
        "id": "Oup3h0Oq0PCt"
      }
    },
    {
      "cell_type": "code",
      "execution_count": null,
      "metadata": {
        "id": "Atw69x6t0ETo"
      },
      "outputs": [],
      "source": []
    }
  ]
}