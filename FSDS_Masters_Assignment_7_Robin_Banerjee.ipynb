{
  "nbformat": 4,
  "nbformat_minor": 0,
  "metadata": {
    "colab": {
      "provenance": []
    },
    "kernelspec": {
      "name": "python3",
      "display_name": "Python 3"
    },
    "language_info": {
      "name": "python"
    }
  },
  "cells": [
    {
      "cell_type": "markdown",
      "source": [
        "Q.1. Create two int type variables, apply addition, subtraction, division and multiplications\n",
        "and store the results in variables. Then print the data in the following format by calling the\n",
        "variables:\n",
        "\n",
        "```\n",
        "First variable is __ & second variable is __.\n",
        "Addition: __ + __ = __\n",
        "Subtraction: __ - __ = __\n",
        "Multiplication: __ * __ = __\n",
        "Division: __ / __ = __\n",
        "```"
      ],
      "metadata": {
        "id": "Ou8bCgB8Az9r"
      }
    },
    {
      "cell_type": "code",
      "execution_count": 1,
      "metadata": {
        "colab": {
          "base_uri": "https://localhost:8080/"
        },
        "id": "kB-1RIP12zuH",
        "outputId": "6485955b-7515-4800-fe4d-57977003af0f"
      },
      "outputs": [
        {
          "output_type": "stream",
          "name": "stdout",
          "text": [
            "First variable is 10 & second variable is 5.\n",
            "Addition: 10 + 5 = 15\n",
            "Subtraction: 10 - 5 = 5\n",
            "Multiplication: 10 * 5 = 50\n",
            "Division: 10 / 5 = 2.0\n"
          ]
        }
      ],
      "source": [
        "# Create two int type variables\n",
        "first_variable = 10\n",
        "second_variable = 5\n",
        "\n",
        "# addition, subtraction, multiplication, and division\n",
        "addition_result = first_variable + second_variable\n",
        "subtraction_result = first_variable - second_variable\n",
        "multiplication_result = first_variable * second_variable\n",
        "division_result = first_variable / second_variable\n",
        "\n",
        "# Print data in specified format\n",
        "print(f\"First variable is {first_variable} & second variable is {second_variable}.\")\n",
        "print(f\"Addition: {first_variable} + {second_variable} = {addition_result}\")\n",
        "print(f\"Subtraction: {first_variable} - {second_variable} = {subtraction_result}\")\n",
        "print(f\"Multiplication: {first_variable} * {second_variable} = {multiplication_result}\")\n",
        "print(f\"Division: {first_variable} / {second_variable} = {division_result}\")"
      ]
    },
    {
      "cell_type": "markdown",
      "source": [
        "Q.2. What is the difference between the following operators:\n",
        "\n",
        "(i) ‘/’ & ‘//’\n",
        "\n",
        "(ii) ‘**’ & ‘^’\n"
      ],
      "metadata": {
        "id": "hK-P9w3aDttb"
      }
    },
    {
      "cell_type": "markdown",
      "source": [
        "(i) The difference between the '/' and '//' operators in Python is related to division:\n",
        "\n",
        "/: This is the regular division operator. It performs division and returns a floating-point (decimal) result. For example, 7 / 3 would give you 2.333....\n",
        "\n",
        "//: This is the floor division operator. It performs division and rounds down the result to the nearest integer. It always returns an integer result. For example, 7 // 3 would give you 2.\n",
        "\n",
        "(ii) The difference between the '**' and '^' operators in Python is related to exponentiation:\n",
        "\n",
        "**: This operator is used for exponentiation. It raises the left operand to the power of the right operand. For example, 2 ** 3 equals 8 (2 raised to the power of 3).\n",
        "\n",
        "^: This operator is a bitwise XOR operator, not an exponentiation operator. It performs a bitwise XOR operation on the binary representations of two integers. For example, 5 ^ 3 equals 6 (binary 101 ^ 011 = 110)."
      ],
      "metadata": {
        "id": "mlHHp1cpERn5"
      }
    },
    {
      "cell_type": "markdown",
      "source": [
        "Q.3. List the logical operators."
      ],
      "metadata": {
        "id": "Gk0PmFtSGhrW"
      }
    },
    {
      "cell_type": "markdown",
      "source": [
        "The logical operators in Python are:\n",
        "- and: Returns True if both operands are True, otherwise returns False\n",
        "- or: Returns True if at least one operand is True, otherwise returns False\n",
        "- not: Returns True if the operand is False, and vice versa"
      ],
      "metadata": {
        "id": "FcMiiY19Gy2p"
      }
    },
    {
      "cell_type": "markdown",
      "source": [
        "Q.4. Explain right shift operator and left shift operator with examples."
      ],
      "metadata": {
        "id": "QJRIvf3BG81s"
      }
    },
    {
      "cell_type": "markdown",
      "source": [
        "Right Shift Operator (>>):\n",
        "The right shift operator shifts the bits of a number to the right by a specified number of positions. It effectively divides the number by 2 raised to the power of the specified shift value"
      ],
      "metadata": {
        "id": "6CXDvIQBH0JG"
      }
    },
    {
      "cell_type": "code",
      "source": [
        "num = 16  # Binary: 10000\n",
        "shifted = num >> 2  # Shift 2 positions to the right\n",
        "print(shifted)  # Result: 4 (Binary: 0001)"
      ],
      "metadata": {
        "colab": {
          "base_uri": "https://localhost:8080/"
        },
        "id": "zllRggDzC2G4",
        "outputId": "a6cfd882-2f0f-4017-f7ee-38bb428aa7a5"
      },
      "execution_count": 2,
      "outputs": [
        {
          "output_type": "stream",
          "name": "stdout",
          "text": [
            "4\n"
          ]
        }
      ]
    },
    {
      "cell_type": "markdown",
      "source": [
        "Left Shift Operator (<<):\n",
        "The left shift operator shifts the bits of a number to the left by a specified number of positions. It effectively multiplies the number by 2 raised to the power of the specified shift value"
      ],
      "metadata": {
        "id": "dAx21jUzH6nE"
      }
    },
    {
      "cell_type": "code",
      "source": [
        "num = 5  # Binary: 0101\n",
        "shifted = num << 3  # Shift 3 positions to the left\n",
        "print(shifted)  # Result: 40 (Binary: 101000)"
      ],
      "metadata": {
        "colab": {
          "base_uri": "https://localhost:8080/"
        },
        "id": "BUEHW-vaH32u",
        "outputId": "b7fdff82-aae5-4bbf-c96d-157abde6a535"
      },
      "execution_count": 3,
      "outputs": [
        {
          "output_type": "stream",
          "name": "stdout",
          "text": [
            "40\n"
          ]
        }
      ]
    },
    {
      "cell_type": "markdown",
      "source": [
        "Q.5. Create a list containing int type data of length 15. Then write a code to check if 10 is present in the list or not."
      ],
      "metadata": {
        "id": "ydSANfhbIAEa"
      }
    },
    {
      "cell_type": "code",
      "source": [
        "list_of_numbers = [1, 2, 3, 4, 5, 6, 7, 8, 9, 10, 11, 12, 13, 14, 15]\n",
        "\n",
        "def is_10_in_list(list_of_numbers):\n",
        "  for number in list_of_numbers:\n",
        "    if number == 10:\n",
        "      return True\n",
        "  return False\n",
        "\n",
        "if is_10_in_list(list_of_numbers): # check if 10 is present in the list or not\n",
        "  print('10 is present in the list before change in the list')\n",
        "else:\n",
        "  print('10 is not present in the list before change in the list')\n",
        "\n",
        "list_of_numbers[9] = 0\n",
        "if is_10_in_list(list_of_numbers):  # check if 10 is present in the list or not\n",
        "  print('10 is present in the list after change in the list')\n",
        "else:\n",
        "  print('10 is not present in the list after change in the list')"
      ],
      "metadata": {
        "colab": {
          "base_uri": "https://localhost:8080/"
        },
        "id": "uk71MWiaH9Sa",
        "outputId": "f58683a6-73a0-43d4-cb12-6eecc5381ea4"
      },
      "execution_count": 8,
      "outputs": [
        {
          "output_type": "stream",
          "name": "stdout",
          "text": [
            "10 is present in the list before change in the list\n",
            "10 is not present in the list after change in the list\n"
          ]
        }
      ]
    }
  ]
}