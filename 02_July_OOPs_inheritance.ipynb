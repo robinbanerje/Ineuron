{
  "nbformat": 4,
  "nbformat_minor": 0,
  "metadata": {
    "colab": {
      "provenance": []
    },
    "kernelspec": {
      "name": "python3",
      "display_name": "Python 3"
    },
    "language_info": {
      "name": "python"
    }
  },
  "cells": [
    {
      "cell_type": "markdown",
      "source": [
        "1. Explain what inheritance is in object-oriented programming and why it is used."
      ],
      "metadata": {
        "id": "uzuZGksH1_z2"
      }
    },
    {
      "cell_type": "markdown",
      "source": [
        "Inheritance is a fundamental concept in object-oriented programming (OOP) that allows a new class (called a subclass or derived class) to inherit properties and behaviors (attributes and methods) from an existing class (called a superclass or base class). Inheritance creates a hierarchical relationship between classes, where the subclass is a specialized version of the superclass.\n",
        "\n",
        "Inheritance is used in OOP for a number of reasons, including:\n",
        "- Code reuse: Inheritance allows programmers to reuse code by inheriting the properties and behaviors of existing classes. This can save time and effort, and it can also help to improve the quality of code by reducing redundancy.\n",
        "- Code organization: Inheritance can help to organize code by grouping related classes together. This can make code easier to understand, maintain, and extend.\n",
        "- Flexibility: Inheritance makes code more flexible by allowing programmers to create new classes that are based on existing classes. This allows programmers to customize existing classes to meet the needs of their specific application."
      ],
      "metadata": {
        "id": "fTDxN7cm1Q6X"
      }
    },
    {
      "cell_type": "code",
      "source": [
        "# Define a base class called 'Animal'\n",
        "class Animal:\n",
        "    def __init__(self, name):\n",
        "        self.name = name\n",
        "\n",
        "    def speak(self):\n",
        "        pass  # This method will be overridden in subclasses\n",
        "\n",
        "# Define a subclass 'Dog' that inherits from 'Animal'\n",
        "class Dog(Animal):\n",
        "    def speak(self):\n",
        "        return f\"{self.name} barks.\"\n",
        "\n",
        "# Define another subclass 'Cat' that also inherits from 'Animal'\n",
        "class Cat(Animal):\n",
        "    def speak(self):\n",
        "        return f\"{self.name} meows.\"\n",
        "\n",
        "# Create instances of 'Dog' and 'Cat'\n",
        "dog = Dog(\"kutta\")\n",
        "cat = Cat(\"billy\")\n",
        "\n",
        "# Call the 'speak' method on each instance\n",
        "print(dog.speak())  # Output: \"kutta barks.\"\n",
        "print(cat.speak())  # Output: \"billy meows.\""
      ],
      "metadata": {
        "colab": {
          "base_uri": "https://localhost:8080/"
        },
        "id": "ZpxOFOLD5qQB",
        "outputId": "e50f8c50-0fa8-4869-ecc1-153e646d6834"
      },
      "execution_count": null,
      "outputs": [
        {
          "output_type": "stream",
          "name": "stdout",
          "text": [
            "kutta barks.\n",
            "billy meows.\n"
          ]
        }
      ]
    },
    {
      "cell_type": "markdown",
      "source": [
        "2. Discuss the concept of single inheritance and multiple inheritance, highlighting their differences and advantages."
      ],
      "metadata": {
        "id": "Lwo76Uyr2DfS"
      }
    },
    {
      "cell_type": "markdown",
      "source": [
        "Single Inheritance is a class inheritance concept where a class can inherit attributes and methods from only one parent class (superclass). In other words, a subclass can have only one immediate superclass. This results in a linear, hierarchical relationship between classes."
      ],
      "metadata": {
        "id": "f3fC0ZG_4HwP"
      }
    },
    {
      "cell_type": "code",
      "source": [
        "# single inheritancce example:\n",
        "\n",
        "class Animal:\n",
        "  def __init__(self, name):\n",
        "    self.name = name\n",
        "\n",
        "  def make_sound(self):\n",
        "    pass\n",
        "\n",
        "class Dog(Animal):\n",
        "  def __init__(self, name, breed):\n",
        "    super().__init__(name)\n",
        "    self.breed = breed\n",
        "\n",
        "  def make_sound(self):\n",
        "    print(\"bhao\")\n",
        "\n",
        "dog = Dog(\"kutta\", \"pug\")\n",
        "dog.make_sound()"
      ],
      "metadata": {
        "colab": {
          "base_uri": "https://localhost:8080/"
        },
        "id": "WeZyqg9g4jCI",
        "outputId": "86c80d03-4c3d-40ad-ae75-3c165b5bbac9"
      },
      "execution_count": 2,
      "outputs": [
        {
          "output_type": "stream",
          "name": "stdout",
          "text": [
            "bhao\n"
          ]
        }
      ]
    },
    {
      "cell_type": "markdown",
      "source": [
        "Advantages of single inheritance:\n",
        "- Easier to understand and maintain\n",
        "- Less prone to errors\n",
        "- More efficient"
      ],
      "metadata": {
        "id": "Xnj8Vf1x9TCg"
      }
    },
    {
      "cell_type": "markdown",
      "source": [],
      "metadata": {
        "id": "FWVK1LMM9unP"
      }
    },
    {
      "cell_type": "markdown",
      "source": [
        "3. Explain the terms \"base class\" and \"derived class\" in the context of inheritance."
      ],
      "metadata": {
        "id": "LWiOgLYA2HXe"
      }
    },
    {
      "cell_type": "markdown",
      "source": [
        "4. What is the significance of the \"protected\" access modifier in inheritance? How does it differ from \"private\" and \"public\" modifiers?"
      ],
      "metadata": {
        "id": "WfXySd9M2J-p"
      }
    },
    {
      "cell_type": "markdown",
      "source": [
        "5. What is the purpose of the \"super\" keyword in inheritance? Provide an example."
      ],
      "metadata": {
        "id": "jC-CX8s02M1U"
      }
    },
    {
      "cell_type": "markdown",
      "source": [
        "6. Create a base class called \"Vehicle\" with attributes like \"make\", \"model\", and \"year\". Then, create a derived class called \"Car\" that inherits from \"Vehicle\" and adds an attribute called \"fuel_type\". Implement appropriate methods in both classes."
      ],
      "metadata": {
        "id": "vyUxgObW2O3R"
      }
    },
    {
      "cell_type": "markdown",
      "source": [
        "7. Create a base class called \"Employee\" with attributes like \"name\" and \"salary.\"\n",
        "Derive two classes, \"Manager\" and \"Developer,\" from \"Employee.\" Add an additional\n",
        "attribute called \"department\" for the \"Manager\" class and \"programming_language\"\n",
        "for the \"Developer\" class.\n"
      ],
      "metadata": {
        "id": "NsbLyQ892T3r"
      }
    },
    {
      "cell_type": "markdown",
      "source": [
        "8. Design a base class called \"Shape\" with attributes like \"colour\" and \"border_width.\"\n",
        "Create derived classes, \"Rectangle\" and \"Circle,\" that inherit from \"Shape\" and add\n",
        "specific attributes like \"length\" and \"width\" for the \"Rectangle\" class and \"radius\" for\n",
        "the \"Circle\" class."
      ],
      "metadata": {
        "id": "wtRBk6yz2ZlB"
      }
    },
    {
      "cell_type": "markdown",
      "source": [
        "9. Create a base class called \"Device\" with attributes like \"brand\" and \"model.\" Derive\n",
        "two classes, \"Phone\" and \"Tablet,\" from \"Device.\" Add specific attributes like\n",
        "\"screen_size\" for the \"Phone\" class and \"battery_capacity\" for the \"Tablet\" class."
      ],
      "metadata": {
        "id": "imONU0dQ2dFq"
      }
    },
    {
      "cell_type": "markdown",
      "source": [
        "10. Create a base class called \"BankAccount\" with attributes like \"account_number\" and\n",
        "\"balance.\" Derive two classes, \"SavingsAccount\" and \"CheckingAccount,\" from\n",
        "\"BankAccount.\" Add specific methods like \"calculate_interest\" for the\n",
        "\"SavingsAccount\" class and \"deduct_fees\" for the \"CheckingAccount\" class."
      ],
      "metadata": {
        "id": "9YMtg7FQ2e-0"
      }
    },
    {
      "cell_type": "code",
      "execution_count": null,
      "metadata": {
        "id": "plPd4DA819sk"
      },
      "outputs": [],
      "source": []
    }
  ]
}