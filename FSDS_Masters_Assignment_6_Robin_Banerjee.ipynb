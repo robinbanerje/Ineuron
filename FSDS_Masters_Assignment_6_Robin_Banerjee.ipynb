{
  "nbformat": 4,
  "nbformat_minor": 0,
  "metadata": {
    "colab": {
      "provenance": []
    },
    "kernelspec": {
      "name": "python3",
      "display_name": "Python 3"
    },
    "language_info": {
      "name": "python"
    }
  },
  "cells": [
    {
      "cell_type": "markdown",
      "source": [
        "Q.1. What are keywords in python? Using the keyword library, print all the python keywords."
      ],
      "metadata": {
        "id": "kAm9TY6Ye1_P"
      }
    },
    {
      "cell_type": "markdown",
      "source": [
        "Keywords in Python are reserved words that have a specific meaning and purpose in the Python programming language. These keywords cannot be used as variable names or identifiers because they are part of the language syntax."
      ],
      "metadata": {
        "id": "MCQ1QlZSi5DW"
      }
    },
    {
      "cell_type": "code",
      "execution_count": null,
      "metadata": {
        "colab": {
          "base_uri": "https://localhost:8080/"
        },
        "id": "l7WjhnsPeUYC",
        "outputId": "6a2109e8-c6ba-436f-c774-b75bd87a607e"
      },
      "outputs": [
        {
          "output_type": "stream",
          "name": "stdout",
          "text": [
            "['False', 'None', 'True', 'and', 'as', 'assert', 'async', 'await', 'break', 'class', 'continue', 'def', 'del', 'elif', 'else', 'except', 'finally', 'for', 'from', 'global', 'if', 'import', 'in', 'is', 'lambda', 'nonlocal', 'not', 'or', 'pass', 'raise', 'return', 'try', 'while', 'with', 'yield']\n",
            "35\n"
          ]
        }
      ],
      "source": [
        "import keyword\n",
        "\n",
        "all_keywords = keyword.kwlist\n",
        "print(all_keywords) # all keywords\n",
        "print(len(all_keywords))  # number of keywords"
      ]
    },
    {
      "cell_type": "markdown",
      "source": [
        "Q.2. What are the rules to create variables in python?"
      ],
      "metadata": {
        "id": "-JJMdTfmxdOH"
      }
    },
    {
      "cell_type": "markdown",
      "source": [
        "- Variable names must start with a letter or an underscore.\n",
        "- Variable names can contain letters, numbers, and underscores.\n",
        "- Variable names cannot contain spaces.\n",
        "- Variable names are case-sensitive.\n",
        "- Variable names cannot be keywords.\n",
        "\n",
        "```\n",
        "# Examples:\n",
        "my_variable = 10\n",
        "_my_variable = 20\n",
        "myVariable = 30\n",
        "```"
      ],
      "metadata": {
        "id": "ITJeOc8lxiMw"
      }
    },
    {
      "cell_type": "markdown",
      "source": [
        "Q.3. What are the standards and conventions followed for the nomenclature of variables in python to improve code readability and maintainability?"
      ],
      "metadata": {
        "id": "1BL0pdA82JWo"
      }
    },
    {
      "cell_type": "markdown",
      "source": [
        "•\tSnake Case: Variable names should be written in lowercase letters with words separated by underscores. For example: my_variable, user_name, total_count.\n",
        "\n",
        "•\tDescriptive Names: Choose descriptive and meaningful names for variables that reflect their purpose or content. This enhances code readability.\n",
        "\n",
        "•\tAvoid Single Characters: Avoid using single letters like x, y, z as variable names unless they are used in mathematical or loop-related contexts.\n",
        "\n",
        "•\tAvoid Reserved Keywords: Do not use Python reserved keywords as variable names. For example, do not use for, if, else, etc.\n",
        "\n",
        "•\tUse Singular and Plural Appropriately: Use singular nouns for individual items and plural nouns for collections. For instance, user for an individual and users for a collection.\n",
        "\n",
        "•\tUse underscores for Function and Method Names: Similar to variable names, function and method names should also use snake case, e.g., calculate_total, get_user_info.\n",
        "\n",
        "•\tConstants: Constants are usually written in uppercase letters with underscores, e.g., PI, MAX_VALUE.\n",
        "\n",
        "•\tModules and Packages: Module names should be in lowercase with underscores, and package names should be short and all lowercase.\n",
        "\n",
        "•\tPrivate Variables: Prefix private variables with an underscore, like _private_variable. This indicates that they are intended for internal use within a class or module.\n",
        "\n",
        "•\tCapitalize Class Names: Class names should follow the CapWords convention (also known as CamelCase), where each word's first letter is capitalized. For example, MyClass, UserData."
      ],
      "metadata": {
        "id": "gtHH0JHe2dmb"
      }
    }
  ]
}