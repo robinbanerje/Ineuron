{
  "cells": [
    {
      "cell_type": "markdown",
      "metadata": {
        "id": "kAm9TY6Ye1_P"
      },
      "source": [
        "Q.1. What are keywords in python? Using the keyword library, print all the python keywords."
      ]
    },
    {
      "cell_type": "markdown",
      "metadata": {
        "id": "MCQ1QlZSi5DW"
      },
      "source": [
        "Keywords in Python are reserved words that have a specific meaning and purpose in the Python programming language. These keywords cannot be used as variable names or identifiers because they are part of the language syntax."
      ]
    },
    {
      "cell_type": "code",
      "execution_count": 3,
      "metadata": {
        "colab": {
          "base_uri": "https://localhost:8080/"
        },
        "id": "l7WjhnsPeUYC",
        "outputId": "6a2109e8-c6ba-436f-c774-b75bd87a607e"
      },
      "outputs": [
        {
          "name": "stdout",
          "output_type": "stream",
          "text": [
            "['False', 'None', 'True', '__peg_parser__', 'and', 'as', 'assert', 'async', 'await', 'break', 'class', 'continue', 'def', 'del', 'elif', 'else', 'except', 'finally', 'for', 'from', 'global', 'if', 'import', 'in', 'is', 'lambda', 'nonlocal', 'not', 'or', 'pass', 'raise', 'return', 'try', 'while', 'with', 'yield']\n",
            "36\n"
          ]
        }
      ],
      "source": [
        "import keyword\n",
        "\n",
        "all_keywords = keyword.kwlist\n",
        "print(all_keywords) # all keywords\n",
        "print(len(all_keywords))  # number of keywords"
      ]
    },
    {
      "cell_type": "markdown",
      "metadata": {
        "id": "-JJMdTfmxdOH"
      },
      "source": [
        "Q.2. What are the rules to create variables in python?"
      ]
    },
    {
      "cell_type": "markdown",
      "metadata": {
        "id": "ITJeOc8lxiMw"
      },
      "source": [
        "- Variable names must start with a letter or an underscore.\n",
        "- Variable names can contain letters, numbers, and underscores.\n",
        "- Variable names cannot contain spaces.\n",
        "- Variable names are case-sensitive.\n",
        "- Variable names cannot be keywords.\n",
        "\n",
        "```\n",
        "# Examples:\n",
        "my_variable = 10\n",
        "_my_variable = 20\n",
        "myVariable = 30\n",
        "```"
      ]
    },
    {
      "cell_type": "markdown",
      "metadata": {
        "id": "1BL0pdA82JWo"
      },
      "source": [
        "Q.3. What are the standards and conventions followed for the nomenclature of variables in python to improve code readability and maintainability?"
      ]
    },
    {
      "cell_type": "markdown",
      "metadata": {
        "id": "gtHH0JHe2dmb"
      },
      "source": [
        "•\tSnake Case: Variable names should be written in lowercase letters with words separated by underscores. For example: my_variable, user_name, total_count.\n",
        "\n",
        "•\tDescriptive Names: Choose descriptive and meaningful names for variables that reflect their purpose or content. This enhances code readability.\n",
        "\n",
        "•\tAvoid Single Characters: Avoid using single letters like x, y, z as variable names unless they are used in mathematical or loop-related contexts.\n",
        "\n",
        "•\tAvoid Reserved Keywords: Do not use Python reserved keywords as variable names. For example, do not use for, if, else, etc.\n",
        "\n",
        "•\tUse Singular and Plural Appropriately: Use singular nouns for individual items and plural nouns for collections. For instance, user for an individual and users for a collection.\n",
        "\n",
        "•\tUse underscores for Function and Method Names: Similar to variable names, function and method names should also use snake case, e.g., calculate_total, get_user_info.\n",
        "\n",
        "•\tConstants: Constants are usually written in uppercase letters with underscores, e.g., PI, MAX_VALUE.\n",
        "\n",
        "•\tModules and Packages: Module names should be in lowercase with underscores, and package names should be short and all lowercase.\n",
        "\n",
        "•\tPrivate Variables: Prefix private variables with an underscore, like _private_variable. This indicates that they are intended for internal use within a class or module.\n",
        "\n",
        "•\tCapitalize Class Names: Class names should follow the CapWords convention (also known as CamelCase), where each word's first letter is capitalized. For example, MyClass, UserData."
      ]
    },
    {
      "cell_type": "markdown",
      "metadata": {
        "id": "KufeSEc0ANcZ"
      },
      "source": [
        "Q.4. What will happen if a keyword is used as a variable name?"
      ]
    },
    {
      "cell_type": "code",
      "execution_count": 4,
      "metadata": {
        "colab": {
          "base_uri": "https://localhost:8080/",
          "height": 141
        },
        "id": "uwkFy6NDAT6L",
        "outputId": "bb6713d8-a473-4f3e-b42a-05bb81461230"
      },
      "outputs": [
        {
          "ename": "SyntaxError",
          "evalue": "invalid syntax (1658870901.py, line 2)",
          "output_type": "error",
          "traceback": [
            "\u001b[1;36m  Cell \u001b[1;32mIn[4], line 2\u001b[1;36m\u001b[0m\n\u001b[1;33m    if = 10  # This will result in a syntax error\u001b[0m\n\u001b[1;37m       ^\u001b[0m\n\u001b[1;31mSyntaxError\u001b[0m\u001b[1;31m:\u001b[0m invalid syntax\n"
          ]
        }
      ],
      "source": [
        "# If a keyword is used as a variable name in Python, it will result in a syntax error\n",
        "if = 10  # This will result in a syntax error"
      ]
    },
    {
      "cell_type": "markdown",
      "metadata": {
        "id": "y4cVWwegAwdP"
      },
      "source": [
        "Q.5. For what purpose def keyword is used?"
      ]
    },
    {
      "cell_type": "markdown",
      "metadata": {
        "id": "NOe-wZEyA6J7"
      },
      "source": [
        "\n",
        "The def keyword in Python is used to define a function.\n",
        "\n",
        "The syntax for defining a function:\n",
        "```\n",
        "def function_name(parameters):\n",
        "    statements\n",
        "    return value\n",
        "```"
      ]
    },
    {
      "cell_type": "markdown",
      "metadata": {
        "id": "COydYP84BP1o"
      },
      "source": [
        "Q.6. What is the operation of this special character ‘\\’?"
      ]
    },
    {
      "cell_type": "markdown",
      "metadata": {
        "id": "vE99AI8-BTay"
      },
      "source": [
        "The special character '\\', also known as the backslash, is used as an escape character in Python.\n",
        "\n",
        "It has special meaning when combined with certain other characters to create escape sequences.\n",
        "\n",
        "Escape sequences are used to represent characters that are difficult to input directly or have special meanings in strings."
      ]
    },
    {
      "cell_type": "code",
      "execution_count": 5,
      "metadata": {
        "colab": {
          "base_uri": "https://localhost:8080/"
        },
        "id": "1rgG10wBB3QB",
        "outputId": "c71c594f-f79c-4742-d32e-81d274b55a74"
      },
      "outputs": [
        {
          "name": "stdout",
          "output_type": "stream",
          "text": [
            "|This is a string|\n",
            "|This is a \"string\"|\n",
            "|This is a line.\n",
            "This is another line|\n",
            "|This is a tab.\tThis is another tab|\n",
            "|\\|\n"
          ]
        }
      ],
      "source": [
        "print(\"|This is a string|\")\n",
        "print(\"|This is a \\\"string\\\"|\")\n",
        "print(\"|This is a line.\\nThis is another line|\")\n",
        "print(\"|This is a tab.\\tThis is another tab|\")\n",
        "print(\"|\\\\|\")"
      ]
    },
    {
      "cell_type": "markdown",
      "metadata": {
        "id": "Eu6wcrGqCb8h"
      },
      "source": [
        "Q.7. Give an example of the following conditions:\n",
        "(i) Homogeneous list\n",
        "(ii) Heterogeneous set\n",
        "(iii) Homogeneous tuple"
      ]
    },
    {
      "cell_type": "code",
      "execution_count": 6,
      "metadata": {
        "colab": {
          "base_uri": "https://localhost:8080/"
        },
        "id": "dqpe9x9BCD3k",
        "outputId": "939a9a98-121b-4325-b895-2517c3b4ae47"
      },
      "outputs": [
        {
          "name": "stdout",
          "output_type": "stream",
          "text": [
            "[1, 2, 3, 4, 5]\n",
            "{1, 'hello', 3.14}\n",
            "('apple', 'banana', 'orange', 'grape')\n"
          ]
        }
      ],
      "source": [
        "# Homogeneous list\n",
        "integer_list = [1, 2, 3, 4, 5]\n",
        "print(integer_list)\n",
        "\n",
        "# Heterogeneous set\n",
        "heterogeneous_set = {1, 'hello', 3.14, True}\n",
        "print(heterogeneous_set)\n",
        "\n",
        "# Homogeneous tuple\n",
        "string_tuple = ('apple', 'banana', 'orange', 'grape')\n",
        "print(string_tuple)"
      ]
    },
    {
      "cell_type": "markdown",
      "metadata": {
        "id": "ylz1hDmsDXP_"
      },
      "source": [
        "Q.8. Explain the mutable and immutable data types with proper explanation & examples."
      ]
    },
    {
      "cell_type": "markdown",
      "metadata": {
        "id": "Vd8FQlGaEFxJ"
      },
      "source": [
        "Mutable Data Types:\n",
        "\n",
        "- Mutable data types are those whose values can be modified after creation, means change of individual elements of the data structure without creating a new instance of it.\n",
        "- Lists and dictionaries are common examples of mutable data types."
      ]
    },
    {
      "cell_type": "code",
      "execution_count": 7,
      "metadata": {
        "colab": {
          "base_uri": "https://localhost:8080/"
        },
        "id": "N4BA5kICDJgO",
        "outputId": "d43b2d09-be10-4bc6-b12a-5299f7c2df22"
      },
      "outputs": [
        {
          "name": "stdout",
          "output_type": "stream",
          "text": [
            "[10, 2, 3]\n"
          ]
        }
      ],
      "source": [
        "mutable_list = [1, 2, 3]\n",
        "mutable_list[0] = 10  # Modifying the first element\n",
        "print(mutable_list)  # Output: [10, 2, 3]"
      ]
    },
    {
      "cell_type": "markdown",
      "metadata": {
        "id": "fHcMDV-hEbxA"
      },
      "source": [
        "Immutable Data Types:\n",
        "\n",
        "- Immutable data types are those whose values cannot be changed once they're created, means to modify an immutable data type, need to create a new instance with the desired changes.\n",
        "- Integers, strings, and tuples are examples of immutable data types."
      ]
    },
    {
      "cell_type": "code",
      "execution_count": 8,
      "metadata": {
        "colab": {
          "base_uri": "https://localhost:8080/"
        },
        "id": "EJTOStxnEbD8",
        "outputId": "2672775e-c1e1-41c2-baae-9b9c1deed172"
      },
      "outputs": [
        {
          "name": "stdout",
          "output_type": "stream",
          "text": [
            "(1, 2, 3)\n",
            "(1, 2, 3, 4)\n"
          ]
        }
      ],
      "source": [
        "immutable_tuple = (1, 2, 3)\n",
        "# cannot directly modify the tuple, need to create a new one\n",
        "new_tuple = immutable_tuple + (4,)\n",
        "print(immutable_tuple)  # Output: (1, 2, 3)\n",
        "print(new_tuple)         # Output: (1, 2, 3, 4)"
      ]
    },
    {
      "cell_type": "markdown",
      "metadata": {
        "id": "KDeK_jqOE8RB"
      },
      "source": [
        "Q.9. Write a code to create the given structure using only for loop.\n",
        "```                   \n",
        "    *\n",
        "   ***\n",
        "  *****\n",
        " *******\n",
        "*********\n",
        "```"
      ]
    },
    {
      "cell_type": "code",
      "execution_count": 9,
      "metadata": {
        "colab": {
          "base_uri": "https://localhost:8080/"
        },
        "id": "z5uRQvZfE6xV",
        "outputId": "39e08d7a-f93f-4cab-d90b-e2efdfadfb42"
      },
      "outputs": [
        {
          "name": "stdout",
          "output_type": "stream",
          "text": [
            "    *\n",
            "   ***\n",
            "  *****\n",
            " *******\n",
            "*********\n"
          ]
        }
      ],
      "source": [
        "n = 5\n",
        "for i in range(n):\n",
        "\n",
        "  for j in range(i,n-1): # loop to print decreasing spaces triangle\n",
        "    print(\" \", end = '')\n",
        "\n",
        "  for j in range(i): # loop to print increasing left * triangle\n",
        "    print(\"*\", end = '')\n",
        "\n",
        "  for j in range(i+1): # loop to print increasing right * triangle\n",
        "    print(\"*\", end = '')\n",
        "\n",
        "  print() # for newline"
      ]
    },
    {
      "cell_type": "markdown",
      "metadata": {
        "id": "_FLSqHPEFRo-"
      },
      "source": [
        "Q.10. Write a code to create the given structure using while loop.\n",
        "```\n",
        "\n",
        "|||||||||\n",
        " |||||||\n",
        "  |||||\n",
        "   |||\n",
        "    |\n",
        "```"
      ]
    },
    {
      "cell_type": "code",
      "execution_count": 10,
      "metadata": {
        "colab": {
          "base_uri": "https://localhost:8080/"
        },
        "id": "DhFBdAMntZYc",
        "outputId": "c5cdd5e2-0eef-46e5-e993-3f8dfed4d992"
      },
      "outputs": [
        {
          "name": "stdout",
          "output_type": "stream",
          "text": [
            "|||||||||\n",
            " |||||||\n",
            "  |||||\n",
            "   |||\n",
            "    |\n"
          ]
        }
      ],
      "source": [
        "i, n = 0, 5\n",
        "\n",
        "while i < n: # loop for printing rows\n",
        "  j = 0\n",
        "  while j < i: # loop for left increasing space triangle\n",
        "    print(' ', end='')\n",
        "    j += 1\n",
        "\n",
        "  j = i\n",
        "  while j in range (i, n-1): # loop for left decreasing | triangle\n",
        "    print('|', end='')\n",
        "    j += 1\n",
        "\n",
        "  j = i\n",
        "  while j in range (i, n): # loop for right decreasing | triangle\n",
        "    print('|', end='')\n",
        "    j += 1\n",
        "\n",
        "  i += 1\n",
        "  print()"
      ]
    }
  ],
  "metadata": {
    "colab": {
      "provenance": []
    },
    "kernelspec": {
      "display_name": "Python 3",
      "name": "python3"
    },
    "language_info": {
      "codemirror_mode": {
        "name": "ipython",
        "version": 3
      },
      "file_extension": ".py",
      "mimetype": "text/x-python",
      "name": "python",
      "nbconvert_exporter": "python",
      "pygments_lexer": "ipython3",
      "version": "3.9.0"
    }
  },
  "nbformat": 4,
  "nbformat_minor": 0
}
