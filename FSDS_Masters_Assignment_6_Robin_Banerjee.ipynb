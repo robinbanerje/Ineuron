{
  "nbformat": 4,
  "nbformat_minor": 0,
  "metadata": {
    "colab": {
      "provenance": []
    },
    "kernelspec": {
      "name": "python3",
      "display_name": "Python 3"
    },
    "language_info": {
      "name": "python"
    }
  },
  "cells": [
    {
      "cell_type": "markdown",
      "source": [
        "Q.1. What are keywords in python? Using the keyword library, print all the python keywords."
      ],
      "metadata": {
        "id": "kAm9TY6Ye1_P"
      }
    },
    {
      "cell_type": "markdown",
      "source": [
        "Keywords in Python are reserved words that have a specific meaning and purpose in the Python programming language. These keywords cannot be used as variable names or identifiers because they are part of the language syntax."
      ],
      "metadata": {
        "id": "MCQ1QlZSi5DW"
      }
    },
    {
      "cell_type": "code",
      "execution_count": 6,
      "metadata": {
        "colab": {
          "base_uri": "https://localhost:8080/"
        },
        "id": "l7WjhnsPeUYC",
        "outputId": "6a2109e8-c6ba-436f-c774-b75bd87a607e"
      },
      "outputs": [
        {
          "output_type": "stream",
          "name": "stdout",
          "text": [
            "['False', 'None', 'True', 'and', 'as', 'assert', 'async', 'await', 'break', 'class', 'continue', 'def', 'del', 'elif', 'else', 'except', 'finally', 'for', 'from', 'global', 'if', 'import', 'in', 'is', 'lambda', 'nonlocal', 'not', 'or', 'pass', 'raise', 'return', 'try', 'while', 'with', 'yield']\n",
            "35\n"
          ]
        }
      ],
      "source": [
        "import keyword\n",
        "\n",
        "all_keywords = keyword.kwlist\n",
        "print(all_keywords) # all keywords\n",
        "print(len(all_keywords))  # number of keywords"
      ]
    },
    {
      "cell_type": "code",
      "source": [],
      "metadata": {
        "id": "_gJAGrjaiZ-T"
      },
      "execution_count": null,
      "outputs": []
    }
  ]
}