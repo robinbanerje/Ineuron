{
  "nbformat": 4,
  "nbformat_minor": 0,
  "metadata": {
    "colab": {
      "provenance": []
    },
    "kernelspec": {
      "name": "python3",
      "display_name": "Python 3"
    },
    "language_info": {
      "name": "python"
    }
  },
  "cells": [
    {
      "cell_type": "markdown",
      "source": [
        "1. What does an empty dictionary's code look like?"
      ],
      "metadata": {
        "id": "Bwj4E8ykBXWG"
      }
    },
    {
      "cell_type": "code",
      "source": [
        "empty_dict = {}\n",
        "type(empty_dict)"
      ],
      "metadata": {
        "colab": {
          "base_uri": "https://localhost:8080/"
        },
        "id": "v5-0dgIQBdSR",
        "outputId": "8fc9c0a7-bcdf-4f20-8c5c-ff1d4ab65c64"
      },
      "execution_count": null,
      "outputs": [
        {
          "output_type": "execute_result",
          "data": {
            "text/plain": [
              "dict"
            ]
          },
          "metadata": {},
          "execution_count": 2
        }
      ]
    },
    {
      "cell_type": "markdown",
      "source": [
        "2. What is the value of a dictionary value with the key 'foo' and the value 42?"
      ],
      "metadata": {
        "id": "zAwQXp-VBofx"
      }
    },
    {
      "cell_type": "code",
      "source": [
        "my_dict = {'foo': 42}\n",
        "my_dict"
      ],
      "metadata": {
        "colab": {
          "base_uri": "https://localhost:8080/"
        },
        "id": "o2ecAcbeBlF6",
        "outputId": "2a2324a2-76c5-46b9-854d-195341fae1b0"
      },
      "execution_count": null,
      "outputs": [
        {
          "output_type": "execute_result",
          "data": {
            "text/plain": [
              "{'foo': 42}"
            ]
          },
          "metadata": {},
          "execution_count": 3
        }
      ]
    },
    {
      "cell_type": "markdown",
      "source": [
        "3. What is the most significant distinction between a dictionary and a list?"
      ],
      "metadata": {
        "id": "YqZ466XpCcVj"
      }
    },
    {
      "cell_type": "markdown",
      "source": [
        "![image.png](data:image/png;base64,iVBORw0KGgoAAAANSUhEUgAAATEAAABrCAYAAAAfB7VNAAAAAXNSR0IArs4c6QAAAARnQU1BAACxjwv8YQUAAAAJcEhZcwAADsMAAA7DAcdvqGQAABhwSURBVHhe7Z1NaB1Zdsdvh5lMZhGyCBEojoRJb+KFFrIMHRDp/QhLtDfTglklICywMN44gigLLWKI8EYIN0h4GQJuGLBjG3nbNBE9Ay17oYDJKo0UYXBIIMkmPUx353xW3Xtffb96elV65weF9N6rVx/33Dr3nFuv/ueDr7766odvv/3W/eGHf+GMyeG///1X7g/+5M/llTFuzB7N+eCLL774Af/50U9+TG8YhmH0iQ9Ozr77AUeBn//yQ3nLmBS+/ts/kv+McXN+fu6uXLkir4w6BE7MOvVkcOPv/oP+mr27gzmx5vyO/DUMw+gl5sQMw+g15sQMw+g1OU7s2O1Bfo45erzsvZZVjEtGjs1vP3XvZQ3i3VO3hu/vHssb9Tjexe2uuafv5A0jB7FH3P4e1pZMcSR285F7c35Ok4663L0unw0FGKjAOMYYCWz+3G2+3HDzV/bAYg1Bp9fQ4Rntcrx7OR3eGNJJHGFW3I68MrrMgrv7YhP+7rj9ZzLkTN9yj9HB3Vvg10WgA7ux4Q7lJbJwD53jY3drWt4wGlOnLTFqW3koLy4ZQzix9+7pbQxnZQlG2+izJOTF98WB0QjP779/tkbrJanq6z16vSYXTvL5Lr+f7EvW48XC6pFwfdGhGzv85oxfZ6STnNbEdoDBSh3YwxV4n6O5wRQoSmODCD1NqZ56+winNKLve1HjYL/5x8EULeprfSJuy9AOaTthO7ADO3QbN/p5rkU0dGLojObdxstN9xxH5a8fuSXoqNo4x7veZ5iSYONtY8eZcrcO8DVAaUu9EXnHLXKag1EAdr7lHbf02Rt67/l9NNAQaY9RzNtTz7mk8Ai/5B59jbZ+4x7dVDtAFIf9Ale6/xw+uwvvxEhUnqSw8H2Xkb6+BFf4qfYl6AcH6oRkUNTv0/523EqUvqb95hdu9TM4ItjekV74X+KQuuSWPpriN/oKXA/oqDZfqB3gvJe5Hac+eQzXB67Ednr8Sc/PNaLYiVG05Hl3HcHeHbnDl/D3/iJ3zOlFtwSNdvjqiD7nMHfVnVI01l7quPlxehnEnW/hY057juzGwwVy7I5whL+55BZpMMJBCm2f5bAyeH1EfWPz9i34JgLfv51hx2T7M24G+pl7eeY4LpT9Hcy6J9g/o9RV8fvN1EfQZ2Ctw19jT42Pv//sLEM77J7Vs0PPqTexf6CdTaA0AR0VRl7wWjoXh7Xw3jUcgSXyGgkcHtMxQFSGnJxmxQvG0FybDW2PvDt1J/g367MKvD+lb2dSzY46bbHiTjAi18ivCH/AFSe69LPFRsffKa6vUvRF6HU5ITfPhpvYpzTBc3Lk+XV0AwdYZfJ3KDSNSZfLFiqPHb3Qr87wa5/pWTeHf3NSzTKmZunbmczNVrBjkhE8r2H3Kbf4M04ptw7CaL7faBQMizpzyKS2Ltn8VxbNnJiMZu7hEc9dZP12SKKy98/26SJIkZTAQzuzjr6cKhbD6aOmBRr92eR+u0CkQxf6plvPdBILbhHnWvw5JrKDzGmpk8tDbhoEc1yyv8U6P+URJ3r8eXY6GZOklOgAL0kqGdwcwzvIdFc5HQxmrpbGqL2lYSSGXh8nD3fcCjovnItIIq/0tjx+Nn9nzm1SR0/nMXgk5Pk2anQJhQ/vzJMjOr1aIQG9ftedw374O3z7ePOF3bofmmAedN5tOJxSyJ9bwflPvqnC3+FJfl1fnBylN1kDDPSV5Ldo1fYXABfrA5qo5++vvN10mzhAlkWGOggDnU8lA3vwknV3ESfv30Bb0JwYric3vfR3neq4yU7RjY++YyoWE4ipWOjddXS43Rj4MA1E52PUZ7g5McPoIzqXdonuSk4y5sSMiYLmjuinGBCFbUd3241eYk7MmChw7ojvZNv86WXB5KknGJsD7Q42J9acD/75qyMqFGJObPL4p7/8jfxnGP0licT+9M+sXNQkYSN/tzB7NMfmxAzD6DXmxAzD6DXmxAzD6DXmxAzD6DU5TixWy5RlQqQ9JhO2eaiaGj1Y3AHoAfMuPftHyrCjEOPMtofSuXZoQkttVxyJBXpi+qBunZ2CIUbm+Ea57ZTLWlyhEtDJ5u84kjtqp0CMYbRPjXQyo2hEITiSjKogyCi3nYKj3WUtrlAKyist75gySBmopjIGBVVSTx65Xl8/qDcnFheNADTd0IVlQkT7HFeg6E2jGVXi1KUoyuFwOl1XI8DsbSdpj19MZEDnTLbpR3C6ji6yLm5voLhC2faSz/fk2OWYo310JTXLB87rxoZznpRLSmiX5FwwNQgiY1wvx77UHuFnQXqUY5OYOKWiPpBr24K+psfzTPoOLLHcDe0ra1t+SkRtALanPi7r0OcZ3xsS/9z5f+1zGfspbIf4mkwzLdzuGmyXvpuX9eRum7cbF/fx23HvS3rLI6dvAUXH0mxiX/WaKN04hNGaU04sRnB4ZwtOBPXGBguC5BcQGeR4Fx2VV4gEXnEBiOxtK0ExkTLQAPgwsCrUYqQpBU+GKq4Azm+RzhFG6GgfrPnUXmduHxkkMtVS+TOSgha7nOi54ADniSOSImyeSgTpeaWClth5UQ2YtfBhH9sbbk76FNn+4X6D9mJHnGznxZwUMMkD+uKrGZ4+gX26O/OBg155m06tkH7a5zlbegnD621cD/slHMPySao+jMeQ09+H5uGJm5H90PEl+yluh/fPtkRGHj9njUA/0zoEu6zjZ7E0PRFu+81nbqCNd95Km0pxn5WHev2/cTNv/VyqoG8JecfSzIkpFEqfu9VTjoLKUq/6BURYWHHvXfVah35RiDLe/xouJPibfEfOZ2iJay2gAsT7CAtVdI+dZRQmhGMEZz4QMZKEjafyOn3LrcMFw+eCAojpeaE6b77gIAtjamEZ0uqHAWmVoj6WWU4iwHdn1H61ISeq2wRIeLO4kExSsITOC9riS7kcsV8kF857d/qW/skhVqX1HF6wnZa5v54M5oGKa0k70APxyXV15s5QosjH68sDkHR5er5Tn6zDq7CN/T5Ais3J9sDOVBRGKOxbQs6xNHNiWhhCQmVUb0XvypFLPhxKwkVSoYDIwqdp0QdVq8xStByGs2/w8lhyMxcw55MobmJUBq/9lLxTYHR78JgUUwciRnIoouYrCw5cei4oGc6OCS/0VLs+nHLgkZo6vERu6Oid39m9lOPKwUnSD+pARUgCVVTMAooKkIT9IHAEQcq0VcOpinJtUlAHlpzUeFSUtkOQ7u7DYMJvV4G2fXPGZVRfyICdf1CrYXomtW1J3yqinhOLikZo2bRUjriImgVEUCccoy9YMAVDOFWlf1uBO+qhO2txm3loyp0sVdpgDGg0wul0lO5Tp9N0IONcNKWEfoJ6XZpKpvI3uPjS1TjSQr94Bb1Ii3WAw9hP6ljCst3EhcE+sW4D9rVkv7zkR9lhP+ABjiHt/qQozmO3fk0+qAQ6Mtk/pcYZEe4IKW4HSOEO0tqt5+cPUqdSAdp2IjtfxpSbhXYLnJIfZZf1rQJqODE+YQyXw6IRYnzqfPwOM1gQhMgtIOKD+TF6Yx21dX5qzs3ShZGz7Zi4Go84YYVTOy9tkBFXI76B4gol28si3kdyA+ICO3JTFu5BFIGjuEYPNJflz5kc00RsGiGzY9pYhou+Qhk3itzurEBknqZCTOpQiop/kH20WA1Y5OiVtyY51A33RNtZbFvU7n4/wL4cTE2ozQf6eQG0Ty+apf5zMZF/QoV2SBzL6ydcerEquG24AjR95Gs6v8gLFffx5jeDgkClfSufYicWh6FREQfq5PCXUiWc4LuPr7QDxgVBygqI+ESFSGAJC1BkFBvJZEEqPvN6a6czdLwJGO3J6EjniKmeN6E9WFyhZHtZRPvAGyE48vXjd1diMzx276bKnBRnoXnN6AYAV6GKHEAedBFE6+p8lKTfRx9jH8uOlnUOhvvIFqSkvjXg2GlymLeDts2+26pgHLCfuS5Nbei1sO3cOvaBsmIkCNqeJtLlGKg+5oPIYReTTEPokneXMJeidpB5Ke3/Xy5SsFB9qiPcNv+msCAru35XJv95/X1ocWhJobxv5WFSPBMKhurYWVoHR/obZ259DL+dagwdMwwuYywaMjJ7TADD3Z00jAi6G1t0R8swWsacmNESPI9Jd6o7etPCuJxYOjmhWPrSLcwezbFIzDCMXpMUCvnJ71f7yZphGEaXsHRyQrH0pVuYPZpj6aRhGL3GnJhhGL3GnJhhGL3GnJhhGL2mxInpg9iw1H5ma0zIA64XJnkiUiZtywRdPPzALdnaXxq1I/eb/rfJOOmKPfg4uixYUOzESKhM/vdVO40hgE7R4QEhlAxiLSxzRuPD7FFOoRNLVElFnaKraqQBqkPWyUdfcFSromjbFVBap46qgTFamtoDFSJaUCzuKAVOTPWZNt3iPZZMSeSEfTR9ywx3o5A4ikACBc+iz2AJwtl4n/53o3Qy0e965n0n2JeXMuN6Utggf7Tz119zT0/l7YRwe2nxBHxfHBjJuvjvZ63fBXzte7ZJ0C6YSleJKiXlTm0Y9ovk/YHt4Xpdao9x09Qe3Md4Xflfi27QEtUeEHvRsnskbyo5tpPrLj0e6dcXMK2T78Q0lSRFAh4BBlJKPHDR4KJw1yu0wScLF62qSqKmFl68clJoANYIkzDZ+wwbEaVpOZRGXTHUVdKGhsbZhn3qdnGf8N0t35gZ7HwzSxEaqcTC+ioSR4US4Dx1X2HxgkHC9R849ypcP78YCusl4WDgFzipUzzlIgj1q7hwQ6KrlchPM8U6+gJeEMuOzo+3g527hWIjE0Lr9hCSohtSHISL8CBw3VKpPvwMrperJ17mUGA70c1zor5M1wnqD15ARpTrxOICFyx2F6aU8TpBoQ2VstZGDdI8larWDipOMlHpZMiAu2cUCg/U9tNoZrpacQ89RpLUBVhj3Is2fZG4XMrXr1sMpX7xlNESzsG8cUuv5tPRNHAyaMNURz+TV1viwDzbtVZsZDJo1R4eS5+tik1YNjqBrtu4+IdQVswDXj8Q0UMSSNweUVGUiBwnFl+sgIj6+56/qNAGFREA5mYLToMcEY8yXCnpxJ2iQagiC74GVHUyCZN9xyGqq/B5s7snUt2lcrGD8vU5DYboqkIxFKTu+heLtHUyuHhOhioUFUdJGMmHksNAw2IjBjKcPaowWPzDk4KvUMxDnd5STQXbYch2YsldSe+AMW3Et7xwv6jQRhjx5DBQwECVNcFYFH3BgmkovuWnjBLx4aIVltJ0sw5ioMrFDsrW1wizahhdd/3xo07mOKpQlAV25MfbaYpBNCw2YmRTxx5VGCz+IQM3UqGYB9WLBWca2HzEZDoxTROXNPeVhasOpeFjYaEN7IzwVhq5yYQghcLxHJt8JtFWUEwD01DS5teoLlx34R7PmVWPpnxEqx+cNRc7gJyfiqHkUXH93GIo3qjmk7v+uJHz85VayclsuJU7h8VRtqIphs7zTbdbbGSyaMEeZdB169nHL4ZTZjuaywYnRyX/PJuPmAwnpqnkYCivTitxTOhgMFLSlE8m+Xl+aoFr7iUpo0zyi9fGuSAqCUbpIM4F4cmn5cK4UjZ+Bssyl5XiCc14uzIx3rAo6dQnD+TGAW4rLjYxiFZeyl4fjq2wGIo4QTn2esVTLoZwIhnadmByVgYgsFdeVZsYrjGpkTRG2S0WG7nkjMIexXDxD6yATvs8gC0nA2+B7egGDt4Q4PlPuq7gaJObdSPEpHhiEmN4VagvIRhZY0dsAkbK89+sj+63eHTXu2fFRoak0/boOLl3JycFnlhPQ2K+IXHBtQF7BUfqo4ySrNhIHUZvj64z8U5Ma2ceSoiMdSE3X4yvdFenoTlPvpM6migVf4dkxUYqM3J79ANLJyeUYdIXo33MHs2Z+EjMMIx+Y4VCDMPoNZZOTiiWvnQLs0dzLJ00DKPXmBMzDKPXmBMzDKPXmBMzDKPXFDsxeaAbJxxpyVSNvBj4l/X5Kp/BQ+MjQR48p6WJYkYVwofbLxb//Lyl0bNv/KPV9KFuoz5dsQcfx+iuq+EpcGJw8PhAt8rliILqRTzQ2UVUYYJF6rrzTN/xbrvyzaEI33MrTDFmzB7l5DsxFFnDvyqHohpeHX0cBNUl8Pgm6fELlviWFyOBFRKsUEhXaGoP1ucrUz/uK+VzYiizkxd9RelmGHLG4bCXgun3dvdkHf0s+k5GWnW4nX7uj0hxOpmkn8/8ogf+efj7WnN7ENH43/chlYA7JAnJ0iiyHd2nLsF3c88xxN/G2rOBqiMD+9BzxvfZgbGcEb/PaUO6/rBRGos26sPF2KZBFICKH1VSX1wPjidtn9DOyfsD28P12o00+01Te/jppPw/EYVCSD9b/he9sIGL1CsSwvpf2uHwBEQ/DKM3Umfd8YoRCGCQRQqTMT3Dxom+M5C+onolCzWiptdhqXokijuuJuu7h/vJ+qRACUfFhUrW4TN2UlmovhlC4T1Eo+rYknAf0m10cEGnQoJzjIA23ELnKG34AI42EEWEzuTvwz9n1TVDxQ08Bxxl2yg6EupXWaGQcdO6PYSJKBSCoHChXryIf5HGRUJYMFFVX0Ve+mDWPcHGV2nrGF9upbCwiJIKNRZJY6fkra+y0GmhklXvPMsR4UhwuKuavkpdAL9TEQWSMgNt6BdlQCSFXz3laKwsdWyj6Eg4B2OFQsZNq/bwmIBCISk618SjPkYCT6C5UpKRQhwV5+sSSsrIkejkF1CpsEhbxPN9tfF0x2NqqLIWFVohJKwnaRrPBnlwCs3SLO0UHYHByAqFdIjh7FGFy1MoJINEyz4iHClgwchJC41EssNFVCos0hbTs4729vY0jJoqk6OVj9TQ+i+LJjESQSf36Osqd0M1uhxtCF+nMIUVChk9dexRhUtTKATRCeV0jkdORi7SuEiIrh/Mm4mTOP48J530wc4Lf9J0TCYQ43m0VuC7PH6hkicycV+NVCtfi/C610+oqG6d9GewDbMKhYiTe/fU7UfpJDvBiFaLjkBEbYVCOkQL9iiDrsPeFwphdDJbFU9pjgVHeS3IgXNWmCbKpD9OQC/ppCN1XL7IsSDGyttNLjZQGPkUFxZpG1Z01UIlR26m1pxY2j5JOi2TobVuY2Mb4u/vpA23aJxLUdVZ2gek63P3yc0nkZvOQ9I57LpWio6EE8ntFKawQiHNGYU9irFCIb2F7zY6SN0mQ5oa0wDsiE2gtrJCIa3SaXt0nMpzYpcLvfGQpr88yT7nZm0OpgQrFNItrFDIhDoxCIu3+Y6phusrD6tOoE8w9IPGURam4MHFCoVUZOT26AeWTk4ow6QvRvuYPZozoZGYYRiXBSsUYhhGr7F0ckKx9KVbmD2aY+mkYRi9xpyYYRi9xpyYYRi9xpyYYRi9JtuJ0Y/o+EegoVJk+kv34VVD85AHvwsUQxPV1gt6Sv7yI3bNanPpC8GD/caIMXvUoTwS8x8gVomdBrRd0MJoE36wFx/STlQ5CLiYtjec89REjYvA7FGHCunkjjvShiRRtCW3lKellQNGTqMtaGEMD6vb7iyneusqMfygjjKH0RJmj6oUO7H7mywFI3pXLNI35+Z8OduB9E9TTm58fMJ+sKAFv89pKS+pnlTKEaWNvBSGz376W7aukQvJpyR6UayxtnnbkxgO2jmMrDnFl6VgKsCojtmjGiWRmCiYkg4YygXD//cX3SJ9Vo2sghZFBTASXh469yl+zoqy/ogUgIbMLVhi1IMfjEdVzjUs9AJtmqYtMFihppkq+b6Yg0FJbIJieG8fcYEXtOc11Q4zhsPsUYUSJzYrCqYiF4zKpVdbeDypSgGMRC9cVFT9tNajuGCJUZtpKf6AVZN8JQlU+BwojOLZxJu/wYIltcQhjXzMHqWUzomx9j004gE6C3AQbRRuQBVIcF5VC2BU0d9PFDCDgiVGE0j2OqoVQAUk4MJg1V1c5kmOm2yCg5KUrOPPLKVvE7NHMeUT+6p9j+ldS6KB9QpgiMGAIg3xzIIlRmvQQIJy4X4bw5KM8FohHhZO6XPSf6MVzB4p5U5M58WQTLVN+Vx/ipHxM4zMghYQL+UVwCCScFhqPOZoiFcqWGIMjxSkSG75y6QytjO1uTd5zBdYGDkYLWP2SKjgxHROKp13CpniWnhSoOLK5xBjRT/BCAtaHJcWwCBuwnsHGApjmFwQtRUVLDFahAtInHhpu/5eiW7eXPNSm+WTCyucOrmYPRST4plQMM3ADm50A7NHcypEYoZhGN3k935sTswwjJ7y09917r/+97fmxAzD6B8Ygf3n//zWffTX/2pOzDCM/vHdd9+7v/mHc/d/v/k+LRTy819+SB8ahmF0nX/7+yn3x3/1L+DEvnf/D+r20Fj+PlToAAAAAElFTkSuQmCC)"
      ],
      "metadata": {
        "id": "39Akx_izCwmU"
      }
    },
    {
      "cell_type": "code",
      "source": [
        "person = {'name': 'John', 'age': 30, 'city': 'New York'}  # Dictionary\n",
        "numbers = [1, 2, 3, 4, 5] # List\n",
        "\n",
        "print('{} is {} and {} is {}'.format(person, type(person), numbers, type(numbers)))"
      ],
      "metadata": {
        "colab": {
          "base_uri": "https://localhost:8080/"
        },
        "id": "61YjaxRmB_Et",
        "outputId": "72dc34e2-75de-4762-fa31-dca41a212cb4"
      },
      "execution_count": null,
      "outputs": [
        {
          "output_type": "stream",
          "name": "stdout",
          "text": [
            "{'name': 'John', 'age': 30, 'city': 'New York'} is <class 'dict'> and [1, 2, 3, 4, 5] is <class 'list'>\n"
          ]
        }
      ]
    },
    {
      "cell_type": "markdown",
      "source": [
        "4. What happens if you try to access spam['foo'] if spam is {'bar': 100}?"
      ],
      "metadata": {
        "id": "lJiIgHFGD2e8"
      }
    },
    {
      "cell_type": "markdown",
      "source": [
        "\n",
        "If you try to access spam['foo'] if spam is {'bar': 100}, Python will raise a KeyError exception. This is because the key 'foo' does not exist in the dictionary spam."
      ],
      "metadata": {
        "id": "rs4ToO8C-N7f"
      }
    },
    {
      "cell_type": "code",
      "source": [
        "spam = {'bar': 100}\n",
        "print(spam['foo'])"
      ],
      "metadata": {
        "colab": {
          "base_uri": "https://localhost:8080/",
          "height": 194
        },
        "id": "ML-OeFQbDpq5",
        "outputId": "f4d395bc-e74a-4cf2-ff31-71d648c7f68f"
      },
      "execution_count": 1,
      "outputs": [
        {
          "output_type": "error",
          "ename": "KeyError",
          "evalue": "ignored",
          "traceback": [
            "\u001b[0;31m---------------------------------------------------------------------------\u001b[0m",
            "\u001b[0;31mKeyError\u001b[0m                                  Traceback (most recent call last)",
            "\u001b[0;32m<ipython-input-1-a6efe2f90084>\u001b[0m in \u001b[0;36m<cell line: 2>\u001b[0;34m()\u001b[0m\n\u001b[1;32m      1\u001b[0m \u001b[0mspam\u001b[0m \u001b[0;34m=\u001b[0m \u001b[0;34m{\u001b[0m\u001b[0;34m'bar'\u001b[0m\u001b[0;34m:\u001b[0m \u001b[0;36m100\u001b[0m\u001b[0;34m}\u001b[0m\u001b[0;34m\u001b[0m\u001b[0;34m\u001b[0m\u001b[0m\n\u001b[0;32m----> 2\u001b[0;31m \u001b[0mprint\u001b[0m\u001b[0;34m(\u001b[0m\u001b[0mspam\u001b[0m\u001b[0;34m[\u001b[0m\u001b[0;34m'foo'\u001b[0m\u001b[0;34m]\u001b[0m\u001b[0;34m)\u001b[0m\u001b[0;34m\u001b[0m\u001b[0;34m\u001b[0m\u001b[0m\n\u001b[0m",
            "\u001b[0;31mKeyError\u001b[0m: 'foo'"
          ]
        }
      ]
    },
    {
      "cell_type": "markdown",
      "source": [
        "5. If a dictionary is stored in spam, what is the difference between the expressions 'cat' in spam and 'cat' in spam.keys()?"
      ],
      "metadata": {
        "id": "O-zabsv1-lVR"
      }
    },
    {
      "cell_type": "markdown",
      "source": [
        "\n",
        "- The expressions 'cat' in spam and 'cat' in spam.keys() both check if the string 'cat' exists as a key in the dictionary spam.\n",
        "- However, using 'cat' in spam is generally more concise and efficient because Python's dictionary implementation uses a hash table, making key lookups efficient even for large dictionaries. The spam.keys() approach is useful when you specifically need to access the keys as a separate view object, but for simple checks, using 'cat' in spam is recommended."
      ],
      "metadata": {
        "id": "GbXkW0b6BZYF"
      }
    },
    {
      "cell_type": "code",
      "source": [
        "spam = {'cat': 42, 'dog': 99}\n",
        "print('cat' in spam)  # Output: True\n",
        "print('cat' in spam.keys())  # Output: True"
      ],
      "metadata": {
        "colab": {
          "base_uri": "https://localhost:8080/"
        },
        "id": "TPat62dODrnp",
        "outputId": "7c08c1c2-3f0e-4212-c7c9-d13885fb36bb"
      },
      "execution_count": 3,
      "outputs": [
        {
          "output_type": "stream",
          "name": "stdout",
          "text": [
            "True\n",
            "True\n"
          ]
        }
      ]
    },
    {
      "cell_type": "markdown",
      "source": [
        "6. If a dictionary is stored in spam, what is the difference between the expressions 'cat' in spam and 'cat' in spam.values()?"
      ],
      "metadata": {
        "id": "3RQ-bnxmGONV"
      }
    },
    {
      "cell_type": "markdown",
      "source": [
        "- The expression 'cat' in spam uses the in operator, which checks if the string 'cat' is a member of the dictionary spam. The in operator will return True if the string 'cat' is a key in the dictionary, and False if it is not.\n",
        "\n",
        "- The expression 'cat' in spam.values() uses the in operator on the values() method of the dictionary spam. The values() method returns a list of all the values in the dictionary. The in operator will return True if the string 'cat' is in the list of values, and False if it is not."
      ],
      "metadata": {
        "id": "XOb1_aqzIQXo"
      }
    },
    {
      "cell_type": "code",
      "source": [
        "spam = {'cat': 42, 'dog': 99}\n",
        "print('cat' in spam)  # Output: True\n",
        "print('cat' in spam.values())  # Output: False"
      ],
      "metadata": {
        "colab": {
          "base_uri": "https://localhost:8080/"
        },
        "id": "Ls8sy_iMDy6j",
        "outputId": "41765c6b-e9da-42a3-9cef-f22605f86110"
      },
      "execution_count": 5,
      "outputs": [
        {
          "output_type": "stream",
          "name": "stdout",
          "text": [
            "True\n",
            "False\n"
          ]
        }
      ]
    },
    {
      "cell_type": "markdown",
      "source": [
        "7. What is a shortcut for the following code?\n",
        "```\n",
        "if 'color' not in spam:\n",
        "spam['color'] = 'black'\n",
        "```"
      ],
      "metadata": {
        "id": "pdXWPeOtJXa4"
      }
    },
    {
      "cell_type": "markdown",
      "source": [
        "- The setdefault() method is to set a default value for a key if the key is not already present in the dictionary.\n",
        "- If the key exists, it returns the value associated with the key. If the key does not exist, it sets the key with the default value and returns the default value.\n",
        "```\n",
        "spam.setdefault('color', 'black')\n",
        "```"
      ],
      "metadata": {
        "id": "soC018xkVMGX"
      }
    },
    {
      "cell_type": "markdown",
      "source": [
        "8. How do you \"pretty print\" dictionary values using which module and function?"
      ],
      "metadata": {
        "id": "Y1noKexhVwi7"
      }
    },
    {
      "cell_type": "markdown",
      "source": [
        "- pprint module and the pprint() function. The pprint() function takes a dictionary as input and returns a formatted string representation of the dictionary.\n",
        "\n",
        "- The pprint module is part of the Python standard library, to use the pprint module, need to import it into your Python program."
      ],
      "metadata": {
        "id": "3fQD_9Dn-tE9"
      }
    },
    {
      "cell_type": "code",
      "source": [
        "import pprint\n",
        "dictionary = {'name': 'Robin', 'age': 99, 'occupation': 'Data Scientist'}\n",
        "pprint.pprint(dictionary) # Pretty print the dictionary"
      ],
      "metadata": {
        "colab": {
          "base_uri": "https://localhost:8080/"
        },
        "id": "WVfbD7EX9yoL",
        "outputId": "00fbde36-a557-4600-bdf6-735c622f28f5"
      },
      "execution_count": 6,
      "outputs": [
        {
          "output_type": "stream",
          "name": "stdout",
          "text": [
            "{'age': 99, 'name': 'Robin', 'occupation': 'Data Scientist'}\n"
          ]
        }
      ]
    }
  ]
}