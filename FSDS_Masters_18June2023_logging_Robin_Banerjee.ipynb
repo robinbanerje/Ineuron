{
  "nbformat": 4,
  "nbformat_minor": 0,
  "metadata": {
    "colab": {
      "provenance": []
    },
    "kernelspec": {
      "name": "python3",
      "display_name": "Python 3"
    },
    "language_info": {
      "name": "python"
    }
  },
  "cells": [
    {
      "cell_type": "markdown",
      "source": [
        "1. What is the role of the 'else' block in a try-except statement? Provide an example scenario where it would be useful."
      ],
      "metadata": {
        "id": "X9K25ItrT2MH"
      }
    },
    {
      "cell_type": "markdown",
      "source": [
        "2. Can a try-except block be nested inside another try-except block? Explain with an example."
      ],
      "metadata": {
        "id": "UR6lk_gUUGSt"
      }
    },
    {
      "cell_type": "markdown",
      "source": [
        "3. How can you create a custom exception class in Python? Provide an example that demonstrates its usage."
      ],
      "metadata": {
        "id": "aCr83RVuUKEc"
      }
    },
    {
      "cell_type": "markdown",
      "source": [
        "4. What are some common exceptions that are built-in to Python?"
      ],
      "metadata": {
        "id": "mJquA_B8UOOM"
      }
    },
    {
      "cell_type": "markdown",
      "source": [
        "5. What is logging in Python, and why is it important in software development?"
      ],
      "metadata": {
        "id": "FPqU5uSEUR_C"
      }
    },
    {
      "cell_type": "markdown",
      "source": [
        "6. Explain the purpose of log levels in Python logging and provide examples of when each log level would be appropriate."
      ],
      "metadata": {
        "id": "1ZH0LEk4UVFV"
      }
    },
    {
      "cell_type": "markdown",
      "source": [
        "7. What are log formatters in Python logging, and how can you customise the log\n",
        "message format using formatters?"
      ],
      "metadata": {
        "id": "La9PLsV2UZfI"
      }
    },
    {
      "cell_type": "markdown",
      "source": [
        "8. How can you set up logging to capture log messages from multiple modules or\n",
        "classes in a Python application?"
      ],
      "metadata": {
        "id": "tY1JVKjoUb-6"
      }
    },
    {
      "cell_type": "markdown",
      "source": [
        "9. What is the difference between the logging and print statements in Python? When should you use logging over print statements in a real-world application?"
      ],
      "metadata": {
        "id": "5lgdlstUUew0"
      }
    },
    {
      "cell_type": "markdown",
      "source": [
        "10. Write a Python program that logs a message to a file named \"app.log\" with the\n",
        "following requirements:\n",
        "- The log message should be \"Hello, World!\"\n",
        "- The log level should be set to \"INFO.\"\n",
        "- The log file should append new log entries without overwriting previous ones."
      ],
      "metadata": {
        "id": "f5yCEymzUigu"
      }
    },
    {
      "cell_type": "markdown",
      "source": [
        "11. Create a Python program that logs an error message to the console and a file named \"errors.log\" if an exception occurs during the program's execution. The error message should include the exception type and a timestamp."
      ],
      "metadata": {
        "id": "z_Shy8e3Ul2W"
      }
    },
    {
      "cell_type": "code",
      "source": [],
      "metadata": {
        "id": "vOhqeo-iUoMD"
      },
      "execution_count": null,
      "outputs": []
    }
  ]
}