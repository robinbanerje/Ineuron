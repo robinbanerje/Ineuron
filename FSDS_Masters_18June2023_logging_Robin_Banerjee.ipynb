{
  "nbformat": 4,
  "nbformat_minor": 0,
  "metadata": {
    "colab": {
      "provenance": []
    },
    "kernelspec": {
      "name": "python3",
      "display_name": "Python 3"
    },
    "language_info": {
      "name": "python"
    }
  },
  "cells": [
    {
      "cell_type": "markdown",
      "source": [
        "1. What is the role of the 'else' block in a try-except statement? Provide an example scenario where it would be useful."
      ],
      "metadata": {
        "id": "X9K25ItrT2MH"
      }
    },
    {
      "cell_type": "markdown",
      "source": [
        "The else block in a try-except statement is executed if no exception is raised in the try block.\n",
        "```\n",
        "try:\n",
        "    # Attempt to open a file named \"example.txt\" for reading\n",
        "    file = open(\"example.txt\", \"r\")\n",
        "    \n",
        "    # Read the content of the file\n",
        "    data = file.read()\n",
        "    \n",
        "    # Close the file\n",
        "    file.close()\n",
        "\n",
        "except FileNotFoundError:\n",
        "    # Handle the case where the file is not found\n",
        "    print(\"File not found.\")\n",
        "except IOError:\n",
        "    # Handle any other IO-related errors\n",
        "    print(\"An error occurred while reading the file.\")\n",
        "    \n",
        "else:\n",
        "    # If no exceptions occurred, this block is executed\n",
        "    print(\"File read successfully:\")    \n",
        "    # Print the content of the file\n",
        "    print(data)\n",
        "```"
      ],
      "metadata": {
        "id": "G8rmV2ILGR65"
      }
    },
    {
      "cell_type": "markdown",
      "source": [
        "2. Can a try-except block be nested inside another try-except block? Explain with an example."
      ],
      "metadata": {
        "id": "UR6lk_gUUGSt"
      }
    },
    {
      "cell_type": "markdown",
      "source": [
        "Yes, try-except block can be nested inside another try-except block. This is known as exception handling within exception handling or nested exception handling. It allows for more fine-grained error handling in different parts of your code."
      ],
      "metadata": {
        "id": "ITgm7ZCekoTV"
      }
    },
    {
      "cell_type": "code",
      "source": [
        "try:\n",
        "    # Outer try block\n",
        "    num1 = int(input(\"Enter a numerator: \"))\n",
        "    num2 = int(input(\"Enter a denominator: \"))\n",
        "\n",
        "    # Attempt to perform division\n",
        "    result = num1 / num2\n",
        "except ValueError:\n",
        "    # Handle a ValueError if user inputs are not valid integers\n",
        "    print(\"Invalid input. Please enter valid integers.\")\n",
        "except ZeroDivisionError:\n",
        "    # Handle a ZeroDivisionError if the denominator is zero\n",
        "    print(\"Error: Division by zero.\")\n",
        "except Exception as e:\n",
        "    # Handle any other exceptions that might occur\n",
        "    print(\"An error occurred:\", e)\n",
        "else:\n",
        "    # If no exceptions occurred in the outer try block\n",
        "    print(\"Division result:\", result)\n",
        "    try:\n",
        "        # Inner try block for further processing of the result\n",
        "        square = result ** 2\n",
        "        print(\"Square of the result:\", square)\n",
        "    except Exception as e:\n",
        "        # Handle exceptions that may occur during inner processing\n",
        "        print(\"An error occurred during inner processing:\", e)\n",
        "finally:\n",
        "    # Code in the finally block always executes, regardless of exceptions\n",
        "    print(\"Execution completed.\")"
      ],
      "metadata": {
        "colab": {
          "base_uri": "https://localhost:8080/"
        },
        "id": "HxiH7GVwk9Fl",
        "outputId": "daaeb250-9021-4d92-8750-d6ff98eb367c"
      },
      "execution_count": null,
      "outputs": [
        {
          "output_type": "stream",
          "name": "stdout",
          "text": [
            "Enter a numerator: 50\n",
            "Enter a denominator: 2\n",
            "Division result: 25.0\n",
            "Square of the result: 625.0\n",
            "Execution completed.\n"
          ]
        }
      ]
    },
    {
      "cell_type": "markdown",
      "source": [
        "3. How can you create a custom exception class in Python? Provide an example that demonstrates its usage."
      ],
      "metadata": {
        "id": "aCr83RVuUKEc"
      }
    },
    {
      "cell_type": "markdown",
      "source": [
        "In Python, custom exception class can be created by defining a new class that inherits from the built-in Exception class or one of its subclasses."
      ],
      "metadata": {
        "id": "oXcXZKCZ49JI"
      }
    },
    {
      "cell_type": "code",
      "source": [
        "class custom_exception(Exception):\n",
        "  def __init__(self, exception_message):\n",
        "    super().__init__(exception_message)\n",
        "\n",
        "def division(numerator, dinominator):\n",
        "  if dinominator == 0:\n",
        "    raise custom_exception('Dinominator cannot be zero')\n",
        "  else:\n",
        "    return numerator/ dinominator\n",
        "\n",
        "try:\n",
        "  divident = int(input(\"Enter divident value: \"))\n",
        "  divisor = int(input(\"Enter divisor value: \"))\n",
        "  division_result = division(divident, divisor)\n",
        "except custom_exception as ce:\n",
        "  print(f'DIVISION ERROR: {ce}')\n",
        "else:\n",
        "  print(f'Dividing {divident} with {divisor} gives {division_result}')"
      ],
      "metadata": {
        "colab": {
          "base_uri": "https://localhost:8080/"
        },
        "id": "Vi2BKa4J5SZ7",
        "outputId": "cf2abb6d-3ac0-4745-b7a8-84d4aadfa92a"
      },
      "execution_count": null,
      "outputs": [
        {
          "output_type": "stream",
          "name": "stdout",
          "text": [
            "Enter divident value: 100\n",
            "Enter divisor value: 0\n",
            "DIVISION ERROR: Dinominator cannot be zero\n"
          ]
        }
      ]
    },
    {
      "cell_type": "markdown",
      "source": [
        "4. What are some common exceptions that are built-in to Python?"
      ],
      "metadata": {
        "id": "mJquA_B8UOOM"
      }
    },
    {
      "cell_type": "code",
      "source": [
        "# ZeroDivisionError\n",
        "n = int(input(\"Please enter the numerator: \"))\n",
        "d = int(input(\"Please enter the denominator: \"))\n",
        "result = n / d\n",
        "print(\"Result:\", result)"
      ],
      "metadata": {
        "colab": {
          "base_uri": "https://localhost:8080/",
          "height": 263
        },
        "id": "ZBpcGW83-3UJ",
        "outputId": "9dc22a47-6fbf-4732-80b1-a0d90229f3af"
      },
      "execution_count": null,
      "outputs": [
        {
          "name": "stdout",
          "output_type": "stream",
          "text": [
            "Please enter the numerator: 10\n",
            "Please enter the denominator: 0\n"
          ]
        },
        {
          "output_type": "error",
          "ename": "ZeroDivisionError",
          "evalue": "ignored",
          "traceback": [
            "\u001b[0;31m---------------------------------------------------------------------------\u001b[0m",
            "\u001b[0;31mZeroDivisionError\u001b[0m                         Traceback (most recent call last)",
            "\u001b[0;32m<ipython-input-4-8b09c865b965>\u001b[0m in \u001b[0;36m<cell line: 5>\u001b[0;34m()\u001b[0m\n\u001b[1;32m      3\u001b[0m \u001b[0md\u001b[0m \u001b[0;34m=\u001b[0m \u001b[0mint\u001b[0m\u001b[0;34m(\u001b[0m\u001b[0minput\u001b[0m\u001b[0;34m(\u001b[0m\u001b[0;34m\"Please enter the denominator: \"\u001b[0m\u001b[0;34m)\u001b[0m\u001b[0;34m)\u001b[0m\u001b[0;34m\u001b[0m\u001b[0;34m\u001b[0m\u001b[0m\n\u001b[1;32m      4\u001b[0m \u001b[0;34m\u001b[0m\u001b[0m\n\u001b[0;32m----> 5\u001b[0;31m \u001b[0mresult\u001b[0m \u001b[0;34m=\u001b[0m \u001b[0mn\u001b[0m \u001b[0;34m/\u001b[0m \u001b[0md\u001b[0m\u001b[0;34m\u001b[0m\u001b[0;34m\u001b[0m\u001b[0m\n\u001b[0m\u001b[1;32m      6\u001b[0m \u001b[0mprint\u001b[0m\u001b[0;34m(\u001b[0m\u001b[0;34m\"Result:\"\u001b[0m\u001b[0;34m,\u001b[0m \u001b[0mresult\u001b[0m\u001b[0;34m)\u001b[0m\u001b[0;34m\u001b[0m\u001b[0;34m\u001b[0m\u001b[0m\n",
            "\u001b[0;31mZeroDivisionError\u001b[0m: division by zero"
          ]
        }
      ]
    },
    {
      "cell_type": "code",
      "source": [
        "# ValueError\n",
        "\"\"\"Raised when a built-in operation or function receives an\n",
        "   argument that has the right type but an inappropriate value.\"\"\"\n",
        "\n",
        "n = int(input(\"Please enter the numerator: \"))\n",
        "d = int(input(\"Please enter the denominator: \"))\n",
        "\n",
        "result = n / d\n",
        "print(\"Result:\", result)"
      ],
      "metadata": {
        "colab": {
          "base_uri": "https://localhost:8080/",
          "height": 263
        },
        "id": "fTUtw16q-8Q6",
        "outputId": "0ea68659-075d-463b-828c-f3fcce571246"
      },
      "execution_count": null,
      "outputs": [
        {
          "name": "stdout",
          "output_type": "stream",
          "text": [
            "Please enter the numerator: 4/2.6\n"
          ]
        },
        {
          "output_type": "error",
          "ename": "ValueError",
          "evalue": "ignored",
          "traceback": [
            "\u001b[0;31m---------------------------------------------------------------------------\u001b[0m",
            "\u001b[0;31mValueError\u001b[0m                                Traceback (most recent call last)",
            "\u001b[0;32m<ipython-input-5-e3594690baf2>\u001b[0m in \u001b[0;36m<cell line: 5>\u001b[0;34m()\u001b[0m\n\u001b[1;32m      3\u001b[0m    argument that has the right type but an inappropriate value.\"\"\"\n\u001b[1;32m      4\u001b[0m \u001b[0;34m\u001b[0m\u001b[0m\n\u001b[0;32m----> 5\u001b[0;31m \u001b[0mn\u001b[0m \u001b[0;34m=\u001b[0m \u001b[0mint\u001b[0m\u001b[0;34m(\u001b[0m\u001b[0minput\u001b[0m\u001b[0;34m(\u001b[0m\u001b[0;34m\"Please enter the numerator: \"\u001b[0m\u001b[0;34m)\u001b[0m\u001b[0;34m)\u001b[0m\u001b[0;34m\u001b[0m\u001b[0;34m\u001b[0m\u001b[0m\n\u001b[0m\u001b[1;32m      6\u001b[0m \u001b[0md\u001b[0m \u001b[0;34m=\u001b[0m \u001b[0mint\u001b[0m\u001b[0;34m(\u001b[0m\u001b[0minput\u001b[0m\u001b[0;34m(\u001b[0m\u001b[0;34m\"Please enter the denominator: \"\u001b[0m\u001b[0;34m)\u001b[0m\u001b[0;34m)\u001b[0m\u001b[0;34m\u001b[0m\u001b[0;34m\u001b[0m\u001b[0m\n\u001b[1;32m      7\u001b[0m \u001b[0;34m\u001b[0m\u001b[0m\n",
            "\u001b[0;31mValueError\u001b[0m: invalid literal for int() with base 10: '4/2.6'"
          ]
        }
      ]
    },
    {
      "cell_type": "code",
      "source": [
        "# SyntaxError\n",
        "if x > 5 # Missing a colon at the end of the line\n",
        "    print(\"x is greater than 5\")"
      ],
      "metadata": {
        "colab": {
          "base_uri": "https://localhost:8080/",
          "height": 141
        },
        "id": "XpWl-T8d_VQT",
        "outputId": "3f430487-75e9-4cf7-fb57-c37093f4906d"
      },
      "execution_count": null,
      "outputs": [
        {
          "output_type": "error",
          "ename": "SyntaxError",
          "evalue": "ignored",
          "traceback": [
            "\u001b[0;36m  File \u001b[0;32m\"<ipython-input-6-121c6e31953b>\"\u001b[0;36m, line \u001b[0;32m2\u001b[0m\n\u001b[0;31m    if x > 5 # Missing a colon at the end of the line\u001b[0m\n\u001b[0m             ^\u001b[0m\n\u001b[0;31mSyntaxError\u001b[0m\u001b[0;31m:\u001b[0m expected ':'\n"
          ]
        }
      ]
    },
    {
      "cell_type": "code",
      "source": [
        "# IndentationError\n",
        "if x > 5:\n",
        "print(\"x is greater than 5\")  # Inconsistent indentation"
      ],
      "metadata": {
        "colab": {
          "base_uri": "https://localhost:8080/",
          "height": 141
        },
        "id": "KsPa2W5F__q-",
        "outputId": "4b65a8aa-49cb-46ac-a991-bdded97ed1ce"
      },
      "execution_count": null,
      "outputs": [
        {
          "output_type": "error",
          "ename": "IndentationError",
          "evalue": "ignored",
          "traceback": [
            "\u001b[0;36m  File \u001b[0;32m\"<ipython-input-7-57f2048ee35a>\"\u001b[0;36m, line \u001b[0;32m3\u001b[0m\n\u001b[0;31m    print(\"x is greater than 5\")  # Inconsistent indentation\u001b[0m\n\u001b[0m    ^\u001b[0m\n\u001b[0;31mIndentationError\u001b[0m\u001b[0;31m:\u001b[0m expected an indented block after 'if' statement on line 2\n"
          ]
        }
      ]
    },
    {
      "cell_type": "code",
      "source": [
        "# NameError\n",
        "print(variable_that_does_not_exist)"
      ],
      "metadata": {
        "colab": {
          "base_uri": "https://localhost:8080/",
          "height": 194
        },
        "id": "E26GbYi4AKFq",
        "outputId": "782ac48e-02ed-4cb0-9617-a76904b77848"
      },
      "execution_count": null,
      "outputs": [
        {
          "output_type": "error",
          "ename": "NameError",
          "evalue": "ignored",
          "traceback": [
            "\u001b[0;31m---------------------------------------------------------------------------\u001b[0m",
            "\u001b[0;31mNameError\u001b[0m                                 Traceback (most recent call last)",
            "\u001b[0;32m<ipython-input-8-d98fe0112813>\u001b[0m in \u001b[0;36m<cell line: 2>\u001b[0;34m()\u001b[0m\n\u001b[1;32m      1\u001b[0m \u001b[0;31m# NameError\u001b[0m\u001b[0;34m\u001b[0m\u001b[0;34m\u001b[0m\u001b[0m\n\u001b[0;32m----> 2\u001b[0;31m \u001b[0mprint\u001b[0m\u001b[0;34m(\u001b[0m\u001b[0mvariable_that_does_not_exist\u001b[0m\u001b[0;34m)\u001b[0m\u001b[0;34m\u001b[0m\u001b[0;34m\u001b[0m\u001b[0m\n\u001b[0m",
            "\u001b[0;31mNameError\u001b[0m: name 'variable_that_does_not_exist' is not defined"
          ]
        }
      ]
    },
    {
      "cell_type": "code",
      "source": [
        "# TypeError\n",
        "x = 5 + \"5\"  # Adding an integer and a string"
      ],
      "metadata": {
        "colab": {
          "base_uri": "https://localhost:8080/",
          "height": 194
        },
        "id": "FC35JmgtAUp0",
        "outputId": "3c226541-2b03-4111-8668-a84f4fc5ed7b"
      },
      "execution_count": null,
      "outputs": [
        {
          "output_type": "error",
          "ename": "TypeError",
          "evalue": "ignored",
          "traceback": [
            "\u001b[0;31m---------------------------------------------------------------------------\u001b[0m",
            "\u001b[0;31mTypeError\u001b[0m                                 Traceback (most recent call last)",
            "\u001b[0;32m<ipython-input-9-f8bab86a55a2>\u001b[0m in \u001b[0;36m<cell line: 2>\u001b[0;34m()\u001b[0m\n\u001b[1;32m      1\u001b[0m \u001b[0;31m# TypeError\u001b[0m\u001b[0;34m\u001b[0m\u001b[0;34m\u001b[0m\u001b[0m\n\u001b[0;32m----> 2\u001b[0;31m \u001b[0mx\u001b[0m \u001b[0;34m=\u001b[0m \u001b[0;36m5\u001b[0m \u001b[0;34m+\u001b[0m \u001b[0;34m\"5\"\u001b[0m  \u001b[0;31m# Adding an integer and a string\u001b[0m\u001b[0;34m\u001b[0m\u001b[0;34m\u001b[0m\u001b[0m\n\u001b[0m",
            "\u001b[0;31mTypeError\u001b[0m: unsupported operand type(s) for +: 'int' and 'str'"
          ]
        }
      ]
    },
    {
      "cell_type": "code",
      "source": [
        "# FileNotFoundError\n",
        "with open(\"nonexistent_file.txt\", \"r\") as file:\n",
        "    data = file.read()"
      ],
      "metadata": {
        "colab": {
          "base_uri": "https://localhost:8080/",
          "height": 211
        },
        "id": "tQMSh4qzAquo",
        "outputId": "324aaa34-f23f-49b7-a72e-fb9489a99745"
      },
      "execution_count": null,
      "outputs": [
        {
          "output_type": "error",
          "ename": "FileNotFoundError",
          "evalue": "ignored",
          "traceback": [
            "\u001b[0;31m---------------------------------------------------------------------------\u001b[0m",
            "\u001b[0;31mFileNotFoundError\u001b[0m                         Traceback (most recent call last)",
            "\u001b[0;32m<ipython-input-10-27694c2e16de>\u001b[0m in \u001b[0;36m<cell line: 2>\u001b[0;34m()\u001b[0m\n\u001b[1;32m      1\u001b[0m \u001b[0;31m# FileNotFoundError\u001b[0m\u001b[0;34m\u001b[0m\u001b[0;34m\u001b[0m\u001b[0m\n\u001b[0;32m----> 2\u001b[0;31m \u001b[0;32mwith\u001b[0m \u001b[0mopen\u001b[0m\u001b[0;34m(\u001b[0m\u001b[0;34m\"nonexistent_file.txt\"\u001b[0m\u001b[0;34m,\u001b[0m \u001b[0;34m\"r\"\u001b[0m\u001b[0;34m)\u001b[0m \u001b[0;32mas\u001b[0m \u001b[0mfile\u001b[0m\u001b[0;34m:\u001b[0m\u001b[0;34m\u001b[0m\u001b[0;34m\u001b[0m\u001b[0m\n\u001b[0m\u001b[1;32m      3\u001b[0m     \u001b[0mdata\u001b[0m \u001b[0;34m=\u001b[0m \u001b[0mfile\u001b[0m\u001b[0;34m.\u001b[0m\u001b[0mread\u001b[0m\u001b[0;34m(\u001b[0m\u001b[0;34m)\u001b[0m\u001b[0;34m\u001b[0m\u001b[0;34m\u001b[0m\u001b[0m\n",
            "\u001b[0;31mFileNotFoundError\u001b[0m: [Errno 2] No such file or directory: 'nonexistent_file.txt'"
          ]
        }
      ]
    },
    {
      "cell_type": "code",
      "source": [
        "# IndexError\n",
        "my_list = [1, 2, 3]\n",
        "print(my_list[5])  # Accessing an index that does not exist"
      ],
      "metadata": {
        "colab": {
          "base_uri": "https://localhost:8080/",
          "height": 211
        },
        "id": "iXeI4fMAAuui",
        "outputId": "44a346f1-c7d0-463f-f388-6625bd976d38"
      },
      "execution_count": null,
      "outputs": [
        {
          "output_type": "error",
          "ename": "IndexError",
          "evalue": "ignored",
          "traceback": [
            "\u001b[0;31m---------------------------------------------------------------------------\u001b[0m",
            "\u001b[0;31mIndexError\u001b[0m                                Traceback (most recent call last)",
            "\u001b[0;32m<ipython-input-11-3e6f40da38ed>\u001b[0m in \u001b[0;36m<cell line: 3>\u001b[0;34m()\u001b[0m\n\u001b[1;32m      1\u001b[0m \u001b[0;31m# IndexError\u001b[0m\u001b[0;34m\u001b[0m\u001b[0;34m\u001b[0m\u001b[0m\n\u001b[1;32m      2\u001b[0m \u001b[0mmy_list\u001b[0m \u001b[0;34m=\u001b[0m \u001b[0;34m[\u001b[0m\u001b[0;36m1\u001b[0m\u001b[0;34m,\u001b[0m \u001b[0;36m2\u001b[0m\u001b[0;34m,\u001b[0m \u001b[0;36m3\u001b[0m\u001b[0;34m]\u001b[0m\u001b[0;34m\u001b[0m\u001b[0;34m\u001b[0m\u001b[0m\n\u001b[0;32m----> 3\u001b[0;31m \u001b[0mprint\u001b[0m\u001b[0;34m(\u001b[0m\u001b[0mmy_list\u001b[0m\u001b[0;34m[\u001b[0m\u001b[0;36m5\u001b[0m\u001b[0;34m]\u001b[0m\u001b[0;34m)\u001b[0m  \u001b[0;31m# Accessing an index that does not exist\u001b[0m\u001b[0;34m\u001b[0m\u001b[0;34m\u001b[0m\u001b[0m\n\u001b[0m",
            "\u001b[0;31mIndexError\u001b[0m: list index out of range"
          ]
        }
      ]
    },
    {
      "cell_type": "markdown",
      "source": [
        "5. What is logging in Python, and why is it important in software development?"
      ],
      "metadata": {
        "id": "FPqU5uSEUR_C"
      }
    },
    {
      "cell_type": "markdown",
      "source": [
        "Logging is the process of tracking and recording events that occur in a software application. It can be used to track errors, performance problems, and other important events.\n",
        "\n",
        "- Identify and fix errors: Logging can help to identify the source of errors in the code. By tracking the events that lead up to an error, it can identify the line of code that is causing the problem.\n",
        "- Diagnose performance problems: Logging can also be used to diagnose performance problems in the code block. By tracking the performance of the code over time, it can identify areas where it is running slowly.\n",
        "- Track changes to the code: Logging can be used to track changes to the code over time. This can be helpful for debugging problems and for understanding how the code has evolved.\n",
        "- Audit code: Logging can be used to audit code. This can be helpful for compliance purposes and for ensuring that the code is meeting its requirements."
      ],
      "metadata": {
        "id": "QvTYOgksBK7-"
      }
    },
    {
      "cell_type": "markdown",
      "source": [
        "6. Explain the purpose of log levels in Python logging and provide examples of when each log level would be appropriate."
      ],
      "metadata": {
        "id": "1ZH0LEk4UVFV"
      }
    },
    {
      "cell_type": "markdown",
      "source": [
        "In Python, log levels are used to determine which messages are logged. These five levels cover a wide range of severity levels, from detailed debugging information (DEBUG) to critical errors that can lead to program termination (CRITICAL).\n",
        "\n",
        "- DEBUG: This level is used for debugging messages. Debug messages are typically used for tracing the execution of your code.\n",
        "- INFO: This level is used for informational messages. Info messages are typically used to log the progress of your code.\n",
        "- WARNING: This level is used for warning messages. Warning messages are typically used to log potential problems with your code.\n",
        "- ERROR: This level is used for error messages. Error messages are typically used to log errors that occur in your code.\n",
        "- CRITICAL: This level is used for critical messages. Critical messages are typically used to log errors that are likely to cause your code to crash.\n",
        "- FATAL: This level is similar to CRITICAL but is rarely used."
      ],
      "metadata": {
        "id": "mjwW_QBAsVk9"
      }
    },
    {
      "cell_type": "code",
      "source": [
        "import logging\n",
        "\n",
        "# Configure the logger with a specific log level\n",
        "logging.basicConfig(level=logging.DEBUG)\n",
        "\n",
        "# Log messages at different levels\n",
        "logging.debug('Debug message (only visible if log level is DEBUG)')\n",
        "logging.info('Info message (visible at INFO level and above)')\n",
        "logging.warning('Warning message (visible at WARNING level and above)')\n",
        "logging.error('Error message (visible at ERROR level and above)')\n",
        "logging.critical('Critical message (visible at CRITICAL level and above)')"
      ],
      "metadata": {
        "id": "NlheyURutOJF"
      },
      "execution_count": null,
      "outputs": []
    },
    {
      "cell_type": "markdown",
      "source": [
        "7. What are log formatters in Python logging, and how can you customise the log\n",
        "message format using formatters?"
      ],
      "metadata": {
        "id": "La9PLsV2UZfI"
      }
    },
    {
      "cell_type": "markdown",
      "source": [
        "- Log formatters are used to control the format of the log messages. The logging module defines a default formatter, but it can be customized to the format by creating desired formatter.\n",
        "\n",
        "- To create a custom formatter, subclass the logging.Formatter class. The logging.Formatter class has a number of formatting options that can be used to customize the log message format."
      ],
      "metadata": {
        "id": "_Qo5fP7WlPAA"
      }
    },
    {
      "cell_type": "code",
      "source": [
        "##########################\n",
        "# Using Default Formatters\n",
        "\n",
        "import logging\n",
        "\n",
        "# Create a logger\n",
        "logger = logging.getLogger('my_logger')\n",
        "logger.setLevel(logging.DEBUG)\n",
        "\n",
        "# Create a formatter with a custom format\n",
        "formatter = logging.Formatter('%(asctime)s - %(name)s - %(levelname)s - %(message)s')\n",
        "\n",
        "# Create a handler and set the formatter\n",
        "handler = logging.StreamHandler()\n",
        "handler.setFormatter(formatter)\n",
        "\n",
        "# Add the handler to the logger\n",
        "logger.addHandler(handler)\n",
        "\n",
        "# Log a message\n",
        "logger.error('This is an error message.')"
      ],
      "metadata": {
        "id": "AMQQyMj9mD0n",
        "colab": {
          "base_uri": "https://localhost:8080/"
        },
        "outputId": "ff18576d-3a74-41fc-b7c1-49a6a959cc7b"
      },
      "execution_count": null,
      "outputs": [
        {
          "output_type": "stream",
          "name": "stderr",
          "text": [
            "2023-09-06 13:10:06,624 - my_logger - ERROR - This is an error message.\n",
            "[ERROR] - This is an error message.\n",
            "2023-09-06 13:10:06,624 - my_logger - ERROR - This is an error message.\n",
            "[ERROR] - This is an error message.\n",
            "2023-09-06 13:10:06,624 - my_logger - ERROR - This is an error message.\n",
            "2023-09-06 13:10:06,624 - my_logger - ERROR - This is an error message.\n",
            "[ERROR] - This is an error message.\n",
            "2023-09-06 13:10:06,624 - my_logger - ERROR - This is an error message.\n",
            "ERROR:my_logger:This is an error message.\n"
          ]
        }
      ]
    },
    {
      "cell_type": "code",
      "source": [
        "############################\n",
        "# Creating Custom Formatters\n",
        "\n",
        "import logging\n",
        "\n",
        "class MyFormatter(logging.Formatter):\n",
        "    def format(self, record):\n",
        "        # Customize the log record formatting here\n",
        "        return f\"[{record.levelname}] - {record.message}\"\n",
        "\n",
        "# Create a logger\n",
        "logger = logging.getLogger('my_logger')\n",
        "logger.setLevel(logging.DEBUG)\n",
        "\n",
        "# Create an instance of the custom formatter\n",
        "formatter = MyFormatter()\n",
        "\n",
        "# Create a handler and set the formatter\n",
        "handler = logging.StreamHandler()\n",
        "handler.setFormatter(formatter)\n",
        "\n",
        "# Add the handler to the logger\n",
        "logger.addHandler(handler)\n",
        "\n",
        "# Log a message\n",
        "logger.error('This is an error message.')"
      ],
      "metadata": {
        "id": "Nl6dnM8KmnYG",
        "colab": {
          "base_uri": "https://localhost:8080/"
        },
        "outputId": "d65af37c-e95c-48c0-9c02-d1e9cccf24c6"
      },
      "execution_count": null,
      "outputs": [
        {
          "output_type": "stream",
          "name": "stderr",
          "text": [
            "2023-09-06 13:10:10,468 - my_logger - ERROR - This is an error message.\n",
            "[ERROR] - This is an error message.\n",
            "2023-09-06 13:10:10,468 - my_logger - ERROR - This is an error message.\n",
            "[ERROR] - This is an error message.\n",
            "2023-09-06 13:10:10,468 - my_logger - ERROR - This is an error message.\n",
            "2023-09-06 13:10:10,468 - my_logger - ERROR - This is an error message.\n",
            "[ERROR] - This is an error message.\n",
            "2023-09-06 13:10:10,468 - my_logger - ERROR - This is an error message.\n",
            "[ERROR] - This is an error message.\n",
            "ERROR:my_logger:This is an error message.\n"
          ]
        }
      ]
    },
    {
      "cell_type": "markdown",
      "source": [
        "8. How can you set up logging to capture log messages from multiple modules or\n",
        "classes in a Python application?"
      ],
      "metadata": {
        "id": "tY1JVKjoUb-6"
      }
    },
    {
      "cell_type": "markdown",
      "source": [
        "- Creation of a Centralized Logger: A centralized logger instance is created in a dedicated module or central configuration file, serving as the primary point for logging within the application. This logger is configured with an appropriate log level and any desired log handlers, such as file handlers or console handlers.\n",
        "\n",
        "- Definition of Loggers in Each Module/Class: In each module or class where logging is required, a logger instance is established using the logging.getLogger(__name__) method. The use of __name__ as the logger name ensures that each module or class obtains its own logger with a name based on its location in the package hierarchy.\n",
        "\n",
        "- Configuration of Loggers: Each module's or class's logger is configured to meet specific needs. This may include setting the log level, adding log handlers, and specifying a log formatter when necessary. Configuration settings can be uniform across all loggers or customized for particular modules or classes.\n",
        "\n",
        "- Logging of Messages: Throughout the code, logger instances are employed to log messages at different log levels, such as debug, info, warning, error, and critical. These loggers transmit log records to the central logger, which then routes the records to the appropriate log handlers."
      ],
      "metadata": {
        "id": "3YXnfRrUoUw6"
      }
    },
    {
      "cell_type": "code",
      "source": [
        "#####################################################################\n",
        "# Example code: central_logger.py (Centralized Logging Configuration)\n",
        "\n",
        "import logging\n",
        "\n",
        "# Centralized logger creation\n",
        "central_logger = logging.getLogger('my_app')\n",
        "central_logger.setLevel(logging.DEBUG)\n",
        "\n",
        "# File handler setup\n",
        "file_handler = logging.FileHandler('my_app.log')\n",
        "file_handler.setLevel(logging.DEBUG)\n",
        "\n",
        "# Formatter specification for the file handler\n",
        "formatter = logging.Formatter('%(asctime)s - %(name)s - %(levelname)s - %(message)s')\n",
        "file_handler.setFormatter(formatter)\n",
        "\n",
        "# Addition of the file handler to the central logger\n",
        "central_logger.addHandler(file_handler)"
      ],
      "metadata": {
        "id": "aVSNdIx4oUZb"
      },
      "execution_count": null,
      "outputs": []
    },
    {
      "cell_type": "code",
      "source": [
        "#######################\n",
        "# module1.py (Module 1)\n",
        "\n",
        "import logging\n",
        "from central_logger import central_logger\n",
        "\n",
        "# Module-specific logger instantiation for Module 1\n",
        "module1_logger = logging.getLogger(__name__)\n",
        "\n",
        "# Optional logger configuration\n",
        "module1_logger.setLevel(logging.INFO)\n",
        "\n",
        "# Logging of messages\n",
        "module1_logger.info('An info message from Module 1')"
      ],
      "metadata": {
        "id": "2k8wVSZkon_o"
      },
      "execution_count": null,
      "outputs": []
    },
    {
      "cell_type": "code",
      "source": [
        "#######################\n",
        "# module2.py (Module 2)\n",
        "\n",
        "import logging\n",
        "from central_logger import central_logger\n",
        "\n",
        "# Module-specific logger instantiation for Module 2\n",
        "module2_logger = logging.getLogger(__name__)\n",
        "\n",
        "# Optional logger configuration\n",
        "module2_logger.setLevel(logging.DEBUG)\n",
        "\n",
        "# Logging of messages\n",
        "module2_logger.debug('A debug message from Module 2')"
      ],
      "metadata": {
        "id": "3aJCteE5pGM5"
      },
      "execution_count": null,
      "outputs": []
    },
    {
      "cell_type": "markdown",
      "source": [
        "9. What is the difference between the logging and print statements in Python? When should you use logging over print statements in a real-world application?"
      ],
      "metadata": {
        "id": "5lgdlstUUew0"
      }
    },
    {
      "cell_type": "markdown",
      "source": [
        "Logging:\n",
        "- Purpose: Designed for recording program behavior, debugging, and production monitoring.\n",
        "- Control: Offers precise control over log levels, destinations, and filtering.\n",
        "- Flexibility: Allows custom formatting, contextual information, and various log handlers.\n",
        "- Real-World Usage: Ideal for production applications, distributed systems, and long-term logging.\n",
        "\n",
        "Print Statements:\n",
        "- Purpose: Used for simple console output during development.\n",
        "- Control: Lacks control over severity levels and output destinations.\n",
        "- Flexibility: Limited formatting options compared to logging.\n",
        "- Real-World Usage: Suitable for quick debugging but not recommended for production logging due to limited control and clutter."
      ],
      "metadata": {
        "id": "MyFnvijnpoTJ"
      }
    },
    {
      "cell_type": "markdown",
      "source": [
        "10. Write a Python program that logs a message to a file named \"app.log\" with the\n",
        "following requirements:\n",
        "- The log message should be \"Hello, World!\"\n",
        "- The log level should be set to \"INFO.\"\n",
        "- The log file should append new log entries without overwriting previous ones."
      ],
      "metadata": {
        "id": "f5yCEymzUigu"
      }
    },
    {
      "cell_type": "code",
      "source": [
        "import logging\n",
        "\n",
        "# Configure the logger\n",
        "logging.basicConfig(filename='app.log', level=logging.INFO, filemode='a', format='%(asctime)s - %(levelname)s - %(message)s')\n",
        "\n",
        "# Log the message\n",
        "logging.info('Hello, World!')"
      ],
      "metadata": {
        "id": "ueHmoSYrYu_R"
      },
      "execution_count": 1,
      "outputs": []
    },
    {
      "cell_type": "markdown",
      "source": [
        "11. Create a Python program that logs an error message to the console and a file named \"errors.log\" if an exception occurs during the program's execution. The error message should include the exception type and a timestamp."
      ],
      "metadata": {
        "id": "z_Shy8e3Ul2W"
      }
    },
    {
      "cell_type": "code",
      "source": [
        "import logging\n",
        "import time\n",
        "\n",
        "#  logger configuration\n",
        "logging.basicConfig(filename='errors.log', level=logging.ERROR, filemode='a', format='%(asctime)s - %(levelname)s - %(message)s')\n",
        "\n",
        "try:\n",
        "    result = 10 / 0  # This will raise ZeroDivisionError\n",
        "except Exception as e:\n",
        "    # login the exception with timestamp\n",
        "    timestamp = time.strftime('%Y-%m-%d %H:%M:%S')\n",
        "    error_message = f\"Exception type: {type(e).__name__}, Timestamp: {timestamp}\"\n",
        "    logging.error(error_message)\n",
        "\n",
        "# just a flag statement to check if code working\n",
        "print(\"Program continues after the exception.\")"
      ],
      "metadata": {
        "id": "vOhqeo-iUoMD",
        "colab": {
          "base_uri": "https://localhost:8080/"
        },
        "outputId": "5134b6ee-77b6-40de-d9b0-d48deb656286"
      },
      "execution_count": 4,
      "outputs": [
        {
          "output_type": "stream",
          "name": "stderr",
          "text": [
            "ERROR:root:Exception type: ZeroDivisionError, Timestamp: 2023-09-10 09:32:36\n"
          ]
        },
        {
          "output_type": "stream",
          "name": "stdout",
          "text": [
            "Program continues after the exception.\n"
          ]
        }
      ]
    }
  ]
}