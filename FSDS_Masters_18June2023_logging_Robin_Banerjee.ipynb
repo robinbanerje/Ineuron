{
  "nbformat": 4,
  "nbformat_minor": 0,
  "metadata": {
    "colab": {
      "provenance": []
    },
    "kernelspec": {
      "name": "python3",
      "display_name": "Python 3"
    },
    "language_info": {
      "name": "python"
    }
  },
  "cells": [
    {
      "cell_type": "markdown",
      "source": [
        "1. What is the role of the 'else' block in a try-except statement? Provide an example scenario where it would be useful."
      ],
      "metadata": {
        "id": "X9K25ItrT2MH"
      }
    },
    {
      "cell_type": "markdown",
      "source": [
        "The else block in a try-except statement is executed if no exception is raised in the try block.\n",
        "```\n",
        "try:\n",
        "    # Attempt to open a file named \"example.txt\" for reading\n",
        "    file = open(\"example.txt\", \"r\")\n",
        "    \n",
        "    # Read the content of the file\n",
        "    data = file.read()\n",
        "    \n",
        "    # Close the file\n",
        "    file.close()\n",
        "\n",
        "except FileNotFoundError:\n",
        "    # Handle the case where the file is not found\n",
        "    print(\"File not found.\")\n",
        "except IOError:\n",
        "    # Handle any other IO-related errors\n",
        "    print(\"An error occurred while reading the file.\")\n",
        "    \n",
        "else:\n",
        "    # If no exceptions occurred, this block is executed\n",
        "    print(\"File read successfully:\")    \n",
        "    # Print the content of the file\n",
        "    print(data)\n",
        "```"
      ],
      "metadata": {
        "id": "G8rmV2ILGR65"
      }
    },
    {
      "cell_type": "markdown",
      "source": [
        "2. Can a try-except block be nested inside another try-except block? Explain with an example."
      ],
      "metadata": {
        "id": "UR6lk_gUUGSt"
      }
    },
    {
      "cell_type": "markdown",
      "source": [
        "Yes, try-except block can be nested inside another try-except block. This is known as exception handling within exception handling or nested exception handling. It allows for more fine-grained error handling in different parts of your code."
      ],
      "metadata": {
        "id": "ITgm7ZCekoTV"
      }
    },
    {
      "cell_type": "code",
      "source": [
        "try:\n",
        "    # Outer try block\n",
        "    num1 = int(input(\"Enter a numerator: \"))\n",
        "    num2 = int(input(\"Enter a denominator: \"))\n",
        "\n",
        "    # Attempt to perform division\n",
        "    result = num1 / num2\n",
        "except ValueError:\n",
        "    # Handle a ValueError if user inputs are not valid integers\n",
        "    print(\"Invalid input. Please enter valid integers.\")\n",
        "except ZeroDivisionError:\n",
        "    # Handle a ZeroDivisionError if the denominator is zero\n",
        "    print(\"Error: Division by zero.\")\n",
        "except Exception as e:\n",
        "    # Handle any other exceptions that might occur\n",
        "    print(\"An error occurred:\", e)\n",
        "else:\n",
        "    # If no exceptions occurred in the outer try block\n",
        "    print(\"Division result:\", result)\n",
        "    try:\n",
        "        # Inner try block for further processing of the result\n",
        "        square = result ** 2\n",
        "        print(\"Square of the result:\", square)\n",
        "    except Exception as e:\n",
        "        # Handle exceptions that may occur during inner processing\n",
        "        print(\"An error occurred during inner processing:\", e)\n",
        "finally:\n",
        "    # Code in the finally block always executes, regardless of exceptions\n",
        "    print(\"Execution completed.\")"
      ],
      "metadata": {
        "colab": {
          "base_uri": "https://localhost:8080/"
        },
        "id": "HxiH7GVwk9Fl",
        "outputId": "daaeb250-9021-4d92-8750-d6ff98eb367c"
      },
      "execution_count": 1,
      "outputs": [
        {
          "output_type": "stream",
          "name": "stdout",
          "text": [
            "Enter a numerator: 50\n",
            "Enter a denominator: 2\n",
            "Division result: 25.0\n",
            "Square of the result: 625.0\n",
            "Execution completed.\n"
          ]
        }
      ]
    },
    {
      "cell_type": "markdown",
      "source": [
        "3. How can you create a custom exception class in Python? Provide an example that demonstrates its usage."
      ],
      "metadata": {
        "id": "aCr83RVuUKEc"
      }
    },
    {
      "cell_type": "markdown",
      "source": [
        "4. What are some common exceptions that are built-in to Python?"
      ],
      "metadata": {
        "id": "mJquA_B8UOOM"
      }
    },
    {
      "cell_type": "markdown",
      "source": [
        "5. What is logging in Python, and why is it important in software development?"
      ],
      "metadata": {
        "id": "FPqU5uSEUR_C"
      }
    },
    {
      "cell_type": "markdown",
      "source": [
        "6. Explain the purpose of log levels in Python logging and provide examples of when each log level would be appropriate."
      ],
      "metadata": {
        "id": "1ZH0LEk4UVFV"
      }
    },
    {
      "cell_type": "markdown",
      "source": [
        "7. What are log formatters in Python logging, and how can you customise the log\n",
        "message format using formatters?"
      ],
      "metadata": {
        "id": "La9PLsV2UZfI"
      }
    },
    {
      "cell_type": "markdown",
      "source": [
        "8. How can you set up logging to capture log messages from multiple modules or\n",
        "classes in a Python application?"
      ],
      "metadata": {
        "id": "tY1JVKjoUb-6"
      }
    },
    {
      "cell_type": "markdown",
      "source": [
        "9. What is the difference between the logging and print statements in Python? When should you use logging over print statements in a real-world application?"
      ],
      "metadata": {
        "id": "5lgdlstUUew0"
      }
    },
    {
      "cell_type": "markdown",
      "source": [
        "10. Write a Python program that logs a message to a file named \"app.log\" with the\n",
        "following requirements:\n",
        "- The log message should be \"Hello, World!\"\n",
        "- The log level should be set to \"INFO.\"\n",
        "- The log file should append new log entries without overwriting previous ones."
      ],
      "metadata": {
        "id": "f5yCEymzUigu"
      }
    },
    {
      "cell_type": "markdown",
      "source": [
        "11. Create a Python program that logs an error message to the console and a file named \"errors.log\" if an exception occurs during the program's execution. The error message should include the exception type and a timestamp."
      ],
      "metadata": {
        "id": "z_Shy8e3Ul2W"
      }
    },
    {
      "cell_type": "code",
      "source": [],
      "metadata": {
        "id": "vOhqeo-iUoMD"
      },
      "execution_count": null,
      "outputs": []
    }
  ]
}