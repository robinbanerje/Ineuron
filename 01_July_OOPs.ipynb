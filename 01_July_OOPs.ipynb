{
  "nbformat": 4,
  "nbformat_minor": 0,
  "metadata": {
    "colab": {
      "provenance": []
    },
    "kernelspec": {
      "name": "python3",
      "display_name": "Python 3"
    },
    "language_info": {
      "name": "python"
    }
  },
  "cells": [
    {
      "cell_type": "markdown",
      "source": [
        "1. What is the primary goal of Object-Oriented Programming (OOP)?"
      ],
      "metadata": {
        "id": "Vj7iUiYf3Wwq"
      }
    },
    {
      "cell_type": "markdown",
      "source": [
        "Goal of OOP is to make code more modular, reusable, and maintainable.\n",
        "\n",
        "OOP does this by providing a number of features, such as:\n",
        "\n",
        "- Classes: A class is a blueprint for creating objects. It defines the data and methods that are associated with an object.\n",
        "- Objects: An object is an instance of a class. It has the data and methods defined by the class.\n",
        "- Inheritance: Inheritance allows you to create new classes that inherit the properties and methods of existing classes.\n",
        "- Encapsulation: Encapsulation binds together the data and methods of an object, and prevents them from being accessed directly.\n",
        "- Abstraction: Abstraction allows you to hide the implementation details of an object and only expose the relevant information to the user.\n",
        "- Polymorphism: Polymorphism allows you to create objects that can behave differently depending on their type."
      ],
      "metadata": {
        "id": "amf9reZsCg8P"
      }
    },
    {
      "cell_type": "markdown",
      "source": [
        "2. What is an object in Python?"
      ],
      "metadata": {
        "id": "PNGpjw5c3X-X"
      }
    },
    {
      "cell_type": "markdown",
      "source": [
        "An object in Python is a self-contained entity that has data and methods associated with it. Objects are created from classes, which are blueprints for creating objects.\n",
        "\n",
        "The data associated with an object is called its attributes. The methods associated with an object are called its functions."
      ],
      "metadata": {
        "id": "aapSglCqD6JE"
      }
    },
    {
      "cell_type": "code",
      "source": [
        "# Define a Car class\n",
        "class Car:\n",
        "    def __init__(self, make, model, year):\n",
        "        self.make = make\n",
        "        self.model = model\n",
        "        self.year = year\n",
        "\n",
        "    def honk(self):\n",
        "        return f\"{self.make} {self.model} honks!\"\n",
        "\n",
        "# Create two Car objects\n",
        "car1 = Car(\"TATA\", \"Nexon\", 2022)\n",
        "car2 = Car(\"Mahindra\", \"Thar\", 2023)\n",
        "\n",
        "# Interact with the Car objects\n",
        "print(f\"This is {car1.make} {car1.model} ({car1.year})\")\n",
        "print(car2.honk())"
      ],
      "metadata": {
        "colab": {
          "base_uri": "https://localhost:8080/"
        },
        "id": "spMANX_jEjFA",
        "outputId": "e54ed218-23ae-486b-ff63-5039543f1411"
      },
      "execution_count": null,
      "outputs": [
        {
          "output_type": "stream",
          "name": "stdout",
          "text": [
            "This is TATA Nexon (2022)\n",
            "Mahindra Thar honks!\n"
          ]
        }
      ]
    },
    {
      "cell_type": "markdown",
      "source": [
        "3. What is a class in Python?"
      ],
      "metadata": {
        "id": "d2r7Hfmn3dum"
      }
    },
    {
      "cell_type": "markdown",
      "source": [
        "A class in Python is a blueprint for creating objects. It defines the data and methods that are associated with an object."
      ],
      "metadata": {
        "id": "Je-eaVaC_v9V"
      }
    },
    {
      "cell_type": "code",
      "source": [
        "# Here is an example of a class in Python:\n",
        "\n",
        "class Point:\n",
        "  \"\"\"A Point object represents a point on a coordinate plane\"\"\"\n",
        "\n",
        "  def __init__(self, x, y):\n",
        "    \"\"\"Create a new Point object\"\"\"\n",
        "    self.x = x\n",
        "    self.y = y\n",
        "\n",
        "  def get_x(self):\n",
        "    \"\"\"Get the x-coordinate of the point\"\"\"\n",
        "    return self.x\n",
        "\n",
        "  def get_y(self):\n",
        "    \"\"\"Get the y-coordinate of the point\"\"\"\n",
        "    return self.y\n",
        "\n",
        "  def set_x(self, new_x):\n",
        "    \"\"\"Set the x-coordinate of the point\"\"\"\n",
        "    self.x = new_x\n",
        "\n",
        "  def set_y(self, new_y):\n",
        "    \"\"\"Set the y-coordinate of the point\"\"\"\n",
        "    self.y = new_y\n",
        "\n",
        "  def distance_from_origin(self):\n",
        "    \"\"\"distance of the point from the origin\"\"\"\n",
        "    return ((self.x ** 2) + (self.y ** 2)) ** 0.5\n",
        "\n",
        "# Create Point objects\n",
        "point1 = Point(3, 4)\n",
        "# Access attributes and call methods of the Point objects\n",
        "print(f\"Point 1: ({point1.get_x()}, {point1.get_y()})\")\n",
        "# Calculate and print the distance of each point from the origin\n",
        "print(f\"Distance of Point 1 from the origin: {point1.distance_from_origin()}\")"
      ],
      "metadata": {
        "colab": {
          "base_uri": "https://localhost:8080/"
        },
        "id": "6fpuQdG8GlpP",
        "outputId": "cf9c3099-9052-4f18-d9bc-54a9499a7342"
      },
      "execution_count": null,
      "outputs": [
        {
          "output_type": "stream",
          "name": "stdout",
          "text": [
            "Point 1: (3, 4)\n",
            "Distance of Point 1 from the origin: 5.0\n"
          ]
        }
      ]
    },
    {
      "cell_type": "markdown",
      "source": [
        "4. What are attributes and methods in a class?"
      ],
      "metadata": {
        "id": "bDQ0f1Qw3fyH"
      }
    },
    {
      "cell_type": "markdown",
      "source": [
        "Attributes:\n",
        "- Attributes are variables that belong to a class and store data associated with the class or its instances (objects).\n",
        "- They represent the properties or characteristics of the objects.\n",
        "- Attributes are defined within the class and can have different data types (eg: integers, strings, lists, other objects, etc).\n",
        "- Each instance (object) of the class can have its own set of attribute values.\n",
        "-Attributes are accessed and modified using dot notation, like object.attribute."
      ],
      "metadata": {
        "id": "0Yeg49c-Kj95"
      }
    },
    {
      "cell_type": "code",
      "source": [
        "class Person:\n",
        "    def __init__(self, name, age):\n",
        "        self.name = name  # 'name' is an attribute\n",
        "        self.age = age    # 'age' is an attribute\n",
        "\n",
        "person1 = Person(\"Robin\", 100)\n",
        "print(person1.name)  # Accessing the 'name' attribute of the 'person1' object"
      ],
      "metadata": {
        "colab": {
          "base_uri": "https://localhost:8080/"
        },
        "id": "9WoOSLemKzQW",
        "outputId": "4e24556e-c55e-49cc-a830-cee411057fb6"
      },
      "execution_count": null,
      "outputs": [
        {
          "output_type": "stream",
          "name": "stdout",
          "text": [
            "Robin\n"
          ]
        }
      ]
    },
    {
      "cell_type": "markdown",
      "source": [
        "Methods:\n",
        "- Methods are functions defined within a class that define the behaviors or actions that objects of the class can perform.\n",
        "- They operate on the data stored in the class's attributes or perform other tasks specific to the class.\n",
        "- Methods are called on instances (objects) of the class and can take arguments.\n",
        "- Methods are defined within the class and have access to the attributes and other methods of the class using the self parameter."
      ],
      "metadata": {
        "id": "zccylf0_K9F4"
      }
    },
    {
      "cell_type": "code",
      "source": [
        "class Circle:\n",
        "    def __init__(self, radius):\n",
        "        self.radius = radius  # 'radius' is an attribute\n",
        "\n",
        "    def area(self):\n",
        "        return 3.14 * self.radius ** 2  # 'area' is a method\n",
        "\n",
        "circle1 = Circle(10)\n",
        "print(circle1.area())  # Calling the 'area' method on 'circle1' object"
      ],
      "metadata": {
        "colab": {
          "base_uri": "https://localhost:8080/"
        },
        "id": "pZMoyHjfLEuD",
        "outputId": "c05cad21-1d50-4a06-8eab-4fb4640954ef"
      },
      "execution_count": null,
      "outputs": [
        {
          "output_type": "stream",
          "name": "stdout",
          "text": [
            "314.0\n"
          ]
        }
      ]
    },
    {
      "cell_type": "markdown",
      "source": [
        "5. What is the difference between class variables and instance variables in Python?"
      ],
      "metadata": {
        "id": "hxVtXLZz3h4n"
      }
    },
    {
      "cell_type": "markdown",
      "source": [
        "Class Variables:\n",
        "- Class variables are shared among all instances (objects) of a class.\n",
        "- They are defined within the class but outside of any instance methods (typically at the class level).\n",
        "- Class variables are used to store data that is common to all instances of the class.\n",
        "- They are accessed using the class name itself or an instance of the class.\n",
        "- If the value of a class variable is modified, the change is reflected in all instances of the class.\n",
        "\n",
        "Instance Variables:\n",
        "- Instance variables are specific to each instance (object) of a class.\n",
        "- They are defined within the class's methods, usually within the constructor method (__init__).\n",
        "- Instance variables represent the unique characteristics or attributes of individual objects.\n",
        "- They are accessed and modified using the object (instance) name.\n",
        "- Changes to instance variables only affect the specific instance they belong to."
      ],
      "metadata": {
        "id": "h-MOewuMF2my"
      }
    },
    {
      "cell_type": "code",
      "source": [
        "# exaample to understand the difference between class and instance variable\n",
        "\n",
        "class Point:\n",
        "  \"\"\"A Point object represents a point on a coordinate plane\"\"\"\n",
        "\n",
        "  # Class variable\n",
        "  color = \"red\"\n",
        "\n",
        "  def __init__(self, x, y):\n",
        "    \"\"\"Create a new Point object\"\"\"\n",
        "    # Instance variables\n",
        "    self.x = x\n",
        "    self.y = y\n",
        "\n",
        "  def get_x(self):\n",
        "    \"\"\"Get the x-coordinate of the point\"\"\"\n",
        "    return self.x\n",
        "\n",
        "  def get_y(self):\n",
        "    \"\"\"Get the y-coordinate of the point\"\"\"\n",
        "    return self.y\n",
        "\n",
        "  def set_x(self, new_x):\n",
        "    \"\"\"Set the x-coordinate of the point\"\"\"\n",
        "    self.x = new_x\n",
        "\n",
        "  def set_y(self, new_y):\n",
        "    \"\"\"Set the y-coordinate of the point\"\"\"\n",
        "    self.y = new_y\n",
        "\n",
        "  def distance_from_origin(self):\n",
        "    \"\"\"Calculate the distance of the point from the origin\"\"\"\n",
        "    return ((self.x ** 2) + (self.y ** 2)) ** 0.5\n",
        "\n",
        "point1 = Point(1, 2)\n",
        "point2 = Point(3, 4)\n",
        "\n",
        "# Access the class variable\n",
        "print(Point.color) # Output: red\n",
        "\n",
        "# Access the instance variable for point1\n",
        "print(point1.x) # Output: 1\n",
        "\n",
        "# Access the instance variable for point2\n",
        "print(point2.y) # Output: 4"
      ],
      "metadata": {
        "colab": {
          "base_uri": "https://localhost:8080/"
        },
        "id": "uP7SQSG6GKTq",
        "outputId": "949225df-397d-4e34-bf33-c2e5371bb297"
      },
      "execution_count": 1,
      "outputs": [
        {
          "output_type": "stream",
          "name": "stdout",
          "text": [
            "red\n",
            "1\n",
            "4\n"
          ]
        }
      ]
    },
    {
      "cell_type": "markdown",
      "source": [
        "6. What is the purpose of the self parameter in Python class methods?"
      ],
      "metadata": {
        "id": "hV6RURKg3lFI"
      }
    },
    {
      "cell_type": "markdown",
      "source": [
        "\n",
        "The self parameter in Python class methods is a reference to the current instance of the class. It is used to access the attributes and methods of the instance. The self parameter is a way for the method to access its own data.\n",
        "\n",
        "```\n",
        "class Point:\n",
        "  \"\"\"A Point object represents a point on a coordinate plane\"\"\"\n",
        "\n",
        "  def __init__(self, x, y):\n",
        "    \"\"\"Create a new Point object\"\"\"\n",
        "    self.x = x\n",
        "    self.y = y\n",
        "\n",
        "  def distance_from_origin(self):\n",
        "    \"\"\"Calculate the distance of the point from the origin\"\"\"\n",
        "    return ((self.x ** 2) + (self.y ** 2)) ** 0.5\n",
        "\n",
        "  def print_point(self):\n",
        "    \"\"\"Print the point\"\"\"\n",
        "    print(\"(\" + str(self.x) + \", \" + str(self.y) + \")\")\n",
        "```\n",
        "- The distance_from_origin method does not need the self parameter, because it does not need to access any of the attributes of the instance.\n",
        "- The print_point method needs the self parameter, because it needs to access the x and y attributes of the instance."
      ],
      "metadata": {
        "id": "yL6YiAJyHHJD"
      }
    },
    {
      "cell_type": "code",
      "source": [
        "class Point:\n",
        "  \"\"\"A Point object represents a point on a coordinate plane\"\"\"\n",
        "\n",
        "  def __init__(self, x, y):\n",
        "    \"\"\"Create a new Point object\"\"\"\n",
        "    self.x = x\n",
        "    self.y = y\n",
        "\n",
        "  def distance_from_origin(self):\n",
        "    \"\"\"Calculate the distance of the point from the origin\"\"\"\n",
        "    return ((self.x ** 2) + (self.y ** 2)) ** 0.5\n",
        "\n",
        "  def print_point(self):\n",
        "    \"\"\"Print the point\"\"\"\n",
        "    print(\"(\" + str(self.x) + \", \" + str(self.y) + \")\")\n",
        "\n",
        "point = Point(1, 2)\n",
        "point.print_point()"
      ],
      "metadata": {
        "colab": {
          "base_uri": "https://localhost:8080/"
        },
        "id": "HziSdf3rIMJN",
        "outputId": "e089fa10-3fae-46a4-c4ab-cc378ab6abba"
      },
      "execution_count": 5,
      "outputs": [
        {
          "output_type": "stream",
          "name": "stdout",
          "text": [
            "(1, 2)\n"
          ]
        }
      ]
    },
    {
      "cell_type": "markdown",
      "source": [
        "7. For a library management system, you have to design the \"Book\" class with OOP\n",
        "principles in mind. The “Book” class will have following attributes:\n",
        "\n",
        "a. title: Represents the title of the book.\n",
        "\n",
        "b. author: Represents the author(s) of the book.\n",
        "\n",
        "c. isbn: Represents the ISBN (International Standard Book Number) of the book.\n",
        "\n",
        "d. publication_year: Represents the year of publication of the book.\n",
        "\n",
        "e. available_copies: Represents the number of copies available for checkout.\n",
        "\n",
        "The class will also include the following methods:\n",
        "\n",
        "a. check_out(self): Decrements the available copies by one if there are copies\n",
        "available for checkout.\n",
        "\n",
        "b. return_book(self): Increments the available copies by one when a book is\n",
        "returned.\n",
        "\n",
        "c. display_book_info(self): Displays the information about the book, including its attributes and the number of available copies"
      ],
      "metadata": {
        "id": "mu5UnWJM3oIF"
      }
    },
    {
      "cell_type": "markdown",
      "source": [
        "8. For a ticket booking system, you have to design the \"Ticket\" class with OOP\n",
        "principles in mind. The “Ticket” class should have the following attributes:\n",
        "\n",
        "\n",
        "a. ticket_id: Represents the unique identifier for the ticket.\n",
        "\n",
        "b. event_name: Represents the name of the event.\n",
        "\n",
        "c. event_date: Represents the date of the event.\n",
        "\n",
        "d. venue: Represents the venue of the event.\n",
        "\n",
        "e. seat_number: Represents the seat number associated with the ticket.\n",
        "\n",
        "f. price: Represents the price of the ticket.\n",
        "\n",
        "g. is_reserved: Represents the reservation status of the ticket.\n",
        "\n",
        "The class also includes the following methods:\n",
        "\n",
        "a. reserve_ticket(self): Marks the ticket as reserved if it is not already reserved.\n",
        "\n",
        "b. cancel_reservation(self): Cancels the reservation of the ticket if it is already reserved.\n",
        "\n",
        "c. display_ticket_info(self): Displays the information about the ticket, including its attributes and reservation status."
      ],
      "metadata": {
        "id": "nk9_Dmri4BWa"
      }
    },
    {
      "cell_type": "markdown",
      "source": [
        "9. You are creating a shopping cart for an e-commerce website. Using OOP to model the \"ShoppingCart\" functionality the class should contain following attributes and methods:\n",
        "\n",
        "a. items: Represents the list of items in the shopping cart.\n",
        "\n",
        "The class also includes the following methods:\n",
        "\n",
        "a. add_item(self, item): Adds an item to the shopping cart by appending it to the list of items.\n",
        "\n",
        "b. remove_item(self, item): Removes an item from the shopping cart if it exists in the list.\n",
        "\n",
        "c. view_cart(self): Displays the items currently present in the shopping cart.\n",
        "\n",
        "d. clear_cart(self): Clears all items from the shopping cart by reassigning an\n",
        "empty list to the items attribute."
      ],
      "metadata": {
        "id": "t6vxa_9t4RVe"
      }
    },
    {
      "cell_type": "markdown",
      "source": [
        "10. Imagine a school management system. You have to design the \"Student\" class using OOP concepts.The “Student” class has the following attributes:\n",
        "\n",
        "a. name: Represents the name of the student.\n",
        "\n",
        "b. age: Represents the age of the student.\n",
        "\n",
        "c. grade: Represents the grade or class of the student.\n",
        "\n",
        "d. student_id: Represents the unique identifier for the student.\n",
        "\n",
        "e. attendance: Represents the attendance record of the student.\n",
        "\n",
        "The class should also include the following methods:\n",
        "\n",
        "a. update_attendance(self, date, status): Updates the attendance record of the\n",
        "student for a given date with the provided status (e.g., present or absent).\n",
        "\n",
        "b. get_attendance(self): Returns the attendance record of the student.\n",
        "\n",
        "c. get_average_attendance(self): Calculates and returns the average\n",
        "attendance percentage of the student based on their attendance record."
      ],
      "metadata": {
        "id": "12pl5sSh4jjU"
      }
    },
    {
      "cell_type": "code",
      "execution_count": null,
      "metadata": {
        "id": "6ovkVFbG3KGt"
      },
      "outputs": [],
      "source": []
    }
  ]
}