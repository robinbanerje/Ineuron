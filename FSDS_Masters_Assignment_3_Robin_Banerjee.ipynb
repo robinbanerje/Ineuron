{
  "nbformat": 4,
  "nbformat_minor": 0,
  "metadata": {
    "colab": {
      "provenance": []
    },
    "kernelspec": {
      "name": "python3",
      "display_name": "Python 3"
    },
    "language_info": {
      "name": "python"
    }
  },
  "cells": [
    {
      "cell_type": "markdown",
      "source": [
        "1. Why are functions advantageous to have in your programs?"
      ],
      "metadata": {
        "id": "j03oqOEqEO6x"
      }
    },
    {
      "cell_type": "code",
      "execution_count": null,
      "metadata": {
        "id": "BfzIj7uoDurr"
      },
      "outputs": [],
      "source": [
        "'''\n",
        "Modularity: Functions break down complex tasks into smaller, manageable pieces of code\n",
        "'''\n",
        "def calculate_sum(a, b):\n",
        "    return a + b\n",
        "##########################################\n",
        "'''\n",
        "Reusability: Functions can be called multiple times, saving time and effort\n",
        "'''\n",
        "def greet(name):\n",
        "    return f\"Hello, {name}!\"\n",
        "\n",
        "print(greet(\"Robin\"))  # Output: \"Hello, Alice!\"\n",
        "print(greet(\"Banerjee\"))    # Output: \"Hello, Bob!\"\n",
        "\n",
        "###########################################\n",
        "'''\n",
        "Abstraction: Functions hide implementation details, providing a high-level interface\n",
        "'''\n",
        "def send_email(to, subject, message):\n",
        "    # Code to send an email\n",
        "\n",
        "###########################################\n",
        "'''\n",
        "Readability: Functions with meaningful names make the code easier to understand\n",
        "'''\n",
        "def calculate_area(radius):\n",
        "    return 3.14 * radius ** 2\n",
        "\n",
        "###########################################\n",
        "\n",
        "'''\n",
        "Debugging and Testing: Isolating functions for testing helps identify and fix errors efficiently\n",
        "'''\n",
        "def divide(a, b):\n",
        "    return a / b\n",
        "\n",
        "# Unit test\n",
        "assert divide(10, 2) == 5\n",
        "assert divide(10, 0)  # Raises a ZeroDivisionError"
      ]
    },
    {
      "cell_type": "markdown",
      "source": [
        "2. When does the code in a function run: when it's specified or when it's called?"
      ],
      "metadata": {
        "id": "kyWL2KzLGGxE"
      }
    },
    {
      "cell_type": "code",
      "source": [
        "# The code in a function runs when the function is called, not when it is specified/defined.\n",
        "# Function definition\n",
        "def greet():\n",
        "    print(\"Hello, World!\")\n",
        "\n",
        "# Function call\n",
        "greet()"
      ],
      "metadata": {
        "id": "duxHR0ZgGraM"
      },
      "execution_count": null,
      "outputs": []
    },
    {
      "cell_type": "markdown",
      "source": [
        "3. What statement creates a function?"
      ],
      "metadata": {
        "id": "x1xPc7S1G1o0"
      }
    },
    {
      "cell_type": "markdown",
      "source": [
        "The def statement is used to define a new function in Python. It is followed by the function name, a pair of parentheses (), and a colon :\n",
        "\n",
        "The body of the function, where the code to be executed is defined, is indented below the def statement.\n",
        "\n",
        "```\n",
        "def function_name(parameters):\n",
        "    # Function body\n",
        "    # Code to be executed\n",
        "    # ...\n",
        "```"
      ],
      "metadata": {
        "id": "j_eWxIOiHFPP"
      }
    },
    {
      "cell_type": "markdown",
      "source": [
        "4. What is the difference between a function and a function call?"
      ],
      "metadata": {
        "id": "QEMN0v99HTO3"
      }
    },
    {
      "cell_type": "markdown",
      "source": [
        "Function: A function is a block of code that performs a specific task. It is defined using the def statement and given a name.\n",
        "\n",
        "```\n",
        "def add_numbers(a, b):\n",
        "    return a + b\n",
        "```\n",
        "\n",
        "Function Call: A function call is when you use the function's name followed by parentheses to execute the code inside the function. It may pass specific values as inputs (arguments) to the function.\n",
        "```\n",
        "result = add_numbers(5, 3)\n",
        "```"
      ],
      "metadata": {
        "id": "yBRrzLerHzVb"
      }
    },
    {
      "cell_type": "markdown",
      "source": [
        "5. How many global scopes are there in a Python program? How many local scopes?"
      ],
      "metadata": {
        "id": "SXe08GQvIAfO"
      }
    }
  ]
}