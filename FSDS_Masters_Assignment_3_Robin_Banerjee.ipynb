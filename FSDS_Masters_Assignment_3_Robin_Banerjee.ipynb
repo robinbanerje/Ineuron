{
  "nbformat": 4,
  "nbformat_minor": 0,
  "metadata": {
    "colab": {
      "provenance": []
    },
    "kernelspec": {
      "name": "python3",
      "display_name": "Python 3"
    },
    "language_info": {
      "name": "python"
    }
  },
  "cells": [
    {
      "cell_type": "markdown",
      "source": [
        "1. Why are functions advantageous to have in your programs?"
      ],
      "metadata": {
        "id": "j03oqOEqEO6x"
      }
    },
    {
      "cell_type": "code",
      "execution_count": null,
      "metadata": {
        "id": "BfzIj7uoDurr"
      },
      "outputs": [],
      "source": [
        "'''\n",
        "Modularity: Functions break down complex tasks into smaller, manageable pieces of code\n",
        "'''\n",
        "def calculate_sum(a, b):\n",
        "    return a + b\n",
        "##########################################\n",
        "'''\n",
        "Reusability: Functions can be called multiple times, saving time and effort\n",
        "'''\n",
        "def greet(name):\n",
        "    return f\"Hello, {name}!\"\n",
        "\n",
        "print(greet(\"Robin\"))  # Output: \"Hello, Alice!\"\n",
        "print(greet(\"Banerjee\"))    # Output: \"Hello, Bob!\"\n",
        "\n",
        "###########################################\n",
        "'''\n",
        "Abstraction: Functions hide implementation details, providing a high-level interface\n",
        "'''\n",
        "def send_email(to, subject, message):\n",
        "    # Code to send an email\n",
        "\n",
        "###########################################\n",
        "'''\n",
        "Readability: Functions with meaningful names make the code easier to understand\n",
        "'''\n",
        "def calculate_area(radius):\n",
        "    return 3.14 * radius ** 2\n",
        "\n",
        "###########################################\n",
        "\n",
        "'''\n",
        "Debugging and Testing: Isolating functions for testing helps identify and fix errors efficiently\n",
        "'''\n",
        "def divide(a, b):\n",
        "    return a / b\n",
        "\n",
        "# Unit test\n",
        "assert divide(10, 2) == 5\n",
        "assert divide(10, 0)  # Raises a ZeroDivisionError"
      ]
    },
    {
      "cell_type": "markdown",
      "source": [
        "2. When does the code in a function run: when it's specified or when it's called?"
      ],
      "metadata": {
        "id": "kyWL2KzLGGxE"
      }
    },
    {
      "cell_type": "code",
      "source": [
        "# The code in a function runs when the function is called, not when it is specified/defined.\n",
        "# Function definition\n",
        "def greet():\n",
        "    print(\"Hello, World!\")\n",
        "\n",
        "# Function call\n",
        "greet()"
      ],
      "metadata": {
        "id": "duxHR0ZgGraM"
      },
      "execution_count": null,
      "outputs": []
    },
    {
      "cell_type": "markdown",
      "source": [
        "3. What statement creates a function?"
      ],
      "metadata": {
        "id": "x1xPc7S1G1o0"
      }
    },
    {
      "cell_type": "markdown",
      "source": [
        "The def statement is used to define a new function in Python. It is followed by the function name, a pair of parentheses (), and a colon :\n",
        "\n",
        "The body of the function, where the code to be executed is defined, is indented below the def statement.\n",
        "\n",
        "```\n",
        "def function_name(parameters):\n",
        "    # Function body\n",
        "    # Code to be executed\n",
        "    # ...\n",
        "```"
      ],
      "metadata": {
        "id": "j_eWxIOiHFPP"
      }
    },
    {
      "cell_type": "markdown",
      "source": [
        "4. What is the difference between a function and a function call?"
      ],
      "metadata": {
        "id": "QEMN0v99HTO3"
      }
    },
    {
      "cell_type": "markdown",
      "source": [
        "Function: A function is a block of code that performs a specific task. It is defined using the def statement and given a name.\n",
        "\n",
        "```\n",
        "def add_numbers(a, b):\n",
        "    return a + b\n",
        "```\n",
        "\n",
        "Function Call: A function call is when you use the function's name followed by parentheses to execute the code inside the function. It may pass specific values as inputs (arguments) to the function.\n",
        "```\n",
        "result = add_numbers(5, 3)\n",
        "```"
      ],
      "metadata": {
        "id": "yBRrzLerHzVb"
      }
    },
    {
      "cell_type": "markdown",
      "source": [
        "5. How many global scopes are there in a Python program? How many local scopes?"
      ],
      "metadata": {
        "id": "SXe08GQvIAfO"
      }
    },
    {
      "cell_type": "markdown",
      "source": [
        "- Global scope: Only one global scope exists for the entire Python program.\n",
        "\n",
        "- Local scopes: There can be multiple local scopes, with each function call creating a new local scope that is independent of other function calls."
      ],
      "metadata": {
        "id": "-Ig-A3sEome5"
      }
    },
    {
      "cell_type": "markdown",
      "source": [
        "6. What happens to variables in a local scope when the function call returns?"
      ],
      "metadata": {
        "id": "EEz5sHdRos3s"
      }
    },
    {
      "cell_type": "markdown",
      "source": [
        "When a function call returns, the variables defined within its local scope are destroyed, and the local scope is removed from memory. This process is known as \"variable scope and lifetime.\"\n",
        "\n",
        "```\n",
        "def add_numbers(a, b):\n",
        "    result = a + b   # 'result' is a variable in the local scope\n",
        "    return result\n",
        "\n",
        "sum_result = add_numbers(3, 5)\n",
        "print(sum_result)  # Output: 8\n",
        "\n",
        "# 'result' is not accessible here as the local scope of the function add_numbers is destroyed after the function call returns.\n",
        "# print(result)  # This would raise an error: NameError: name 'result' is not defined\n",
        "```"
      ],
      "metadata": {
        "id": "jBazCNGcpLZ7"
      }
    },
    {
      "cell_type": "markdown",
      "source": [
        "7. What is the concept of a return value? Is it possible to have a return value in an expression?"
      ],
      "metadata": {
        "id": "yt8b0V7MppQX"
      }
    },
    {
      "cell_type": "markdown",
      "source": [
        "The concept of a return value in programming refers to the value that a function provides as its output after it has finished executing. When a function is called, it may perform some operations and then use the return statement to pass back a value to the caller.\n",
        "\n",
        "In Python, functions can have a return value, but it is not mandatory. If a function does not use the return statement or has no return statement at all, it implicitly returns None.\n",
        "\n",
        "Yes, it is possible to have a return value in an expression. In fact, the return value of a function is often used in expressions.\n",
        "\n",
        "```\n",
        "def square(x):\n",
        "    return x * x\n",
        "\n",
        "# return values of the square function calls are used in expressions\n",
        "# to perform calculations and assignments\n",
        "result = square(4) + 10\n",
        "print(result)  # Output: 26\n",
        "\n",
        "value = square(square(2))\n",
        "print(value)   # Output: 16 (i.e., 2^2 = 4, then 4^2 = 16)\n",
        "\n",
        "```"
      ],
      "metadata": {
        "id": "TeEvachHpqbZ"
      }
    },
    {
      "cell_type": "markdown",
      "source": [
        "8. If a function does not have a return statement, what is the return value of a call to that function?"
      ],
      "metadata": {
        "id": "QoJfWnAPrIE5"
      }
    },
    {
      "cell_type": "code",
      "source": [
        "'''\n",
        "If a function does not have a return statement or has an empty return statement without any value, the function implicitly returns None.\n",
        "'''\n",
        "def greet(name):\n",
        "    print(f\"Hello {name}\")\n",
        "\n",
        "result = greet(\"Robin\")\n",
        "print(result)  # Output: None"
      ],
      "metadata": {
        "colab": {
          "base_uri": "https://localhost:8080/"
        },
        "id": "9dZY1xh0r3tU",
        "outputId": "e729018f-a909-491c-c381-a395283af0e5"
      },
      "execution_count": 3,
      "outputs": [
        {
          "output_type": "stream",
          "name": "stdout",
          "text": [
            "Hello Robin\n",
            "None\n"
          ]
        }
      ]
    },
    {
      "cell_type": "markdown",
      "source": [
        "9. How do you make a function variable refer to the global variable?"
      ],
      "metadata": {
        "id": "1rL92ddYrtGo"
      }
    },
    {
      "cell_type": "markdown",
      "source": [
        "To make a function variable refer to the global variable, the we should use the global keyword before the variable name inside the function. This informs Python that the variable within the function refers to the global variable with the same name. By doing this, the function can access and modify the global variable directly, affecting its value outside the function's scope."
      ],
      "metadata": {
        "id": "UPVKEBwLsQhw"
      }
    },
    {
      "cell_type": "code",
      "source": [
        "global_variable = 10\n",
        "\n",
        "def access_global_variable():\n",
        "    global global_variable  # Declare the variable as global\n",
        "    print(\"Inside the function:\", global_variable)\n",
        "    global_variable += 1    # Changing global variable value\n",
        "\n",
        "access_global_variable()  # Output: Inside the function: 10\n",
        "print(\"Outside the function:\", global_variable)  # Output: Outside the function: 11"
      ],
      "metadata": {
        "colab": {
          "base_uri": "https://localhost:8080/"
        },
        "id": "wQvGI8ChtYK5",
        "outputId": "a4db832e-1e2c-48a7-bb9b-432a168265a9"
      },
      "execution_count": 7,
      "outputs": [
        {
          "output_type": "stream",
          "name": "stdout",
          "text": [
            "Inside the function: 10\n",
            "Outside the function: 11\n"
          ]
        }
      ]
    },
    {
      "cell_type": "markdown",
      "source": [
        "10. What is the data type of None?"
      ],
      "metadata": {
        "id": "_xYV41AAtaI2"
      }
    },
    {
      "cell_type": "code",
      "source": [
        "# The data type of None in Python is NoneType\n",
        "\n",
        "print(type(None))"
      ],
      "metadata": {
        "colab": {
          "base_uri": "https://localhost:8080/"
        },
        "id": "D2YfgDOyuBmG",
        "outputId": "c0fde97c-f89c-43fa-ad2c-bc8a4e3c39e8"
      },
      "execution_count": 8,
      "outputs": [
        {
          "output_type": "stream",
          "name": "stdout",
          "text": [
            "<class 'NoneType'>\n"
          ]
        }
      ]
    },
    {
      "cell_type": "markdown",
      "source": [
        "11. What does the sentence import areallyourpetsnamederic do?"
      ],
      "metadata": {
        "id": "N5OrvnkLuWLp"
      }
    },
    {
      "cell_type": "markdown",
      "source": [
        "That import statement imports a module named areallyourpetsnamederic. (This isn't a real Python module though)"
      ],
      "metadata": {
        "id": "0KeFrEzNwPK4"
      }
    },
    {
      "cell_type": "code",
      "source": [
        "pip install areallyourpetsnamederic"
      ],
      "metadata": {
        "colab": {
          "base_uri": "https://localhost:8080/"
        },
        "id": "ZrnW_Fp3wVrl",
        "outputId": "cac65dde-18b5-4780-9028-32c6292a485a"
      },
      "execution_count": 11,
      "outputs": [
        {
          "output_type": "stream",
          "name": "stdout",
          "text": [
            "\u001b[31mERROR: Could not find a version that satisfies the requirement areallyourpetsnamederic (from versions: none)\u001b[0m\u001b[31m\n",
            "\u001b[0m\u001b[31mERROR: No matching distribution found for areallyourpetsnamederic\u001b[0m\u001b[31m\n",
            "\u001b[0m"
          ]
        }
      ]
    },
    {
      "cell_type": "code",
      "source": [
        "import areallyourpetsnamederic"
      ],
      "metadata": {
        "colab": {
          "base_uri": "https://localhost:8080/",
          "height": 305
        },
        "id": "pZuVhibYuG_r",
        "outputId": "49ddb117-f6ca-4cba-e608-b27a31d805db"
      },
      "execution_count": 12,
      "outputs": [
        {
          "output_type": "error",
          "ename": "ModuleNotFoundError",
          "evalue": "ignored",
          "traceback": [
            "\u001b[0;31m---------------------------------------------------------------------------\u001b[0m",
            "\u001b[0;31mModuleNotFoundError\u001b[0m                       Traceback (most recent call last)",
            "\u001b[0;32m<ipython-input-12-b1ea9cb2228f>\u001b[0m in \u001b[0;36m<cell line: 1>\u001b[0;34m()\u001b[0m\n\u001b[0;32m----> 1\u001b[0;31m \u001b[0;32mimport\u001b[0m \u001b[0mareallyourpetsnamederic\u001b[0m\u001b[0;34m\u001b[0m\u001b[0;34m\u001b[0m\u001b[0m\n\u001b[0m",
            "\u001b[0;31mModuleNotFoundError\u001b[0m: No module named 'areallyourpetsnamederic'",
            "",
            "\u001b[0;31m---------------------------------------------------------------------------\u001b[0;32m\nNOTE: If your import is failing due to a missing package, you can\nmanually install dependencies using either !pip or !apt.\n\nTo view examples of installing some common dependencies, click the\n\"Open Examples\" button below.\n\u001b[0;31m---------------------------------------------------------------------------\u001b[0m\n"
          ],
          "errorDetails": {
            "actions": [
              {
                "action": "open_url",
                "actionText": "Open Examples",
                "url": "/notebooks/snippets/importing_libraries.ipynb"
              }
            ]
          }
        }
      ]
    },
    {
      "cell_type": "markdown",
      "source": [
        "12. If you had a bacon() feature in a spam module, what would you call it after importing spam?"
      ],
      "metadata": {
        "id": "gHc9IkgbwliI"
      }
    },
    {
      "cell_type": "markdown",
      "source": [
        "After importing the spam module in Python, you can call the bacon() function by using the module name followed by the function name separated by a dot.\n",
        "```\n",
        "import spam\n",
        "spam.bacon()\n",
        "```"
      ],
      "metadata": {
        "id": "kUGN290ew6-Z"
      }
    },
    {
      "cell_type": "markdown",
      "source": [
        "13. What can you do to save a programme from crashing if it encounters an error?"
      ],
      "metadata": {
        "id": "XTnKpa7qxAP6"
      }
    },
    {
      "cell_type": "markdown",
      "source": [
        "To save a program from crashing when it encounters an error, you can use error handling techniques. In Python, you can handle errors using the try, except, and optionally finally blocks.\n",
        "```\n",
        "try:\n",
        "  print(1 / 0)\n",
        "except ZeroDivisionError:\n",
        "  print(\"Cannot divide by zero\")\n",
        "```"
      ],
      "metadata": {
        "id": "z2OrOVPGxO2k"
      }
    },
    {
      "cell_type": "markdown",
      "source": [
        "14. What is the purpose of the try clause? What is the purpose of the except clause?"
      ],
      "metadata": {
        "id": "U8T8rmvhxXej"
      }
    },
    {
      "cell_type": "markdown",
      "source": [
        "The purpose of the try clause in Python is to enclose a block of code that may raise an exception. It allows us to test a piece of code for errors or exceptions that might occur during its execution.\n",
        "\n",
        "If an exception is raised within the try block, the program execution jumps to the corresponding except block."
      ],
      "metadata": {
        "id": "RYacBGkmxpWj"
      }
    }
  ]
}