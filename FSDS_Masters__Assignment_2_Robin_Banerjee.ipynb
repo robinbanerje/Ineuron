{
  "nbformat": 4,
  "nbformat_minor": 0,
  "metadata": {
    "colab": {
      "provenance": []
    },
    "kernelspec": {
      "name": "python3",
      "display_name": "Python 3"
    },
    "language_info": {
      "name": "python"
    }
  },
  "cells": [
    {
      "cell_type": "markdown",
      "source": [
        "1. What are the two values of the Boolean data type? How do you write them?"
      ],
      "metadata": {
        "id": "FLSZiA-XD1VC"
      }
    },
    {
      "cell_type": "code",
      "source": [
        "'''\n",
        "The two values of the Boolean data type are True and False\n",
        "They are written as True and False in Python code. For example:\n",
        "'''\n",
        "is_True = True\n",
        "is_False = False\n",
        "\n",
        "print(is_True)  # Output: True\n",
        "print(is_False)  # Output: False"
      ],
      "metadata": {
        "colab": {
          "base_uri": "https://localhost:8080/"
        },
        "id": "0u-IdCVZESwC",
        "outputId": "bb09602a-5180-4146-ae19-2537b5188e7a"
      },
      "execution_count": 1,
      "outputs": [
        {
          "output_type": "stream",
          "name": "stdout",
          "text": [
            "True\n",
            "False\n"
          ]
        }
      ]
    },
    {
      "cell_type": "markdown",
      "source": [
        "2. What are the three different types of Boolean operators?"
      ],
      "metadata": {
        "id": "uh5UGY-XD9ZA"
      }
    },
    {
      "cell_type": "code",
      "source": [
        "'''\n",
        "AND Operator:\n",
        "The and operator returns True only if both of its operands are True\n",
        "Otherwise, it returns False\n",
        "'''\n",
        "x = True\n",
        "y = False\n",
        "print(x and y)  # Output: False\n",
        "#####################################################\n",
        "'''\n",
        "OR Operator:\n",
        "The or operator returns True if at least one of its operands is True\n",
        "If both operands are False, it returns False\n",
        "'''\n",
        "x = True\n",
        "y = False\n",
        "print(x or y)  # Output: True\n",
        "######################################################\n",
        "'''\n",
        "NOT Operator:\n",
        "The not operator is a unary operator that returns the opposite of its operand's boolean value\n",
        "If the operand is True, not returns False, and if the operand is False, not returns True\n",
        "'''\n",
        "x = True\n",
        "y = False\n",
        "print(not x)  # Output: False\n",
        "print(not y)  # Output: True"
      ],
      "metadata": {
        "colab": {
          "base_uri": "https://localhost:8080/"
        },
        "id": "4xs68WBaEliv",
        "outputId": "85b89637-8bc5-4205-968b-83a84979969d"
      },
      "execution_count": 2,
      "outputs": [
        {
          "output_type": "stream",
          "name": "stdout",
          "text": [
            "False\n",
            "True\n",
            "False\n",
            "True\n"
          ]
        }
      ]
    },
    {
      "cell_type": "markdown",
      "source": [
        "3. Make a list of each Boolean operator's truth tables (i.e. every possible combination of Boolean values for the operator and what it evaluate)."
      ],
      "metadata": {
        "id": "z-okvahgHZRQ"
      }
    },
    {
      "cell_type": "markdown",
      "source": [
        "AND Operator\n",
        "\n",
        "![image.png](data:image/png;base64,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)\n",
        "\n",
        "\n",
        "OR Operator\n",
        "\n",
        "![image.png](data:image/png;base64,iVBORw0KGgoAAAANSUhEUgAAAM0AAABtCAYAAAACoOWHAAAOBklEQVR4Ae1d7W3kOAydOq6sAFvJdRBMK9lK7jYFXAWL/bHXxMEHfZCiniR/MOPxmGaAwLItUeLje5LsyMrtr8+/J/z9+fPn5L+OgXOgz4HbBD9BQP6zjEAglP8sI2ABJ/TBRbMc924OBLKbyS/GGcvZYcBYu2iUEUUglWbMF7OAE/rgolHSFoFUmjFfzAJO6IOLRklbBFJpxnwxCzihD+tF8+tjervdppv4vX+eLeY/pnto/7eP6fds03O+9x/DXAgkZ7wCTujjDJ4tThlbwSPi1Nv3+agwxl9M/P7+Fnm8lr/owzrRfN5jJdIpqlhe+6IvTyi+QjTZ1xjIraK5BE6/p49vofO8T6lLyecD4SDhpqkfgx/vwebb9PFrfxoQd6VofryP60YfVoim72Rw7ZmOPgbKsS/BPoF5+/aWRtVNohnbtoYTxmLOPyTcSDRTp8PBeh51TnEm0cy1P9SJPiyLZs6ZfA8rv7+n4S/01jgSpQbmaV7VOxHp7tM99mRZ+bkOGsJvgsjs/HcxdaxsCiHEtnzMTs+Cvdhemn6IujBgCORs0I3hVGOR4zYYJRqcBiNNF78q9vVIQLEnXkie0T3iJdqW9ynds0N+og+LoiGj3ACyFI7ZKWowCYLOsWyt6Aw2E7MDfibvyB7ZJyHRObcVyE/3F59poJx0mdIIJNnmuimjZZx4tjF+TkScRiNNzY0Rt/KUEHiBZZtYAE/xPpaXoQtp9GEH0YgeoSIfjSTlITw1lubG7X1ufNXj3CYiJjqPIm7uj3o5rignqnbjzXSOQLZ1iXIQtCZIVX0tDq+KU2pXmjVQTITXMYk4sWiaFwGCNyxGcS1jGOshvAYvdZpYAP54v4kHOIE+LIoGiVjZg8a0lUsC5PQQLJk318LgJPDQWTzHts63p/KkPqF6eRSsb4czBBLrrkoYxImwj9OaLThhx5WxKS8WEnJSkDR1CkeadbT3qfMtU3IWMuBPbaf7LU+q6DWxXhYNOinsYWV4PlXk64hC2OIeSDyToHNL50hczN+ro2oCnVTtpov1sRHNlXBiot8mmhrX6JSzNTixAIT4Gi4Vk5ASnXEu38T9+aIp80sJEDWMlB88QecpT1/RKCI8Lz1GqqOAQ/bQPoqmFm2xt8czTYwkkUkEn9poByd65Tx+jpGsXiMa7sxuZeqNsaxEBCKgODPGcJ94SfcpJjWPxFRQOtCZVawYabIF6n3F9IoqpTrYse/p7zpyOK3z5Ldn/K4/3G1FM00iQGFofr/HV8Ej5xHoWCcRecXbM2ojBUF2EnwvJ1oy5BvWcer4l6ZPfdK1OPXiLDpmyQkRu1BHxTe4V8dK8uZt+sh8HPJG+iQ6PIo5+rBeNGRh5siiecIfqGaa8ZRbCOSWSh2nLWgdnxdj7aJRxgSB3GLGRbMFrePzYqxdNMqYIJBbzLhotqB1fF6M9UNFc7x7z2sBAvm8ms9VkwWc0AcXjZKDCKTSjPliFnBCH264qUY4D5n81zFwDvQ54CONsq/H3kdpxnwxCzihDy4aJW0RSKUZ88Us4IQ+uGiUtEUglWbMF7OAE/rgolHSFoFUmjFfzAJO6IOLRklbBFJpxnwxCzihD4uiSX+Io7VicMzrdIZ55DqeuL6nsz4JrtNiurSeqa6vWnt0MN0QyCEGYa2e48TROiNOGOtF0bC3tIpZCiHfjEDg9bwIjokO4mC7cD2KRnwewPleLIFAyuZ18Rjh5zhJ6GK6i9+BOGGs9xMNkgTEwUjB9cuJxnFiKlCiK5oDcXLRUGS+eEQgpblVQRcFqvzQiXA2uO6dS9hMZeV0/4szF4z1fiNNDLL4BgKCPksG8c0OP9t80XGu70EJBFKarUQgbnSvO04CoZR8NZww1o8TTYfo9NFPhGKLaF5MIE1UO1/zyTzdoNP0wnFiqM6C036iES8C0huwstFBQil9sccvBgg6ENOVph2OU3mzSHQIRxTT0Tg9RTTseDViDEQTP1stAruSaByndaI5GqeniYa++ZdTtNiDyG/AaQ8AHKUqsQXIXu8HgZQtxJ6S7vWvp87EcSKU2pEm3TkOJ4z1455pBPHJ/TSsipcBNPTKeT2UozL8AkDklcSiOo46IpCyHX1xjMhQdsmRU9fUwYg/7jpOvNf2s3HCWG8SjSTG1dMI5NXxGPlvASf0wUUzivbCdQRyIftlb1vACX1w0SjpjEAqzZgvZgEn9MFFo6QtAqk0Y76YBZzQBxeNkrYIpNKM+WIWcEIffGMN30TEN1HZyAEfaZR9PfY+SjPmi1nACX1w0Shpi0AqzZgvZgEn9MFFo6QtAqk0Y76YBZzQBxeNkrYIpNKM+WIWcEIfXDRK2iKQSjPmi1nACX1YFE2zBkqsBfMNIyTn04LC3po5uVaKFrISdpWF9/6q35IH66i/XJxbt1e3oVjcO4WEOyOf0IdF0UhQNy1E/MoXiadc5ZwIvUjO8CnE+326V6u9E8ojfPPd6S7+UWu8doJvkZBwZ+QT+rCfaGhFM63OhQAzeHD9vN/TrBFN+rd29890xFXbs6IBnAi/UIbsvCJ2SDhqdziO/F11fYBH+tePZQR+BCbog4tGRnFDGoGkadfsSBMDnT646wVzRJbUrCRKEkivqT2bvXzPvNbiVGof+bvquknRRKfEtzRbnJTPTZR+sSlbSwZ83kjfwkiSR1LTyBv/MW/pEQOVRmRhmsE/Z0WBRvuElzweiF2LE3sz9LeLw4F8Qh8eN9LIIOW0JAwOmwwdiOkVe0tuq0ggkMsjTZiStSKRGHXJIuqUyZg34lxsviJ2LU7Fi5G/xTfxEd7C8xxb3YFP6MPjRMM9KH2JWL77Tw4N5vw7OMkA7phAIBdFA6NEectWcBqRaM6NWCaPJKZE80J8wljvIpoQZBnMFPSBaMxsrDHwLzM+4CFHlR4mc6KJghBEymbTJ8DGRRN8PZJPTxMN9bySKNHx6lVreosk/2bxir0lEVQeEUjyF58zUpkgqDKNknakUGRa5onpPKeXeFKddO0VsWtxKp6N/O1fT50S+RqsxHxP4BP6sNtIE5yKQbyJlwHsqJirQu9JZcr0peSVgBXoj0khkETgnmhmyRxH2iSoRILib8JAii0RR2Ij63tF7FqcSrz64hi/ECH/pM8NZjvwCX3YJJrirqcQSEekj4AFnNAHF00/1otXEcjFAhfNYAEn9MFFoyQzAqk0Y76YBZzQBxeNkrYIpNKM+WIWcEIfXDRK2iKQSjPmi1nACX3wjTU2bqoQAPTfa2PgI42yr8feR2nGfDELOKEPLholbRFIpRnzxSzghD64aJS0RSCVZswXs4AT+uCiUdIWgVSaMV/MAk7og4tGSVsEUmnGfDELOKEPK0TTrneitU9yDRCtvZKLL4kRozVGdJ/L8jc5cr1VWcNG9cpj3YZice8UAtmsgWJfymYZwzxyvRR8KsF+wHVahyWxoPRRmHBbRcICTujDatEsBiIsPPQNIyJdRp1E93pevcz4gjiYf3B9dhEoFzo+gYSTLeriQYt6ZUcSCh2IE/rwINH4hhFqMiBJQBxsF65fTjQH4rSPaGJAfcMIIvimHvRAMlB79zwi4WRdZ8EJfVg90tB8mY7y25bY6/Fw2n5wNQKHAYRPgXmqkjMM5+++YcRE8eDjgZhwPEUCCSduWd5YI70IQCIX533DiIJFSo06iXhdviDIadkB2d+ApKB1FpxQ+KtHmqFoYJTgHk98hjoCp8DXpmIZ49++pxG0bKyRJRd30mzwvvAzzdE4PVw0gdxVTxkjX49Oc6Kpp3ZFPPG6cdEEb2XnMCua2DkVgUl8Cmqvl0LCyRaOeNG7fiRO6MMXR5r2+YVAkY7LNN3nY+xBUXhJdCTGVyQIAsn+kBD4Ga/c6eNQ+xpyx3xipJ4mSxuQLOEx2iPgOJww1l8SzSyZY8/oG0YUiozIUP54K6dkSThikw0QYcS+83wUpsfU2ci6j0oj4WQ7+p3I6+GEPqwQjXTT04QAAknX/VgjYAEn9MFFU8d49RkCubrgxTJawAl9cNEoSYxAKs2YL2YBJ/TBRaOkLQKpNGO+mAWc0AcXjZK2CKTSjPliFnBCH3xjDd8owzcK2cgBH2mUfT32Pkoz5otZwAl9cNEoaYtAKs2YL2YBJ/TBRaOkLQKpNGO+mAWc0AcXjZK2CKTSjPliFnBCH1w0StoikEoz5otZwAl9WCGatFCuLPkv66HkWineHAPWSAVWjNYYFcZgHefbWIP976wHc5xKpM+Ik1o0deAlCDkdFmheemONJHzHqeYGEo5Ecyac0IfVI828k76xxjoyOE5nxGkf0fjGGmES2v/iUna8jtMpcVKLBp9p5Dcb8dsOfpYJ5KmfSRafaeCTaRzVht+OHLiJBAJJonGcZC8xxdUG9RV8fk3PyK/MJ4z1A6ZnvrFGIsXSSOM4nRWnx4sGRonS05bv2RdHmrorimexzKn2CFgQjeOUo3w+nB4umkBuObT2epM50dRTu6KeeN2QaBwniu28aF4RpweLJgBQP78wNO+w8Tc/81COfDSzscYcGRynEvXz4fRQ0cjRoICSU3E6cqWNNcZkcJwkO86Hk0I00mFPEwIIJF33Y42ABZzQhxVvz2oQ/CwhgEA6Ln0ELOCEPrho+rFevIpALha4aAYLOKEPLholmRFIpRnzxSzghD64aJS0RSCVZswXs4AT+uAba2zcVCEA6L/XwuCPP/+d5O/tn1//TfL3r8+/zfd+j3AQe59H2LRowwJOUjAh7aJRMtUCGZSubypmAScSDTnuoiEkNh4tkGGjy6rsFnBC0fwPElQPKR+dCc8AAAAASUVORK5CYII=)\n",
        "\n",
        "\n",
        "NOT Operator\n",
        "\n",
        "![image.png](data:image/png;base64,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)"
      ],
      "metadata": {
        "id": "jQb3TtCFH2Bm"
      }
    },
    {
      "cell_type": "markdown",
      "source": [
        "4. What are the values of the following expressions?\n",
        "\n",
        "(5 > 4) and (3 == 5)\n",
        "\n",
        "not (5 > 4)\n",
        "\n",
        "(5 > 4) or (3 == 5)\n",
        "\n",
        "not ((5 > 4) or (3 == 5))\n",
        "\n",
        "(True and True) and (True == False)\n",
        "\n",
        "(not False) or (not True)"
      ],
      "metadata": {
        "id": "Xm-qpv6AJgZH"
      }
    },
    {
      "cell_type": "code",
      "source": [
        "print((5 > 4) and (3 == 5)) # False and False => False\n",
        "print(not (5 > 4)) # not True => False\n",
        "print((5 > 4) or (3 == 5)) # True or False => True\n",
        "print(not ((5 > 4) or (3 == 5))) # not True => False\n",
        "print((True and True) and (True == False)) # True and False => False\n",
        "print((not False) or (not True)) # True or False => True"
      ],
      "metadata": {
        "colab": {
          "base_uri": "https://localhost:8080/"
        },
        "id": "17L0pfb2KwQd",
        "outputId": "a0ac978d-b301-4335-968f-f34279dd8648"
      },
      "execution_count": 5,
      "outputs": [
        {
          "output_type": "stream",
          "name": "stdout",
          "text": [
            "False\n",
            "False\n",
            "True\n",
            "False\n",
            "False\n",
            "True\n"
          ]
        }
      ]
    },
    {
      "cell_type": "markdown",
      "source": [
        "5. What are the six comparison operators?"
      ],
      "metadata": {
        "id": "lsQxza9zJhBE"
      }
    },
    {
      "cell_type": "markdown",
      "source": [
        "![image.png](data:image/png;base64,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)"
      ],
      "metadata": {
        "id": "S-p3AHO4M53-"
      }
    },
    {
      "cell_type": "markdown",
      "source": [
        "6. How do you tell the difference between the equal to and assignment operators? Describe a condition and when you would use one."
      ],
      "metadata": {
        "id": "2XLXVepjNAGD"
      }
    },
    {
      "cell_type": "code",
      "source": [
        "'''\n",
        "The equal to operator (==) and the assignment operator (=) are two different operators\n",
        "'''\n",
        "x = 5       # assigning values to variable with = operator\n",
        "y = 5\n",
        "\n",
        "if x == y:  # comparing the values of x and y with == operator\n",
        "    print(\"x and y are equal.\")\n",
        "else:\n",
        "    print(\"x and y are not equal.\")\n",
        "\n",
        "\n",
        "# To distinguish between the equal to operator and the assignment operator\n",
        "# == is used to compare values\n",
        "#  = is used to assign values to variables"
      ],
      "metadata": {
        "colab": {
          "base_uri": "https://localhost:8080/"
        },
        "id": "39LhXG65NOYE",
        "outputId": "714b0dc6-14b6-4546-f24a-f94f2c03c9b7"
      },
      "execution_count": 9,
      "outputs": [
        {
          "output_type": "stream",
          "name": "stdout",
          "text": [
            "x and y are equal.\n"
          ]
        }
      ]
    },
    {
      "cell_type": "markdown",
      "source": [
        "7. Identify the three blocks in this code:\n",
        "\n",
        "spam = 0\n",
        "\n",
        "if spam == 10:\n",
        "\n",
        "print('eggs')\n",
        "\n",
        "if spam > 5:\n",
        "\n",
        "print('bacon')\n",
        "\n",
        "else:\n",
        "\n",
        "print('ham')\n",
        "\n",
        "print('spam')\n",
        "\n",
        "print('spam')"
      ],
      "metadata": {
        "id": "4tRCkymiO6bd"
      }
    },
    {
      "cell_type": "code",
      "source": [
        "'''\n",
        "# The first block is the if statement that checks if spam is equal to 10\n",
        "The block is indented four spaces, and it contains the code that will be executed if the condition is true\n",
        "# The second block is the if statement that checks if spam is greater than 5\n",
        "The block is indented four spaces, and it contains the code that will be executed if the condition is true\n",
        "# The third block is the else statement\n",
        "The block is indented eight spaces, and it contains the code that will be executed if the conditions in the first two if statements are false\n",
        "'''\n",
        "\n",
        "spam = 0\n",
        "\n",
        "# First block\n",
        "if spam == 10:\n",
        "  print('eggs')\n",
        "\n",
        "# Second block\n",
        "if spam > 5:\n",
        "  print('bacon')\n",
        "\n",
        "# Third block (else)\n",
        "else:\n",
        "  print('ham')\n",
        "  print('spam')\n",
        "  print('spam')"
      ],
      "metadata": {
        "colab": {
          "base_uri": "https://localhost:8080/"
        },
        "id": "T_f-v0h2OOjB",
        "outputId": "457b0317-f4ba-4105-a12d-1ec8dd541775"
      },
      "execution_count": 12,
      "outputs": [
        {
          "output_type": "stream",
          "name": "stdout",
          "text": [
            "ham\n",
            "spam\n",
            "spam\n"
          ]
        }
      ]
    },
    {
      "cell_type": "markdown",
      "source": [
        "8. Write code that prints Hello if 1 is stored in spam, prints Howdy if 2 is stored in spam, and prints Greetings! if anything else is stored in spam."
      ],
      "metadata": {
        "id": "QZET-BeBRYWb"
      }
    },
    {
      "cell_type": "code",
      "source": [
        "spam = 1  # value of spam to test different cases.\n",
        "\n",
        "if spam == 1:\n",
        "    print(\"Hello\")\n",
        "elif spam == 2:\n",
        "    print(\"Howdy\")\n",
        "else:\n",
        "    print(\"Greetings!\")"
      ],
      "metadata": {
        "colab": {
          "base_uri": "https://localhost:8080/"
        },
        "id": "p2HqUAe5RjpV",
        "outputId": "7f980cad-9866-42db-cf3a-8f11de63317e"
      },
      "execution_count": 13,
      "outputs": [
        {
          "output_type": "stream",
          "name": "stdout",
          "text": [
            "Hello\n"
          ]
        }
      ]
    },
    {
      "cell_type": "markdown",
      "source": [
        "9. If your programme is stuck in an endless loop, what keys you’ll press?"
      ],
      "metadata": {
        "id": "8n37hpwWSC0U"
      }
    },
    {
      "cell_type": "markdown",
      "source": [
        "Ctrl + C: This key combination will interrupt the program's execution and terminate it.\n",
        "\n",
        "It will generate a KeyboardInterrupt exception and stop the execution of the program."
      ],
      "metadata": {
        "id": "eEwL0n-kSGje"
      }
    },
    {
      "cell_type": "markdown",
      "source": [
        "10. How can you tell the difference between break and continue?"
      ],
      "metadata": {
        "id": "TMZylVGFSpOB"
      }
    },
    {
      "cell_type": "code",
      "source": [
        "# The break and continue statements are both used to alter the flow of control within loops in Python, but they serve different purposes.\n",
        "\n",
        "'''\n",
        "break statement:\n",
        "\n",
        "The break statement is used to terminate the loop prematurely when a specific condition is met.\n",
        "When the break statement is encountered inside a loop (for loop or while loop), the loop is immediately exited, and the program continues with the first statement after the loop.\n",
        "It is often used to stop the loop early when a certain condition is satisfied, even if the loop's original termination condition has not been reached.\n",
        "'''\n",
        "for i in range(1, 6):\n",
        "    if i == 3:\n",
        "        break\n",
        "    print(f\"i = {i}\")\n",
        "print(\"----------\")\n",
        "'''\n",
        "continue statement:\n",
        "\n",
        "The continue statement is used to skip the rest of the current iteration and move to the next iteration of the loop.\n",
        "When the continue statement is encountered inside a loop, the current iteration is terminated, and the loop moves to the next iteration without executing the remaining statements inside the loop's body.\n",
        "It is typically used to skip certain iterations based on a condition without exiting the loop entirely.\n",
        "'''\n",
        "for j in range(1, 6):\n",
        "    if j == 3:\n",
        "        continue\n",
        "    print(f\"j = {j}\")"
      ],
      "metadata": {
        "colab": {
          "base_uri": "https://localhost:8080/"
        },
        "id": "U9ofvFdLTyIm",
        "outputId": "eafb5128-f920-46d4-fc09-4871fe101384"
      },
      "execution_count": 17,
      "outputs": [
        {
          "output_type": "stream",
          "name": "stdout",
          "text": [
            "i = 1\n",
            "i = 2\n",
            "----------\n",
            "j = 1\n",
            "j = 2\n",
            "j = 4\n",
            "j = 5\n"
          ]
        }
      ]
    },
    {
      "cell_type": "markdown",
      "source": [
        "11. In a for loop, what is the difference between range(10), range(0, 10), and range(0, 10, 1)?"
      ],
      "metadata": {
        "id": "CjT0QYS2Sxax"
      }
    },
    {
      "cell_type": "markdown",
      "source": [
        "- range(n): This form of the range() function generates a sequence of numbers from 0 to n - 1. For example, range(10) will generate the sequence of numbers 0, 1, 2, 3, 4, 5, 6, 7, 8, 9\n",
        "\n",
        "- range(start, stop): This form of the range() function generates a sequence of numbers from start to stop - 1. For example, range(0, 10) will generate the same sequence of numbers as range(10)\n",
        "\n",
        "- range(start, stop, step): This form of the range() function generates a sequence of numbers from start to stop - 1, with a step size of step. For example, range(0, 10, 1) will generate the sequence of numbers 0, 1, 2, 3, 4, 5, 6, 7, 8, 9"
      ],
      "metadata": {
        "id": "lOtwlqLyU8Sc"
      }
    },
    {
      "cell_type": "markdown",
      "source": [
        "12. Write a short program that prints the numbers 1 to 10 using a for loop. Then write an equivalent program that prints the numbers 1 to 10 using a while loop."
      ],
      "metadata": {
        "id": "YulI3OsKVpud"
      }
    },
    {
      "cell_type": "code",
      "source": [
        "# Using a for loop\n",
        "for i in range(1, 11):\n",
        "    print(i, end=\" \")"
      ],
      "metadata": {
        "colab": {
          "base_uri": "https://localhost:8080/"
        },
        "id": "d7zl2YL_V1Yh",
        "outputId": "2e702578-58c2-4b47-a5df-b3a891a18eef"
      },
      "execution_count": 19,
      "outputs": [
        {
          "output_type": "stream",
          "name": "stdout",
          "text": [
            "1 2 3 4 5 6 7 8 9 10 "
          ]
        }
      ]
    },
    {
      "cell_type": "code",
      "source": [
        "# Using a while loop\n",
        "i = 1\n",
        "while i <= 10:\n",
        "    print(i, end=\" \")\n",
        "    i += 1"
      ],
      "metadata": {
        "colab": {
          "base_uri": "https://localhost:8080/"
        },
        "id": "JLbfpbD-V8K5",
        "outputId": "d686115f-af16-4d9d-93a3-fa7935a229c0"
      },
      "execution_count": 20,
      "outputs": [
        {
          "output_type": "stream",
          "name": "stdout",
          "text": [
            "1 2 3 4 5 6 7 8 9 10 "
          ]
        }
      ]
    },
    {
      "cell_type": "markdown",
      "source": [
        "13. If you had a function named bacon() inside a module named spam, how would you call it after importing spam?"
      ],
      "metadata": {
        "id": "LgBULOuwWTXD"
      }
    },
    {
      "cell_type": "code",
      "source": [
        "import spam\n",
        "spam.bacon(<function arguments>)  # calling bacon function from spam module"
      ],
      "metadata": {
        "id": "OgiqieMKWSPs"
      },
      "execution_count": null,
      "outputs": []
    }
  ]
}