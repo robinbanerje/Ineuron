{
  "nbformat": 4,
  "nbformat_minor": 0,
  "metadata": {
    "colab": {
      "provenance": []
    },
    "kernelspec": {
      "name": "python3",
      "display_name": "Python 3"
    },
    "language_info": {
      "name": "python"
    }
  },
  "cells": [
    {
      "cell_type": "markdown",
      "source": [
        "1. What is the role of try and exception block?"
      ],
      "metadata": {
        "id": "eHuDw94VvPn5"
      }
    },
    {
      "cell_type": "markdown",
      "source": [
        "The try and except blocks in Python are used for handling exceptions or errors that might occur during the execution of code.\n",
        "\n",
        "- The try block contains the code that might raise an exception. If an exception occurs within the try block, the program doesn't terminate but instead jumps to the corresponding except block to handle the exception.\n",
        "\n",
        "- The except block specifies the type of exception it can handle and the code to execute when that exception occurs. It prevents the program from crashing and allows for graceful error handling."
      ],
      "metadata": {
        "id": "SGMEFexlfDkA"
      }
    },
    {
      "cell_type": "markdown",
      "source": [
        "2. What is the syntax for a basic try-except block?"
      ],
      "metadata": {
        "id": "j4PCUD70vYua"
      }
    },
    {
      "cell_type": "markdown",
      "source": [
        "```\n",
        "# syntax for a try and except block\n",
        "try:\n",
        "  # Code need to test\n",
        "except Exception as e:\n",
        "  # Code to handle the exception\n",
        "```\n",
        "- The Exception keyword is a generic exception that can be used to catch any type of exception. Ther are also specific exceptions, such as ValueError, IndexError, or KeyError.\n",
        "- The `as` keyword is used to bind the exception to a variable. This allows to access the information about the exception, such as the type of exception and the message."
      ],
      "metadata": {
        "id": "UPEJU316f2Yu"
      }
    },
    {
      "cell_type": "markdown",
      "source": [
        "3. What happens if an exception occurs inside a try block and there is no matching except block?"
      ],
      "metadata": {
        "id": "PH65VXwyvmKb"
      }
    },
    {
      "cell_type": "markdown",
      "source": [
        "4. What is the difference between using a bare except block and specifying a specific exception type?"
      ],
      "metadata": {
        "id": "HJOqabbJvsSZ"
      }
    },
    {
      "cell_type": "markdown",
      "source": [
        "5. Can you have nested try-except blocks in Python? If yes, then give an example."
      ],
      "metadata": {
        "id": "_Wa4a3wPvwlY"
      }
    },
    {
      "cell_type": "markdown",
      "source": [
        "6. Can we use multiple exception blocks, if yes then give an example."
      ],
      "metadata": {
        "id": "E1YlL4vovzAd"
      }
    },
    {
      "cell_type": "markdown",
      "source": [
        "7. Write the reason due to which following errors are raised:\n",
        "\n",
        "```\n",
        "a. EOFError\n",
        "b. FloatingPointError\n",
        "c. IndexError\n",
        "d. MemoryError\n",
        "e. OverflowError\n",
        "f. TabError\n",
        "g. ValueError\n",
        "```"
      ],
      "metadata": {
        "id": "QvbGoO1yv1QZ"
      }
    },
    {
      "cell_type": "markdown",
      "source": [
        "8. Write code for the following given scenario and add try-exception block to it.\n",
        "\n",
        "```\n",
        "a. Program to divide two numbers\n",
        "b. Program to convert a string to an integer\n",
        "c. Program to access an element in a list\n",
        "d. Program to handle a specific exception\n",
        "e. Program to handle any exception\n",
        "```"
      ],
      "metadata": {
        "id": "7JfruVuewUqp"
      }
    }
  ]
}