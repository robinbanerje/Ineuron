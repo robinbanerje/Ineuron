{
  "nbformat": 4,
  "nbformat_minor": 0,
  "metadata": {
    "colab": {
      "provenance": []
    },
    "kernelspec": {
      "name": "python3",
      "display_name": "Python 3"
    },
    "language_info": {
      "name": "python"
    }
  },
  "cells": [
    {
      "cell_type": "markdown",
      "source": [
        "1. What is the role of try and exception block?"
      ],
      "metadata": {
        "id": "eHuDw94VvPn5"
      }
    },
    {
      "cell_type": "markdown",
      "source": [
        "The try and except blocks in Python are used for handling exceptions or errors that might occur during the execution of code.\n",
        "\n",
        "- The try block contains the code that might raise an exception. If an exception occurs within the try block, the program doesn't terminate but instead jumps to the corresponding except block to handle the exception.\n",
        "\n",
        "- The except block specifies the type of exception it can handle and the code to execute when that exception occurs. It prevents the program from crashing and allows for graceful error handling."
      ],
      "metadata": {
        "id": "SGMEFexlfDkA"
      }
    },
    {
      "cell_type": "markdown",
      "source": [
        "2. What is the syntax for a basic try-except block?"
      ],
      "metadata": {
        "id": "j4PCUD70vYua"
      }
    },
    {
      "cell_type": "markdown",
      "source": [
        "```\n",
        "# syntax for a try and except block\n",
        "try:\n",
        "  # Code need to test\n",
        "except Exception as e:\n",
        "  # Code to handle the exception\n",
        "```\n",
        "- The Exception keyword is a generic exception that can be used to catch any type of exception. Ther are also specific exceptions, such as ValueError, IndexError, or KeyError.\n",
        "- The `as` keyword is used to bind the exception to a variable. This allows to access the information about the exception, such as the type of exception and the message."
      ],
      "metadata": {
        "id": "UPEJU316f2Yu"
      }
    },
    {
      "cell_type": "markdown",
      "source": [
        "3. What happens if an exception occurs inside a try block and there is no matching except block?"
      ],
      "metadata": {
        "id": "PH65VXwyvmKb"
      }
    },
    {
      "cell_type": "markdown",
      "source": [
        "\n",
        "- If an exception occurs inside a try block and there is no matching except block, the program will terminate. This is because the Python interpreter does not know how to handle the exception.\n",
        "- To handle exceptions effectively and prevent unhandled exceptions, it's recommended to include except blocks that cover the types of exceptions that could potentially occur within the try block. This way, the program can gracefully handle errors and continue running even if exceptions arise."
      ],
      "metadata": {
        "id": "FlA3nAL6r4oH"
      }
    },
    {
      "cell_type": "code",
      "source": [
        "'''\n",
        "In this example, if the user enters a non-numeric string, the int() function will throw an exception\n",
        "This exception will not be handled by the except block, so the program will terminate\n",
        "'''\n",
        "try:\n",
        "  number = int(input(\"Enter a number: \"))\n",
        "# except ValueError:\n",
        "#   print(\"Invalid input. Please enter a number.\")"
      ],
      "metadata": {
        "colab": {
          "base_uri": "https://localhost:8080/",
          "height": 141
        },
        "id": "n9mn7m8ltR-K",
        "outputId": "f33125e2-c21b-4b78-eae8-c7df502f237d"
      },
      "execution_count": null,
      "outputs": [
        {
          "output_type": "error",
          "ename": "SyntaxError",
          "evalue": "ignored",
          "traceback": [
            "\u001b[0;36m  File \u001b[0;32m\"<ipython-input-7-cdf12192212c>\"\u001b[0;36m, line \u001b[0;32m8\u001b[0m\n\u001b[0;31m    #   print(\"Invalid input. Please enter a number.\")\u001b[0m\n\u001b[0m                                                      ^\u001b[0m\n\u001b[0;31mSyntaxError\u001b[0m\u001b[0;31m:\u001b[0m incomplete input\n"
          ]
        }
      ]
    },
    {
      "cell_type": "code",
      "source": [
        "'''\n",
        "In this example, if the user enters a non-numeric string,\n",
        "the ValueError exception will be handled by the except block and the program will not terminate\n",
        "'''\n",
        "try:\n",
        "  number = int(input(\"Enter a number: \"))\n",
        "except ValueError:\n",
        "  print(\"Invalid input. Please enter a number.\")"
      ],
      "metadata": {
        "colab": {
          "base_uri": "https://localhost:8080/"
        },
        "id": "ftp3dNl0t9KW",
        "outputId": "25c52c15-d936-46f6-e854-ca485dfa02a3"
      },
      "execution_count": null,
      "outputs": [
        {
          "output_type": "stream",
          "name": "stdout",
          "text": [
            "Enter a number: da$@Q1\n",
            "Invalid input. Please enter a number.\n"
          ]
        }
      ]
    },
    {
      "cell_type": "markdown",
      "source": [
        "4. What is the difference between using a bare except block and specifying a specific exception type?"
      ],
      "metadata": {
        "id": "HJOqabbJvsSZ"
      }
    },
    {
      "cell_type": "markdown",
      "source": [
        "- A bare except block is a catch-all block that will handle any type of exception. This can be useful if you are not sure what type of exception might occur. However, it can also be dangerous, as it can mask errors that you should be aware of.\n",
        "```\n",
        "try:\n",
        "    # Code that may raise exceptions\n",
        "except:\n",
        "    # Handling any exception here\n",
        "```\n",
        "\n",
        "- A specific exception type will only catch that specific exception. This is more precise and can help you to debug your code more easily. However, it can also be more difficult to write, as you need to know the specific exception that you are trying to catch.\n",
        "```\n",
        "try:\n",
        "    # Code that may raise exceptions\n",
        "except ValueError:\n",
        "    # Handling only ValueError here\n",
        "except ZeroDivisionError:\n",
        "    # Handling only ZeroDivisionError here\n",
        "```"
      ],
      "metadata": {
        "id": "zY1oba0ku0XW"
      }
    },
    {
      "cell_type": "markdown",
      "source": [
        "5. Can you have nested try-except blocks in Python? If yes, then give an example."
      ],
      "metadata": {
        "id": "_Wa4a3wPvwlY"
      }
    },
    {
      "cell_type": "code",
      "source": [
        "# outer try block handles ValueError that might occur when converting user input to an integer\n",
        "try:\n",
        "    outer_num = int(input(\"Enter a number: \"))\n",
        "    # nested try block that handles a ZeroDivisionError that might occur when dividing 10 by the user-input number\n",
        "    try:\n",
        "        result = 10 / outer_num\n",
        "        print(\"Result:\", result)\n",
        "    except ZeroDivisionError:\n",
        "        print(\"Nested try-except error: Cannot divide by zero.\")\n",
        "except ValueError:\n",
        "    print(\"Outer try-except error: Please enter a valid number.\")"
      ],
      "metadata": {
        "colab": {
          "base_uri": "https://localhost:8080/"
        },
        "id": "4Z89OTCtwy2-",
        "outputId": "7962f0db-6e88-4c4a-dfb9-e0d8b2153b3c"
      },
      "execution_count": 3,
      "outputs": [
        {
          "output_type": "stream",
          "name": "stdout",
          "text": [
            "Enter a number: 0\n",
            "Nested try-except error: Cannot divide by zero.\n"
          ]
        }
      ]
    },
    {
      "cell_type": "code",
      "source": [
        "# outer try block handles ValueError that might occur when converting user input to an integer\n",
        "try:\n",
        "    outer_num = int(input(\"Enter a number: \"))\n",
        "    # nested try block that handles a ZeroDivisionError that might occur when dividing 10 by the user-input number\n",
        "    try:\n",
        "        result = 10 / outer_num\n",
        "        print(\"Result:\", result)\n",
        "    except ZeroDivisionError:\n",
        "        print(\"Nested try-except error: Cannot divide by zero.\")\n",
        "except ValueError:\n",
        "    print(\"Outer try-except error: Please enter a valid number.\")"
      ],
      "metadata": {
        "colab": {
          "base_uri": "https://localhost:8080/"
        },
        "id": "e9sQNfelxW-X",
        "outputId": "dae11467-a448-40af-a57b-5afa1ea78718"
      },
      "execution_count": 4,
      "outputs": [
        {
          "output_type": "stream",
          "name": "stdout",
          "text": [
            "Enter a number: dssf#13\n",
            "Outer try-except error: Please enter a valid number.\n"
          ]
        }
      ]
    },
    {
      "cell_type": "markdown",
      "source": [
        "6. Can we use multiple exception blocks, if yes then give an example."
      ],
      "metadata": {
        "id": "E1YlL4vovzAd"
      }
    },
    {
      "cell_type": "code",
      "source": [
        "try:\n",
        "    num = int(input(\"Enter a number: \"))\n",
        "    result = 10 / num\n",
        "    print(\"Result:\", result)\n",
        "# ValueError that might occur when converting user input to an integer\n",
        "except ValueError:\n",
        "    print(\"Invalid input. Please enter a valid number.\")\n",
        "# ZeroDivisionError that might occur when dividing 10 by the user-input number\n",
        "except ZeroDivisionError:\n",
        "    print(\"Cannot divide by zero.\")\n",
        "# general Exception type to catch any other unhandled exceptions\n",
        "except Exception as e:\n",
        "    print(\"An error occurred:\", e)"
      ],
      "metadata": {
        "colab": {
          "base_uri": "https://localhost:8080/"
        },
        "id": "oAeAm4kLz_bu",
        "outputId": "d8bdd6e4-0f5c-450b-9af7-820602a7f840"
      },
      "execution_count": 5,
      "outputs": [
        {
          "output_type": "stream",
          "name": "stdout",
          "text": [
            "Enter a number: 0\n",
            "Cannot divide by zero.\n"
          ]
        }
      ]
    },
    {
      "cell_type": "markdown",
      "source": [
        "7. Write the reason due to which following errors are raised:\n",
        "\n",
        "```\n",
        "a. EOFError\n",
        "b. FloatingPointError\n",
        "c. IndexError\n",
        "d. MemoryError\n",
        "e. OverflowError\n",
        "f. TabError\n",
        "g. ValueError\n",
        "```"
      ],
      "metadata": {
        "id": "QvbGoO1yv1QZ"
      }
    },
    {
      "cell_type": "markdown",
      "source": [
        "8. Write code for the following given scenario and add try-exception block to it.\n",
        "\n",
        "```\n",
        "a. Program to divide two numbers\n",
        "b. Program to convert a string to an integer\n",
        "c. Program to access an element in a list\n",
        "d. Program to handle a specific exception\n",
        "e. Program to handle any exception\n",
        "```"
      ],
      "metadata": {
        "id": "7JfruVuewUqp"
      }
    }
  ]
}